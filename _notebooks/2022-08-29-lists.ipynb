{
 "cells": [
  {
   "cell_type": "markdown",
   "metadata": {},
   "source": [
    "# Lists\n",
    "> An introduction to Data Abstraction using Python Lists [] and Python Dictionaries {}.\n",
    "\n",
    "- title: Lists\n",
    "- toc: true\n",
    "- categories: [units, Week 2]\n",
    "- permalink: /python_lists\n",
    "- categories: [Week 2, jupyter]\n",
    "- tags: [python]"
   ]
  },
  {
   "cell_type": "code",
   "execution_count": 1,
   "metadata": {},
   "outputs": [
    {
     "name": "stdout",
     "output_type": "stream",
     "text": [
      "\n",
      "Recursive loop output:\n",
      "\n",
      "Soham Kamat\n",
      "\t Residence: San Diego\n",
      "\t Birth Day: March 9\n",
      "\t Cars: None\n",
      "\n",
      "Ryan Hakimipour\n",
      "\t Residence: San Diego\n",
      "\t Birth Day: June 15\n",
      "\t Cars: None\n",
      "\n",
      "Aniket Chakradeo\n",
      "\t Residence: San Diego\n",
      "\t Birth Day: February 20\n",
      "\t Cars: None\n",
      "\n",
      "Lucas Kamat\n",
      "\t Residence: San Diego\n",
      "\t Birth Day: December 16\n",
      "\t Cars: None\n",
      "\n"
     ]
    }
   ],
   "source": [
    "# Define an empty List called InfoDb\n",
    "InfoDb = [] #this is the empty dictionary that I will append things to\n",
    "\n",
    "# InfoDB is a data structure with expected Keys and Values\n",
    "\n",
    "# Append to List a Dictionary of key/values related to a person and cars\n",
    "#InfoDb.append({\n",
    "#    \"FirstName\": \"John\",\n",
    "#    \"LastName\": \"Mortensen\",\n",
    "#    \"DOB\": \"October 21\",\n",
    "#    \"Residence\": \"San Diego\",\n",
    "#    \"Email\": \"jmortensen@powayusd.com\",\n",
    "#    \"Owns_Cars\": [\"2015-Fusion\", \"2011-Ranger\", \"2003-Excursion\", \"1997-F350\", \"1969-Cadillac\"]\n",
    "#})\n",
    "\n",
    "#InfoDb.append({\n",
    "#    \"FirstName\": \"Sunny\",\n",
    "#    \"LastName\": \"Naidu\",\n",
    "#    \"DOB\": \"August 2\",\n",
    "#    \"Residence\": \"Temecula\",\n",
    "#    \"Email\": \"snaidu@powayusd.com\",\n",
    "#    \"Owns_Cars\": [\"4Runner\"],\n",
    "#})\n",
    "\n",
    "InfoDb.append({\n",
    "    \"FirstName\": \"Soham\",\n",
    "    \"LastName\": \"Kamat\",\n",
    "    \"DOB\": \"March 9\",\n",
    "    \"Residence\": \"San Diego\",\n",
    "    \"Email\": \"sohamk10039@stu.powayusd.com\",\n",
    "    \"Hair_Color\": \"Black\",\n",
    "    \"Grade\": \"10th\",\n",
    "    \"Age\": \"15\"\n",
    "    \"Owns_Cars\": [\"None\"],\n",
    "})\n",
    "\n",
    "InfoDb.append({\n",
    "    \"FirstName\": \"Ryan\",\n",
    "    \"LastName\": \"Hakimipour\",\n",
    "    \"DOB\": \"June 15\",\n",
    "    \"Residence\": \"San Diego\",\n",
    "    \"Email\": \"RyanHaki@gmail.com\",\n",
    "    \"Hair_Color\": \"Black\",\n",
    "    \"Grade\": \"10th\",\n",
    "    \"Age\": \"15\"\n",
    "    \"Owns_Cars\": [\"None\"],\n",
    "})\n",
    "\n",
    "InfoDb.append({\n",
    "    \"FirstName\": \"Aniket\",\n",
    "    \"LastName\": \"Chakradeo\",\n",
    "    \"DOB\": \"February 20\",\n",
    "    \"Residence\": \"San Diego\",\n",
    "    \"Email\": \"sohamk10039@stu.powayusd.com\",\n",
    "    \"Hair_Color\": \"Black\",\n",
    "    \"Grade\": \"10th\",\n",
    "    \"Age\": \"15\"\n",
    "    \"Owns_Cars\": [\"None\"],\n",
    "})\n",
    "\n",
    "InfoDb.append({\n",
    "    \"FirstName\": \"Lucas\",\n",
    "    \"LastName\": \"Kamat\",\n",
    "    \"DOB\": \"December 16\",\n",
    "    \"Residence\": \"San Diego\",\n",
    "    \"Email\": \"lucasmoore@gmail.com\",\n",
    "    \"Hair_Color\": \"Blonde\",\n",
    "    \"Grade\": \"10th\",\n",
    "    \"Age\": \"15\"\n",
    "    \"Owns_Cars\": [\"None\"],\n",
    "})\n",
    "#print(InfoDb) #Commented because the code below shows the information in a neater way\n",
    "\n",
    "def print_data(d_rec):\n",
    "    print(d_rec[\"FirstName\"], d_rec[\"LastName\"])  # using comma puts space between values\n",
    "    print(\"\\t\", \"Residence:\", d_rec[\"Residence\"]) # \\t is a tab indent\n",
    "    print(\"\\t\", \"Birth Day:\", d_rec[\"DOB\"])\n",
    "    print(\"\\t\", \"\")\n",
    "    print(\"\\t\", \"Cars: \", end=\"\")  # end=\"\" make sure no return occurs\n",
    "    print(\", \".join(d_rec[\"Owns_Cars\"]))  # join allows printing a string list with separator\n",
    "    print()\n",
    "\n",
    "def recursive_loop(i):\n",
    "    if i < len(InfoDb):\n",
    "        record = InfoDb[i]\n",
    "        print_data(record)\n",
    "        recursive_loop(i + 1)\n",
    "    return\n",
    "\n",
    "print(\"\\nRecursive loop output:\\n\")\n",
    "recursive_loop(0)"
   ]
  },
  {
   "cell_type": "markdown",
   "metadata": {},
   "source": [
    "For Loop in action"
   ]
  },
  {
   "cell_type": "code",
   "execution_count": null,
   "metadata": {},
   "outputs": [],
   "source": [
    "CandyTypes = [\"Skittles\", \"M&Ms\", \"Reeses Pieces\", \"Air Heads\", \"Dum Dums\", \"Hersheys\", \"Gummy Worms\", \"Twizzlers\", \"Jolly Ranchers\", \"Dots\", \"Nerds\", \"Crunch\"]\n",
    "# Using a for loop to iterate through list\n",
    "for i in CandyTypes:\n",
    "    print(i)"
   ]
  },
  {
   "cell_type": "markdown",
   "metadata": {},
   "source": [
    "Function that prints an input in reverse and tells you if it is a palindrome"
   ]
  },
  {
   "cell_type": "code",
   "execution_count": 1,
   "metadata": {},
   "outputs": [
    {
     "name": "stdout",
     "output_type": "stream",
     "text": [
      "bye\n",
      "eyb\n",
      "bye is not a palindrome\n"
     ]
    }
   ],
   "source": [
    "def isPalindrome(s): #function that prints the input and prints the input backwards\n",
    "\tprint(s)\n",
    "\tprint(s[::-1])\n",
    "\treturn s == s[::-1]\n",
    "\n",
    "s = input(\"Enter a word: \")\n",
    "ans = isPalindrome(s)\n",
    "\n",
    "if ans:\n",
    "\tprint(s + \" is a palindrome\")\n",
    "else:\n",
    "\tprint(s + \" is not a palindrome\")"
   ]
  },
  {
   "cell_type": "markdown",
   "metadata": {},
   "source": [
    "My Python Quiz"
   ]
  },
  {
   "cell_type": "code",
   "execution_count": 2,
   "metadata": {},
   "outputs": [
    {
     "name": "stdout",
     "output_type": "stream",
     "text": [
      "Hello, you will be asked 5 short questions about common conversions.\n",
      "Question: How many centimeters are in 12 meters\n",
      "1200 is correct\n",
      "Question: How many kilometers is 100,000 centimeters?\n",
      "1 is correct\n",
      "Question: How many yards are in 27 feet?\n",
      "9 is correct\n",
      "Question: How many milligrams are in 25 grams?\n",
      "25000 is correct\n",
      "Question: What is the unit used to measure time?\n",
      "Second is correct\n",
      "You scored 5/5. Good Job!\n"
     ]
    }
   ],
   "source": [
    "def PythonQuiz(prompt): # this is the function that prints the questions and accepts the input\n",
    "    global word\n",
    "    print (\"Question: \" + prompt)\n",
    "    word = input()\n",
    "    return word\n",
    "\n",
    "questions_number = 5 #this is the number of questions\n",
    "correct_answer = 0\n",
    "\n",
    "print(\"Hello, you will be asked \" + str(questions_number) + \" short questions about common conversions.\") #This is the question that starts the quiz\n",
    "\n",
    "MyQuiz=[]\n",
    "\n",
    "MyQuiz.append({ #These are the questions\n",
    "    \"How many centimeters are in 12 meters\": \"1200\",\n",
    "    \"How many kilometers is 100,000 centimeters?\": \"1\",\n",
    "    \"How many yards are in 27 feet?\": \"9\",\n",
    "    \"How many milligrams are in 25 grams?\": \"25000\",\n",
    "    \"What is the unit used to measure time?\": \"Second\",\n",
    "})\n",
    "\n",
    "\n",
    "# for loop checks answers with the value in the dictionary\n",
    "\n",
    "for dict in MyQuiz:\n",
    "    for questions, answers in dict.items():\n",
    "        PythonQuiz(questions)\n",
    "        if word == answers:\n",
    "            print(input() + \" is correct\")\n",
    "            correct_answer += 1\n",
    "        else:\n",
    "            print(input() +\" is incorrect\")\n",
    "\n",
    "print(\"You scored \" + str(correct_answer) + \"/\" + str(questions_number) + \". Good Job!\")"
   ]
  }
 ],
 "metadata": {
  "kernelspec": {
   "display_name": "Python 3.8.10 64-bit",
   "language": "python",
   "name": "python3"
  },
  "language_info": {
   "codemirror_mode": {
    "name": "ipython",
    "version": 3
   },
   "file_extension": ".py",
   "mimetype": "text/x-python",
   "name": "python",
   "nbconvert_exporter": "python",
   "pygments_lexer": "ipython3",
   "version": "3.8.10"
  },
  "orig_nbformat": 4,
  "vscode": {
   "interpreter": {
    "hash": "31f2aee4e71d21fbe5cf8b01ff0e069b9275f58929596ceb00d14d90e3e16cd6"
   }
  }
 },
 "nbformat": 4,
 "nbformat_minor": 2
}
