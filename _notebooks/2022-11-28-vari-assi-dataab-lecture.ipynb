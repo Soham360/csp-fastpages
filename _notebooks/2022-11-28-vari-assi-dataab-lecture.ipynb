{
 "cells": [
  {
   "cell_type": "markdown",
   "metadata": {},
   "source": [
    "# Variables, Assignments, and Data Abstraction Presentation Homework\n",
    "> This is my solution to the homework that was assigned on 11/28/2022\n",
    "- badges: true\n",
    "- comments: true\n",
    "- categories: [jupyter, Week 14]"
   ]
  },
  {
   "cell_type": "code",
   "execution_count": 8,
   "metadata": {},
   "outputs": [
    {
     "name": "stdout",
     "output_type": "stream",
     "text": [
      "Welcome to the Encryption Generator\n",
      "['a', 'b', 'c', 'd', 'e', 'f', 'g', 'h', 'i', 'j', 'k', 'l', 'm', 'n', 'o', 'p', 'q', 'r', 's', 't', 'u', 'v', 'w', 'x', 'y', 'z']\n",
      "['n', 'o', 'p', 'q', 'r', 's', 't', 'u', 'v', 'w', 'x', 'y', 'z', 'a', 'b', 'c', 'd', 'e', 'f', 'g', 'h', 'i', 'j', 'k', 'l', 'm']\n",
      "fbunz vf gur orfg\n"
     ]
    }
   ],
   "source": [
    "originalAlphabet = ['a', 'b', 'c', 'd', 'e', 'f', 'g', 'h', 'i', 'j', 'k', 'l', 'm', 'n', 'o', 'p', 'q', 'r', 's', 't', 'u', 'v', 'w', 'x', 'y', 'z'] # All 26 letters of the alphabet\n",
    "secretAlphabet = [] # All letters of  the alphabet after it has been shifted\n",
    "\n",
    "print(\"Welcome to the Encryption Generator\") # Welcome message\n",
    "userShift = int(input(\"Please, tell me how much you'd like to shift the alphabet (1-25): \")) # Asks what shift you want\n",
    "userMessage = input(\"Please, enter a message you'd like to encrypt: \") # Asks what message you want encrypted\n",
    "userMessage = userMessage.lower() # Makes all letters lowercase\n",
    "userMessage = list(userMessage.lower())\n",
    "encrypted = []\n",
    "\n",
    "while userShift not in range(1, 26): # Makes sure shift is in range 1-25\n",
    "    print(\"Please, enter a valid selection.\")\n",
    "    userShift = int(input(\"Please, tell me how much you'd like to shift the alphabet (1-25): \"))\n",
    "for shift in originalAlphabet[0:userShift]: \n",
    "    secretAlphabet = originalAlphabet[userShift:] + originalAlphabet[0:userShift]\n",
    "print(originalAlphabet)\n",
    "print(secretAlphabet)\n",
    "\n",
    "for letter in userMessage:\n",
    "    if letter in originalAlphabet:\n",
    "        idx = originalAlphabet.index(letter)\n",
    "        encrypted.append(secretAlphabet[idx])\n",
    "    else:\n",
    "        encrypted.append(letter)\n",
    "print(''.join(encrypted))"
   ]
  }
 ],
 "metadata": {
  "kernelspec": {
   "display_name": "Python 3.8.10 64-bit",
   "language": "python",
   "name": "python3"
  },
  "language_info": {
   "codemirror_mode": {
    "name": "ipython",
    "version": 3
   },
   "file_extension": ".py",
   "mimetype": "text/x-python",
   "name": "python",
   "nbconvert_exporter": "python",
   "pygments_lexer": "ipython3",
   "version": "3.8.10"
  },
  "orig_nbformat": 4,
  "vscode": {
   "interpreter": {
    "hash": "31f2aee4e71d21fbe5cf8b01ff0e069b9275f58929596ceb00d14d90e3e16cd6"
   }
  }
 },
 "nbformat": 4,
 "nbformat_minor": 2
}
