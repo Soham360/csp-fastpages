{
 "cells": [
  {
   "cell_type": "markdown",
   "metadata": {},
   "source": [
    "# Variables, Assignments, and Data Abstraction Presentation Homework\n",
    "> This is my solution to the homework that was assigned on 11/28/2022\n",
    "- badges: true\n",
    "- comments: true\n",
    "- categories: [jupyter, Week 14]"
   ]
  },
  {
   "cell_type": "markdown",
   "metadata": {},
   "source": [
    "# Notes on Units 3.1 & 3.2\n",
    "### Variables\n",
    "- Variables organize help organize data by naming it something related to the information it carries\n",
    "    - contains a name, value, and type\n",
    "        - NAMING:\n",
    "            - use general terms\n",
    "            - keep it concise\n",
    "            - use consistent notation (caps, etc...)\n",
    "            - don't make it too vague\n",
    "            - no spaces\n",
    "        - TYPES:\n",
    "            - Integer - a number\n",
    "            - Text/string - a word or string of characters\n",
    "        - Boolean - data that determines if something is true or false\n",
    "    - A list of data can be stored as a variable\n",
    "        - more organized\n",
    "        - can be indexed\n",
    "\n",
    "### Assignments\n",
    "- Operators that allows a program to change the value represented by a variable\n",
    "- Used to assign values to variables\n",
    "- =\n",
    "    - Assigns value of the right side to the left side\n",
    "    - a=b\n",
    "    - Outcome: b\n",
    "    - +=\n",
    "        - Add right side operand with left side operand and then assign to left operand\n",
    "        - a+=b\n",
    "            - Outcome: a+b\n",
    "    - -=\n",
    "        - Subtract right operand from left operand and then assign to left operand: True if both operands are equal\n",
    "        - a-=b\n",
    "            - Outcome: a-b\n",
    "    - same thing for *= and /=\n",
    "\n",
    "### Data Abstraction\n",
    "- Method used in coding to represent data in a useful form, by taking away aspects of data that aren't being used in the situation\n",
    "- Variables and lists are primary tools in data abstraction\n",
    "- Provides a separation between the abstract properties of a data type and the concrete details of its representation\n",
    "- Lists and Strings\n",
    "    - List = ordered sequence of elements\n",
    "    - Element = individual value in a list that is assigned to a unique index\n",
    "    - Index = a way to reference the elements in a list or string using natural numbers; each element of a string is referenced by an index\n",
    "- Example of a list with colors\n",
    "| Index\t| Element |\n",
    "|-|-|\n",
    "| 1 | Green |\n",
    "| 2 | Blue |\n",
    "| 3 | Purple |\n",
    "| 4 | Pink |\n",
    "- At index 1, the element is green, at index 2, the element is blue, etc...\n",
    "\n",
    "### Managing Lists\n",
    "- 3 Types of List Operations\n",
    "    - Assigning values to a list at certain indices\n",
    "    - Creating an empty list and assigning it to a variable\n",
    "    - Assigning a copy of one list to another list (setting one list equal to another list)\n",
    "\n",
    "- Managing complexity\n",
    "    - Helps improve readability\n",
    "    - Reduces the need for new variables as more data is collected\n",
    "    - Can easily update data\n",
    "    - Can easily convert data to different forms\n",
    "Practice"
   ]
  },
  {
   "cell_type": "code",
   "execution_count": 5,
   "metadata": {},
   "outputs": [
    {
     "name": "stdout",
     "output_type": "stream",
     "text": [
      "green\n",
      "red\n",
      "pink\n",
      "purple\n",
      "blue\n",
      "brown\n"
     ]
    }
   ],
   "source": [
    "colorList=[\"green\", \"red\", \"pink\", \"purple\", \"blue\", \"brown\"]\n",
    "\n",
    "for i in colorList:\n",
    "    print(i)"
   ]
  },
  {
   "cell_type": "markdown",
   "metadata": {},
   "source": [
    "# Homework"
   ]
  },
  {
   "cell_type": "code",
   "execution_count": 4,
   "metadata": {},
   "outputs": [
    {
     "name": "stdout",
     "output_type": "stream",
     "text": [
      "Soham Kamat's Ceaser Cipher Encoder\n",
      "['a', 'b', 'c', 'd', 'e', 'f', 'g', 'h', 'i', 'j', 'k', 'l', 'm', 'n', 'o', 'p', 'q', 'r', 's', 't', 'u', 'v', 'w', 'x', 'y', 'z']\n",
      "['n', 'o', 'p', 'q', 'r', 's', 't', 'u', 'v', 'w', 'x', 'y', 'z', 'a', 'b', 'c', 'd', 'e', 'f', 'g', 'h', 'i', 'j', 'k', 'l', 'm']\n",
      "['h', 'e', 'l', 'l', 'o', ' ', 'w', 'o', 'r', 'l', 'd']\n",
      "uryyb jbeyq\n"
     ]
    }
   ],
   "source": [
    "originalAlphabet = ['a', 'b', 'c', 'd', 'e', 'f', 'g', 'h', 'i', 'j', 'k', 'l', 'm', 'n', 'o', 'p', 'q', 'r', 's', 't', 'u', 'v', 'w', 'x', 'y', 'z'] # All 26 letters of the alphabet\n",
    "secretAlphabet = [] # All letters of  the alphabet after it has been shifted\n",
    "\n",
    "print(\"Soham Kamat's Ceaser Cipher Encoder\") # Message explaining what the code does\n",
    "userShift = int(input(\"Please, tell me how much you'd like to shift the alphabet (1-25): \")) # Asks what shift you want\n",
    "userMessage = input(\"Please, enter a message you'd like to encrypt: \") # Asks what message you want encrypted\n",
    "userMessage = userMessage.lower() # Makes all letters lowercase\n",
    "userMessage = list(userMessage.lower())\n",
    "encrypted = []\n",
    "\n",
    "while userShift not in range(1, 26): # Makes sure shift is in range 1-25\n",
    "    print(\"Please, enter a valid selection.\")\n",
    "    userShift = int(input(\"Please, tell me how much you'd like to shift the alphabet (1-25): \"))\n",
    "for shift in originalAlphabet[0:userShift]: # Shifts the alphabet by the above value\n",
    "    secretAlphabet = originalAlphabet[userShift:] + originalAlphabet[0:userShift]\n",
    "print(originalAlphabet) # Prints the actual Alphabet\n",
    "print(secretAlphabet) # Prints the shifted Alphabet\n",
    "\n",
    "for letter in userMessage: # repeats for every character in the inputted message\n",
    "    if letter in originalAlphabet:\n",
    "        idx = originalAlphabet.index(letter)\n",
    "        encrypted.append(secretAlphabet[idx])\n",
    "    else:\n",
    "        encrypted.append(letter)\n",
    "print(userMessage)\n",
    "print(''.join(encrypted))"
   ]
  }
 ],
 "metadata": {
  "kernelspec": {
   "display_name": "Python 3.8.10 64-bit",
   "language": "python",
   "name": "python3"
  },
  "language_info": {
   "codemirror_mode": {
    "name": "ipython",
    "version": 3
   },
   "file_extension": ".py",
   "mimetype": "text/x-python",
   "name": "python",
   "nbconvert_exporter": "python",
   "pygments_lexer": "ipython3",
   "version": "3.8.10"
  },
  "orig_nbformat": 4,
  "vscode": {
   "interpreter": {
    "hash": "31f2aee4e71d21fbe5cf8b01ff0e069b9275f58929596ceb00d14d90e3e16cd6"
   }
  }
 },
 "nbformat": 4,
 "nbformat_minor": 2
}
