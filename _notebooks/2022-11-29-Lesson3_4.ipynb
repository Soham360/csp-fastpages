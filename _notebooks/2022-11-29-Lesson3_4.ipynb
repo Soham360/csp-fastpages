{
 "cells": [
  {
   "attachments": {},
   "cell_type": "markdown",
   "metadata": {},
   "source": [
    "# \"Unit 3 Sections 3 and 4\"\n",
    "> This is my solution to the homework that was assigned on 11/29/2022\n",
    "- badges: true\n",
    "- comments: true\n",
    "- categories: [jupyter, Week 14, Student Teaching]"
   ]
  },
  {
   "cell_type": "markdown",
   "metadata": {},
   "source": [
    "# Notes on Units 3.3 & 3.4\n",
    "\n",
    "## Algorithms\n",
    "- Sequencing\n",
    "    - helps tasks function in order (Example: PEMDAS)\n",
    "- Selection\n",
    "    - chooses one of two different outcomes from one decision (Example:)\n",
    "- Iteration\n",
    "    - if a condition is true, then it can repeat starting from a certain step until the condition is false (Example: While Loop)\n",
    "- Flowcharts\n",
    "    - show how the algorithm works (Helps visualize the way the code works)\n",
    "\n",
    "## Arithmetic Operation\n",
    "- subtraction (-)\n",
    "- addition (+)\n",
    "- multiplication (*)\n",
    "- division (/)\n",
    "- Getting the remainder (MOD) (%)\n",
    "- ORDER OF OPERATIONS MATTERS\n",
    "    - reassigning variables using operations on other variables can get confusing\n",
    "\n",
    "### Arithmetic Hacks"
   ]
  },
  {
   "cell_type": "code",
   "execution_count": 8,
   "metadata": {},
   "outputs": [
    {
     "name": "stdout",
     "output_type": "stream",
     "text": [
      "17\n",
      "straightbrownshort\n"
     ]
    }
   ],
   "source": [
    "Num1 = 50\n",
    "Num2 = Num1 % 9 + 15                    # num2 = 20\n",
    "Num3 = Num2 / Num1 + ( Num2 * 2 )       # num3 = 20/50 + 40 = 40.4\n",
    "Num4 = Num3 + Num1 / 5 - 10             # num4 = 40.4 + 10 - 10 = 40.4\n",
    "Result = Num4 - Num2                    # Result = 40.4 - 20 = 20.4\n",
    "\n",
    "Num1 = 10\n",
    "Num2 = Num1 % 3 * 4                     # num2 = 1 * 4 = 4\n",
    "Num1 = Num2                             # num1 = 4\n",
    "Num3 = Num1 * 3                         # num3 = 4 * 3 = 12\n",
    "Result = Num3 % 2                       # Result = 0\n",
    "\n",
    "valueA = 4\n",
    "valueB = 90\n",
    "valueC = 17\n",
    "valueB = valueC - valueA                # valueB = 17 - 4 = 13\n",
    "valueA = valueA * 10                    # valueA = 4 * 10 = 40\n",
    "if valueB > 10:                         # valueB is 13, which is greater than 10\n",
    "    print(valueC)                       # This will print 17\n",
    "\n",
    "type = \"curly\"\n",
    "color = \"brown\"\n",
    "length = \"short\"                        \n",
    "type = \"straight\"                       \n",
    "hair = type + color + length            # hair = curly + brown + short\n",
    "print(hair)                             # This will print curlybrownshort"
   ]
  },
  {
   "cell_type": "markdown",
   "metadata": {},
   "source": [
    "## Strings\n",
    "- Collection of character (#s, letters, spaces, special characters)\n",
    "- procedures can be used with strings\n",
    "    - len() finds length of strings\n",
    "- concatenation combines strings\n",
    "    - concat(\"cookie\", \"monster\") outputs \"cookiemonster\""
   ]
  },
  {
   "cell_type": "markdown",
   "metadata": {},
   "source": [
    "## Problem 1"
   ]
  },
  {
   "cell_type": "code",
   "execution_count": 11,
   "metadata": {},
   "outputs": [
    {
     "name": "stdout",
     "output_type": "stream",
     "text": [
      "Very handsome Mr.Mort is.\n"
     ]
    }
   ],
   "source": [
    "Noun = \"Mr.Mortenson\" \n",
    "Adjective = \"handsome\" \n",
    "Adjective2 = \"Very\" \n",
    "Verb = \"is\" \n",
    "abrev = Noun[0:7]\n",
    "yoda = Adjective2 + \" \" + Adjective + \" \" + abrev + \" \" + Verb + \".\"\n",
    "print(yoda)"
   ]
  },
  {
   "cell_type": "markdown",
   "metadata": {},
   "source": [
    "## Problem 2"
   ]
  },
  {
   "cell_type": "code",
   "execution_count": 3,
   "metadata": {},
   "outputs": [
    {
     "name": "stdout",
     "output_type": "stream",
     "text": [
      "chocolate vote 270\n",
      "raisin vote 4.5\n"
     ]
    }
   ],
   "source": [
    "cookie = \"chocolate\" \n",
    "cookie2 = \"raisin\" \n",
    "len1 = (len(cookie) / 2)\n",
    "len2 = (len(cookie2) * 45)\n",
    "vote1 = (cookie + \" vote \" + str(len2))\n",
    "vote2 = (cookie2 + \" vote \" + str(len1))\n",
    "print(vote1 +  \"\\n\" + vote2)"
   ]
  }
 ],
 "metadata": {
  "kernelspec": {
   "display_name": "Python 3.9.12 ('base')",
   "language": "python",
   "name": "python3"
  },
  "language_info": {
   "codemirror_mode": {
    "name": "ipython",
    "version": 3
   },
   "file_extension": ".py",
   "mimetype": "text/x-python",
   "name": "python",
   "nbconvert_exporter": "python",
   "pygments_lexer": "ipython3",
   "version": "3.9.12 (main, Apr  5 2022, 06:56:58) \n[GCC 7.5.0]"
  },
  "orig_nbformat": 4,
  "vscode": {
   "interpreter": {
    "hash": "0f30f52230e98a66701697f317046da00ce2cde01feb9a5533ae28cf5631ecd9"
   }
  }
 },
 "nbformat": 4,
 "nbformat_minor": 2
}
