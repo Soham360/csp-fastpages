{
 "cells": [
  {
   "cell_type": "markdown",
   "metadata": {},
   "source": [
    "# Mathematical Expressions and Strings Presentation Homework\n",
    "> This is my solution to the homework that was assigned on 11/29/2022\n",
    "- badges: true\n",
    "- comments: true\n",
    "- categories: [jupyter, Week 14]"
   ]
  },
  {
   "cell_type": "markdown",
   "metadata": {},
   "source": [
    "## Problem 1"
   ]
  },
  {
   "cell_type": "code",
   "execution_count": 11,
   "metadata": {},
   "outputs": [
    {
     "name": "stdout",
     "output_type": "stream",
     "text": [
      "Very handsome Mr.Mort is.\n"
     ]
    }
   ],
   "source": [
    "Noun = \"Mr.Mortenson\" \n",
    "Adjective = \"handsome\" \n",
    "Adjective2 = \"Very\" \n",
    "Verb = \"is\" \n",
    "abrev = Noun[0:7]\n",
    "yoda = Adjective2 + \" \" + Adjective + \" \" + abrev + \" \" + Verb + \".\"\n",
    "print(yoda)"
   ]
  },
  {
   "cell_type": "markdown",
   "metadata": {},
   "source": [
    "## Problem 2"
   ]
  },
  {
   "cell_type": "code",
   "execution_count": 10,
   "metadata": {},
   "outputs": [
    {
     "ename": "TypeError",
     "evalue": "str() argument 3 must be str, not int",
     "output_type": "error",
     "traceback": [
      "\u001b[0;31m---------------------------------------------------------------------------\u001b[0m",
      "\u001b[0;31mTypeError\u001b[0m                                 Traceback (most recent call last)",
      "\u001b[1;32m/home/soham/vscode/csp-fastpages/_notebooks/2022-11-29-Mathematical-Expressions-Strings.ipynb Cell 7\u001b[0m in \u001b[0;36m<cell line: 5>\u001b[0;34m()\u001b[0m\n\u001b[1;32m      <a href='vscode-notebook-cell://wsl%2Bubuntu/home/soham/vscode/csp-fastpages/_notebooks/2022-11-29-Mathematical-Expressions-Strings.ipynb#X10sdnNjb2RlLXJlbW90ZQ%3D%3D?line=2'>3</a>\u001b[0m len1 \u001b[39m=\u001b[39m cookie \u001b[39m/\u001b[39m \u001b[39m2\u001b[39m\n\u001b[1;32m      <a href='vscode-notebook-cell://wsl%2Bubuntu/home/soham/vscode/csp-fastpages/_notebooks/2022-11-29-Mathematical-Expressions-Strings.ipynb#X10sdnNjb2RlLXJlbW90ZQ%3D%3D?line=3'>4</a>\u001b[0m len2 \u001b[39m=\u001b[39m cookie2 \u001b[39m*\u001b[39m \u001b[39m45\u001b[39m\n\u001b[0;32m----> <a href='vscode-notebook-cell://wsl%2Bubuntu/home/soham/vscode/csp-fastpages/_notebooks/2022-11-29-Mathematical-Expressions-Strings.ipynb#X10sdnNjb2RlLXJlbW90ZQ%3D%3D?line=4'>5</a>\u001b[0m vote1 \u001b[39m=\u001b[39m \u001b[39mstr\u001b[39;49m(cookie, \u001b[39m\"\u001b[39;49m\u001b[39mvote\u001b[39;49m\u001b[39m\"\u001b[39;49m, len2)\n\u001b[1;32m      <a href='vscode-notebook-cell://wsl%2Bubuntu/home/soham/vscode/csp-fastpages/_notebooks/2022-11-29-Mathematical-Expressions-Strings.ipynb#X10sdnNjb2RlLXJlbW90ZQ%3D%3D?line=5'>6</a>\u001b[0m vote2 \u001b[39m=\u001b[39m \u001b[39mstr\u001b[39m(cookie2, \u001b[39m\"\u001b[39m\u001b[39mvote\u001b[39m\u001b[39m\"\u001b[39m, len1)\n\u001b[1;32m      <a href='vscode-notebook-cell://wsl%2Bubuntu/home/soham/vscode/csp-fastpages/_notebooks/2022-11-29-Mathematical-Expressions-Strings.ipynb#X10sdnNjb2RlLXJlbW90ZQ%3D%3D?line=6'>7</a>\u001b[0m votes \u001b[39m=\u001b[39m vote1 \u001b[39m+\u001b[39m \u001b[39m\"\u001b[39m\u001b[39m \u001b[39m\u001b[39m\"\u001b[39m \u001b[39m+\u001b[39m vote2\n",
      "\u001b[0;31mTypeError\u001b[0m: str() argument 3 must be str, not int"
     ]
    }
   ],
   "source": [
    "cookie = len(\"choclate\")\n",
    "cookie2 = len(\"rasin\")\n",
    "len1 = cookie / 2\n",
    "len2 = cookie2 * 45\n",
    "vote1 = (cookie, \"vote\", len2)\n",
    "vote2 = (cookie2, \"vote\", len1)\n",
    "votes = vote1 + \" \" + vote2\n",
    "print(votes)"
   ]
  }
 ],
 "metadata": {
  "kernelspec": {
   "display_name": "Python 3.8.10 64-bit",
   "language": "python",
   "name": "python3"
  },
  "language_info": {
   "codemirror_mode": {
    "name": "ipython",
    "version": 3
   },
   "file_extension": ".py",
   "mimetype": "text/x-python",
   "name": "python",
   "nbconvert_exporter": "python",
   "pygments_lexer": "ipython3",
   "version": "3.8.10"
  },
  "orig_nbformat": 4,
  "vscode": {
   "interpreter": {
    "hash": "31f2aee4e71d21fbe5cf8b01ff0e069b9275f58929596ceb00d14d90e3e16cd6"
   }
  }
 },
 "nbformat": 4,
 "nbformat_minor": 2
}
