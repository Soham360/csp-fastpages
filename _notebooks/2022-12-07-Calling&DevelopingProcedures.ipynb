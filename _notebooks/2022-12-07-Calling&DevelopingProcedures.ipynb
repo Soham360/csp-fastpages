{
 "cells": [
  {
   "attachments": {},
   "cell_type": "markdown",
   "metadata": {},
   "source": [
    "# Unit 3 Sections 12 and 13 lesson\n",
    "> Developing and Writing Procedures Lesson\n",
    "\n",
    "- title: Unit 3 Sections 12-13\n",
    "- toc: true\n",
    "- badges: false\n",
    "- categories: [lessons]"
   ]
  },
  {
   "cell_type": "markdown",
   "metadata": {},
   "source": [
    "## Notes on the presentations\n",
    "Slide 1\n",
    " - A ________ is a named group of programming instructions that may have parameters and return values.\n",
    " - Procedures are referred to by different names, such as ________ or ________, depending on the programing language.\n",
    " - Parameters are input values of a procedure. ________ specify the values of the parameters when procedure is called.\n",
    " - A procedure call interrupts the ________ execution of statements causing the program to execute the statements within the procedure before continuing. One the last statement in the procedure (or a return statement) has executed, flow or control is returned to the point immediately following where the procedure was ________.\n",
    "\n",
    "Slide 2\n",
    " - When calling procedures, it's important to take notice to whether it returns data, or a block of ________.\n",
    " - If the procedure just returns a block of statements, you call the procedure by referring to the procedure name, and ________ the arguments.\n",
    " - If the procedure returns some sort of data like a ________ or ________, then you will assign that value to a variable\n"
   ]
  }
 ],
 "metadata": {
  "kernelspec": {
   "display_name": "Python 3",
   "language": "python",
   "name": "python3"
  },
  "language_info": {
   "name": "python",
   "version": "3.10.6 (main, Aug 11 2022, 13:36:31) [Clang 13.1.6 (clang-1316.0.21.2.5)]"
  },
  "orig_nbformat": 4,
  "vscode": {
   "interpreter": {
    "hash": "b0fa6594d8f4cbf19f97940f81e996739fb7646882a419484c72d19e05852a7e"
   }
  }
 },
 "nbformat": 4,
 "nbformat_minor": 2
}
