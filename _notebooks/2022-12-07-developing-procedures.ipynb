{
 "cells": [
  {
   "attachments": {},
   "cell_type": "markdown",
   "metadata": {},
   "source": [
    "# Unit 3 Sections 12 and 13 lesson\n",
    "> Developing and Writing Procedures Lesson\n",
    "\n",
    "- title: Unit 3 Sections 12-13\n",
    "- toc: true\n",
    "- badges: false\n",
    "- categories: [lessons]"
   ]
  },
  {
   "attachments": {},
   "cell_type": "markdown",
   "metadata": {},
   "source": [
    "## Calling Procedures\n",
    "\n",
    "Slide 1:\n",
    "- A _______ is a named group of programming instructions that may have parameters and return values.\n",
    "- Procedures are referred to by different names, such as _______ or _______, depending on the programing language.\n",
    "- Parameters are input values of a procedure. _______ specify the values of the parameters when procedure is called.\n",
    "- A procedure call interrupts the _______ execution of statements causing the program to execute the statements within the procedure before continuing. One the last statement in the procedure (or a return statement) has executed, flow or control is returned to the point immediately following where the procedure was _______.\n",
    "\n",
    "Slide 2:\n",
    "- When calling procedures, it's important to take notice to whether it returns data, or a block of _______.\n",
    "- If the procedure just returns a block of statements, you call the procedure by referring to the procedure name, and _______ the arguments.\n",
    "- If the procedure returns some sort of data like a ______ or _______, then you will assign that value to a variable\n",
    "\n",
    "Slide 3:\n",
    "\n",
    "- Assume the Temperature outside is Fahrenheit. \n",
    "- The procedure convertFahrenheit is intended to convert from Fahrenheit to Celsius.\n",
    "- Convert the following psuedocode to python\n",
    "\n"
   ]
  },
  {
   "cell_type": "code",
   "execution_count": null,
   "metadata": {},
   "outputs": [],
   "source": [
    "def convertFahrenheit():\n",
    "    # code goes here\n",
    "    return celsius\n",
    "\n",
    "convertFahrenheit(outsideTemp)"
   ]
  },
  {
   "attachments": {},
   "cell_type": "markdown",
   "metadata": {},
   "source": [
    "## Developing Procedures\n",
    "\n",
    "Slide 8: \n",
    "\n",
    "Picking a _______ name is important in case you revisit the code later on (separate words with capitals)\n",
    "There are 2 different types of procedures- ones that return a value and those that simply execute a block of statements\n",
    "Steps of developing procedure: picking a useful name, thinking of parameters (what data does the procedure need to know), making a flowchart or writing procedure in pseudocode, and actually developing the procedure.\n",
    "\n",
    "Slide 9: \n",
    "\n",
    "In this example, a teacher is writing a program that will replace the grade on a previous quiz if the new grade is better than the previous.\n",
    "\n",
    "- What would be a good name for this procedure?\n",
    "- What parameters do we need for this procedure?\n",
    "- Try writing this procedure out in python based on the given pseudocode\n",
    "\n"
   ]
  },
  {
   "cell_type": "code",
   "execution_count": null,
   "metadata": {},
   "outputs": [],
   "source": [
    "# procedure goes here\n",
    "\n",
    "currentGrade <- currentPoints / 40\n",
    "currentGrade <- current Grade * 100\n",
    "if currentGrade > quizGrade\n",
    "    quizGrade <- currentGrade"
   ]
  },
  {
   "attachments": {},
   "cell_type": "markdown",
   "metadata": {},
   "source": [
    "## Procedural Abstraction\n",
    "\n",
    "- One type of abstraction is ________ abstraction which provides a name for a process and allows a procedure to be used only knowing what it does and not how it does it\n",
    "- This is very helpful in managing ______ in a program\n",
    "- Subdivision of a program into separate subprograms is called ________\n",
    "- A procedural abstraction may ________ shared features to generalize functionality instead of duplicating code. This allows for program reuse, which helps manage complexity\n",
    "- When a pre-written procedure is called, you don’t necessarily need to know the details of this, just what it does and how to call it\n",
    "- Simply, procedural abstraction is naming and calling a ________ procedure\n",
    "- Making sure to include the right arguments so the ________ can do what its supposed to do is crucial"
   ]
  },
  {
   "cell_type": "markdown",
   "metadata": {},
   "source": [
    "## Complexity Example\n",
    "\n",
    "One of the biggest advantages of procedural abstraction is managing complexity.\n",
    "\n",
    "Think about the process of simplifying the code?\n",
    "What do you think the advantage of the code segment on the left is?\n",
    "\n",
    "|Code Segment 1|Code Segment 2|\n",
    "|--------------|--------------|\n",
    "|ROTATE_LEFT()|detourLeft()|\n",
    "MOVE_FORWARD()|turnCorner()| \n",
    "ROTATE_RIGHT  |MOVE_FORWARD()| \n",
    "MOVE_FORWARD()|MOVE_FORWARD()|\n",
    "MOVE_FORWARD()\n",
    "ROTATE_RIGHT()\n",
    "MOVE_FORWARD()\n",
    "ROTATE_LEFT()\n",
    "MOVE_FORWARD()\n",
    "ROTATE_LEFT()\n",
    "MOVE_FORWARD()\n",
    "MOVE_FORWARD\n",
    "MOVE_FORWARD()"
   ]
  },
  {
   "attachments": {},
   "cell_type": "markdown",
   "metadata": {},
   "source": [
    "## Hacks\n",
    "\n",
    "- Write a python procedure about something which can help you in school, for example the teacher’s function we spoke about earlier.\n",
    "- Points will be awarded based on creativity and functionality\n",
    "- 0.1 points will be deducted for late submissions\n",
    "- Submit the notes with all blanks filled in (scored out of 0.5 points) and the python procedure (scored out of 0.5 points) by Monday 12/12 at 11:59 PM.\n"
   ]
  },
  {
   "cell_type": "code",
   "execution_count": null,
   "metadata": {},
   "outputs": [],
   "source": [
    "def procedure()\n",
    "    # code goes here\n",
    "    return \n",
    "\n",
    "# code goes here"
   ]
  }
 ],
 "metadata": {
  "kernelspec": {
   "display_name": "Python 3.8.10 64-bit",
   "language": "python",
   "name": "python3"
  },
  "language_info": {
   "name": "python",
   "version": "3.8.10"
  },
  "orig_nbformat": 4,
  "vscode": {
   "interpreter": {
    "hash": "31f2aee4e71d21fbe5cf8b01ff0e069b9275f58929596ceb00d14d90e3e16cd6"
   }
  }
 },
 "nbformat": 4,
 "nbformat_minor": 2
}
