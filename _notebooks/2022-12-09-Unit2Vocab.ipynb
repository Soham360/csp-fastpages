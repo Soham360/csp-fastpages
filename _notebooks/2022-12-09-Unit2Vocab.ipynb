{
 "cells": [
  {
   "attachments": {},
   "cell_type": "markdown",
   "metadata": {},
   "source": [
    "# Unit 2 Vocabulary\n",
    "> Unit 2 Vocabulary and Examples\n",
    "\n",
    "- title: Unit 2 Vocabulary\n",
    "- toc: true\n",
    "- badges: false\n",
    "- categories: [Vocab]"
   ]
  },
  {
   "attachments": {},
   "cell_type": "markdown",
   "metadata": {},
   "source": [
    "### Unit 2 Vocabulary Terms\n",
    "- Bits - the smallest unit of data that a computer can process and store\n",
    "- Bytes - a group of binary digits or bits (usually eight) operated on as a unit.\n",
    "- Hexadecimal/Nibbles - a numbering system with base 16\n",
    "- Binary Numbers -  a numbering scheme in which there are only two possible values for each digit 0 or 1\n",
    "    - Unsigned Integer - just like integers (whole numbers) but have the property that they don't have a + or - sign associated with them\n",
    "    - Signed Integer - a 32-bit datum that encodes an integer in the range [-2147483648 to 2147483647]\n",
    "    - Floating Point - a positive or negative whole number with a decimal point\n",
    "- Binary Data Abstractions\n",
    "    - Boolean - a logical data type that can have only the values true or false\n",
    "    - ASCII - the most common character encoding format for text data in computers and on the internet\n",
    "    - Unicode - a modern standard for text representation that defines each of the letters and symbols commonly used in today's digital and print media\n",
    "    - RGB - a system for representing the colors to be used on a computer display\n",
    "- Data Compression\n",
    "    - Lossy - a data encoding and compression technique that deliberately discards some data in the compression process\n",
    "    - Lossless - restores and rebuilds file data in its original form after the file is decompressed"
   ]
  }
 ],
 "metadata": {
  "kernelspec": {
   "display_name": "Python 3.8.10 64-bit",
   "language": "python",
   "name": "python3"
  },
  "language_info": {
   "name": "python",
   "version": "3.8.10"
  },
  "orig_nbformat": 4,
  "vscode": {
   "interpreter": {
    "hash": "31f2aee4e71d21fbe5cf8b01ff0e069b9275f58929596ceb00d14d90e3e16cd6"
   }
  }
 },
 "nbformat": 4,
 "nbformat_minor": 2
}
