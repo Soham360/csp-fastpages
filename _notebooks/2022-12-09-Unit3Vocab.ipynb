{
 "cells": [
  {
   "attachments": {},
   "cell_type": "markdown",
   "metadata": {},
   "source": [
    "# Unit 3 Vocabulary\n",
    "> Unit 3 Vocabulary and Examples\n",
    "\n",
    "- title: Unit 3 Vocabulary\n",
    "- toc: true\n",
    "- badges: false\n",
    "- categories: [Vocab]"
   ]
  },
  {
   "attachments": {},
   "cell_type": "markdown",
   "metadata": {},
   "source": [
    "### Unit 3 Vocabulary Terms\n",
    "- Variables\n",
    "    - Data Types - a classification that specifies which type of value a variable has\n",
    "    - Assignment Operators - he operator used to assign a new value to a variable, property, event or indexer element in C# programming language\n",
    "- Managing Complexity with Variables\n",
    "    - Lists - any information displayed or organized in a logical or linear formation\n",
    "    - 2D Lists - list of lists\n",
    "    - Dictionaries - an abstract data type that defines an unordered collection of data as a set of key-value pairs\n",
    "    - Class - a template definition of the method s and variable s in a particular kind of object\n",
    "- Algorithms\n",
    "    - Sequence - the first programming construct\n",
    "    - Selection - a programming construct where a section of code is run only if a condition is met\n",
    "    - Iteration - a process where the design of a product or application is improved by repeated review and testing\n",
    "- Expressions\n",
    "    - Comparison Operators - operators that compare values and return true or false\n",
    "    - Booleans Expressions and Selection - \n",
    "    - Booleans Expressions and Iteration - \n",
    "    - Truth Tables - \n",
    "- Characters - \n",
    "- Strings - \n",
    "- Length - \n",
    "- Concatenation - \n",
    "- Upper - \n",
    "- Lower - \n",
    "- Traversing Strings - \n",
    "- Python If - \n",
    "- Elif - \n",
    "- Else conditionals - \n",
    "- Nested Selection Statements - \n",
    "- Python For - \n",
    "- While loops with Range - \n",
    "- with List - \n",
    "- Combining loops with conditionals to Break, Continue - \n",
    "- Procedural Abstraction - \n",
    "- Python Def procedures - \n",
    "- Parameters - \n",
    "- Return Values - "
   ]
  }
 ],
 "metadata": {
  "kernelspec": {
   "display_name": "Python 3.8.10 64-bit",
   "language": "python",
   "name": "python3"
  },
  "language_info": {
   "name": "python",
   "version": "3.8.10"
  },
  "orig_nbformat": 4,
  "vscode": {
   "interpreter": {
    "hash": "31f2aee4e71d21fbe5cf8b01ff0e069b9275f58929596ceb00d14d90e3e16cd6"
   }
  }
 },
 "nbformat": 4,
 "nbformat_minor": 2
}
