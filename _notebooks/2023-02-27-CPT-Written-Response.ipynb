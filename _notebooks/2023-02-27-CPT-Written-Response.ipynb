{
 "cells": [
  {
   "attachments": {},
   "cell_type": "markdown",
   "metadata": {},
   "source": [
    "# CPT Written Response\n",
    "> My written response for my recipe review feature.\n",
    "- title: CPT Written Response\n",
    "- toc: true\n",
    "- categories: [Week 24]\n",
    "- comments: true"
   ]
  },
  {
   "attachments": {},
   "cell_type": "markdown",
   "metadata": {},
   "source": [
    "### Video\n",
    "My video demonstration can be found below or at this [link](https://youtu.be/slToQLPJS2c)\n",
    "<iframe width=\"600\" height=\"400\" src=\"https://www.youtube.com/embed/2OPjDXT1cYg\" title=\"YouTube video player\" frameborder=\"0\" allow=\"accelerometer; autoplay; clipboard-write; encrypted-media; gyroscope; picture-in-picture; web-share\" allowfullscreen></iframe>\n",
    "\n",
    "# Written Response\n",
    "## 3a.\n",
    "### 3.a.i.\n",
    "This program allows users to added reviews on recipes they found on our site. They can rate the recipe out of 10 and add a short comment summarizing how they felt after creating the recipe. They can also edit the review after it has been created and also delete the review.\n",
    "\n",
    "### 3.a.ii.\n",
    "In the video, I showed the ability to search for a recipe and add a review for said recipe. I also shows the ability to edit an comment and also delete it. The program takes a rating out of 10, a short comment, and the user's name. The program then uses a POST Request to add the input to a database. It then uses a GET Request to retrieve that data and formats it into a table. After the review has been posted, there is an edit button and a delete button. The edit button allows you to edit the comment using a PUT Request. The delete button allows you to delete the review using a DELETE Request.\n",
    "\n",
    "### 3.a.iii.\n",
    "The inputs of the program are the rating, the comment, and the user's name. The program detects these inputs and returns an output by adding the user's information into the review table below the input area. The program also takes an input through the edit and delete buttons. When clicked, the edit button returns an output by enabling the ability to edit the comment. The delete button, when clicked, returns an output by deleting the review.\n",
    "\n",
    "## 3b.\n",
    "### 3.b.i.\n",
    "![]({{ site.baseurl }}/images/postrequest.png)\n",
    "\n",
    "### 3.b.ii.\n",
    "![]({{ site.baseurl }}/images/getrequest.png)\n",
    "\n",
    "### 3.b.iii.\n",
    "\n",
    "\n",
    "### 3.b.iv.\n",
    "\n",
    "\n",
    "### 3.b.v.\n",
    "\n",
    "\n",
    "## 3c.\n",
    "### 3.c.i.\n",
    "\n",
    "\n",
    "### 3.c.ii.\n",
    "\n",
    "\n",
    "### 3.c.iii.\n",
    "\n",
    "\n",
    "### 3.c.iv.\n",
    "\n",
    "\n",
    "## 3d.\n",
    "### 3.d.i.\n",
    "\n",
    "\n",
    "### 3.d.ii.\n",
    "\n",
    "\n",
    "### 3.d.iii.\n",
    "\n"
   ]
  }
 ],
 "metadata": {
  "kernelspec": {
   "display_name": "Python 3",
   "language": "python",
   "name": "python3"
  },
  "language_info": {
   "name": "python",
   "version": "3.8.10"
  },
  "orig_nbformat": 4,
  "vscode": {
   "interpreter": {
    "hash": "31f2aee4e71d21fbe5cf8b01ff0e069b9275f58929596ceb00d14d90e3e16cd6"
   }
  }
 },
 "nbformat": 4,
 "nbformat_minor": 2
}
