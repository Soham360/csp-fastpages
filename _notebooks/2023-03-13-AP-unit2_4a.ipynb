{
 "cells": [
  {
   "attachments": {},
   "cell_type": "markdown",
   "metadata": {},
   "source": [
    "#  Unit 2.4a Using Programs with Data, SQLAlchemy\n",
    "> Using Programs with Data is focused on SQL and database actions.  Part A focuses on SQLAlchemy and an OOP programming style,\n",
    "- toc: true\n",
    "- categories: []\n",
    "- type: ap\n",
    "- week: 26"
   ]
  },
  {
   "attachments": {},
   "cell_type": "markdown",
   "metadata": {},
   "source": [
    "# Database and SQLAlchemy\n",
    "> In this blog we will explore using programs with data, focused on Databases.  We will use SQLite Database to learn more about using Programs with Data.  ***Use Debugging through these examples to examine Objects created in Code***.\n",
    "\n",
    "- College Board talks about ideas like \n",
    "    - Program Usage. \"iterative and interactive way when processing information\"\n",
    "    - Managing Data.  \"classifying data are part of the process in using programs\", \"data files in a Table\"\n",
    "    - Insight \"insight and knowledge can be obtained from ...  digitally represented information\"\n",
    "    - Filter systems. 'tools for finding information and recognizing patterns\"\n",
    "    - Application. \"the preserve has two databases\", \"an employee wants to count the number of book\"\n",
    "\n",
    "- PBL, Databases, Iterative/OOP\n",
    "    - Iterative. Refers to a sequence of instructions or code being repeated until a specific end result is achieved\n",
    "    - OOP. A computer programming model that organizes software design around data, or objects, rather than functions and logic\n",
    "    - SQL. Structured Query Language, abbreviated as SQL, is a language used in programming, managing, and structuring data \n"
   ]
  },
  {
   "attachments": {},
   "cell_type": "markdown",
   "metadata": {},
   "source": [
    "## Imports and Flask Objects\n",
    "> Defines and key object creations\n",
    "\n",
    "- Comment on where you have observed these working?  Provide a defintion of purpose.\n",
    "    1. Flask app object\n",
    "    2. SQLAlchemy db object\n"
   ]
  },
  {
   "cell_type": "code",
   "execution_count": 57,
   "metadata": {},
   "outputs": [],
   "source": [
    "\"\"\"\n",
    "These imports define the key objects\n",
    "\"\"\"\n",
    "\n",
    "from flask import Flask\n",
    "from flask_sqlalchemy import SQLAlchemy\n",
    "\n",
    "\"\"\"\n",
    "These object and definitions are used throughout the Jupyter Notebook.\n",
    "\"\"\"\n",
    "\n",
    "# Setup of key Flask object (app)\n",
    "app = Flask(__name__)\n",
    "# Setup SQLAlchemy object and properties for the database (db)\n",
    "database = 'sqlite:///sqlite.db'  # path and filename of database\n",
    "app.config['SQLALCHEMY_TRACK_MODIFICATIONS'] = False\n",
    "app.config['SQLALCHEMY_DATABASE_URI'] = database\n",
    "app.config['SECRET_KEY'] = 'SECRET_KEY'\n",
    "db = SQLAlchemy()\n",
    "\n",
    "\n",
    "# This belongs in place where it runs once per project\n",
    "db.init_app(app)\n"
   ]
  },
  {
   "attachments": {},
   "cell_type": "markdown",
   "metadata": {},
   "source": [
    "## Model Definition\n",
    "> Define columns, initialization, and CRUD methods for users table in sqlite.db\n",
    "\n",
    "- Comment on these items in the class, purpose and defintion.\n",
    "    - class User\n",
    "    - db.Model inheritance\n",
    "    - _init_ method\n",
    "    - ```@property```, ```@<column>.setter```\n",
    "    - create, read, update, delete methods"
   ]
  },
  {
   "cell_type": "code",
   "execution_count": 58,
   "metadata": {},
   "outputs": [],
   "source": [
    "\"\"\" database dependencies to support sqlite examples \"\"\"\n",
    "import datetime\n",
    "from datetime import datetime\n",
    "import json\n",
    "\n",
    "from sqlalchemy.exc import IntegrityError\n",
    "from werkzeug.security import generate_password_hash, check_password_hash\n",
    "\n",
    "\n",
    "''' Tutorial: https://www.sqlalchemy.org/library.html#tutorials, try to get into a Python shell and follow along '''\n",
    "\n",
    "# Define the User class to manage actions in the 'users' table\n",
    "# -- Object Relational Mapping (ORM) is the key concept of SQLAlchemy\n",
    "# -- a.) db.Model is like an inner layer of the onion in ORM\n",
    "# -- b.) User represents data we want to store, something that is built on db.Model\n",
    "# -- c.) SQLAlchemy ORM is layer on top of SQLAlchemy Core, then SQLAlchemy engine, SQL\n",
    "class User(db.Model):\n",
    "    __tablename__ = 'review'  # table name is plural, class name is singular\n",
    "\n",
    "    # Define the User schema with \"vars\" from object\n",
    "    id = db.Column(db.Integer, primary_key=True)\n",
    "    _rname = db.Column(db.String(255), unique=False, nullable=False)\n",
    "    _comment = db.Column(db.Text, unique=False, nullable=False)\n",
    "    _rating = db.Column(db.Integer, unique=False, nullable=False)\n",
    "    _uid = db.Column(db.String(255), unique=True, nullable=False) \n",
    "\n",
    "    # constructor of a User object, initializes the instance variables within object (self)\n",
    "    def __init__(self, rname, comment, rating, uid):\n",
    "        self._rname = rname    # variables with self prefix become part of the object, \n",
    "        self._comment = comment\n",
    "        self._rating = rating\n",
    "        self._uid = uid\n",
    "\n",
    "    # a name getter method, extracts name from object\n",
    "    @property\n",
    "    def rname(self):\n",
    "        return self._rname\n",
    "    \n",
    "    # a setter function, allows name to be updated after initial object creation\n",
    "    @rname.setter\n",
    "    def rname(self, rname):\n",
    "        self._rname = rname\n",
    "\n",
    "    # a comment getter method, extracts comment from object\n",
    "    @property\n",
    "    def comment(self):\n",
    "        return self._comment\n",
    "    \n",
    "    # a setter function, allows name to be updated after initial object creation\n",
    "    @comment.setter\n",
    "    def comment(self, comment):\n",
    "        self._comment = comment  \n",
    "\n",
    "    # a getter method, extracts rating from object\n",
    "    @property\n",
    "    def rating(self):\n",
    "        return self._rating\n",
    "    \n",
    "    # a setter function, allows name to be updated after initial object creation\n",
    "    @rating.setter\n",
    "    def rating(self, rating):\n",
    "        self._rating = rating              \n",
    "    \n",
    "    # a getter method, extracts uid from object\n",
    "    @property\n",
    "    def uid(self):\n",
    "        return self._uid\n",
    "    \n",
    "    # a setter function, allows name to be updated after initial object creation\n",
    "    @uid.setter\n",
    "    def uid(self, uid):\n",
    "        self._uid = uid\n",
    "        \n",
    "    # check if uid parameter matches user id in object, return boolean\n",
    "    def is_uid(self, uid):\n",
    "        return self._uid == uid\n",
    "    \n",
    "  \n",
    "    # output content using str(object) in human readable form, uses getter\n",
    "    # output content using json dumps, this is ready for API response\n",
    "    def __str__(self):\n",
    "        return json.dumps(self.read())\n",
    "\n",
    "    # CRUD create/add a new record to the table\n",
    "    # returns self or None on error\n",
    "    def create(self):\n",
    "        try:\n",
    "            # creates a person object from User(db.Model) class, passes initializers\n",
    "            print(\"Inside create\")\n",
    "            db.session.add(self)  # add prepares to persist person object to Users table\n",
    "            db.session.commit()  # SqlAlchemy \"unit of work pattern\" requires a manual commit\n",
    "            return self\n",
    "        except IntegrityError:\n",
    "            db.session.remove()\n",
    "            return None\n",
    "\n",
    "    # CRUD read converts self to dictionary\n",
    "    # returns dictionary\n",
    "    def read(self):\n",
    "        # entry = db.session.query(Users).get(args[\"id\"])\n",
    "        # print(id,self.rname,self.uid,self.comment,self.rating)\n",
    "        return {\n",
    "            \"id\": self.id,\n",
    "            \"rname\": self.rname,\n",
    "            \"comment\":self.comment,\n",
    "            \"rating\":self.rating,\n",
    "            \"uid\": self.uid            \n",
    "        }\n",
    "\n",
    "    # CRUD update: updates comment, rating, uid\n",
    "    # returns self\n",
    "    def put(self,id,comment,rating,uid):\n",
    "        \"\"\"only updates values with length\"\"\"\n",
    "        print(\"inside users.py update\") \n",
    "        entry = db.session.query(User).get(id)\n",
    "        print(\"sent request to update record\", entry)  \n",
    "        print(id,comment,rating,uid)\n",
    "        try:\n",
    "            if entry: \n",
    "                # db.session.update(self)\n",
    "                entry.comment = comment\n",
    "                entry.rating = rating\n",
    "                entry.uid = uid\n",
    "\n",
    "                # user.verified = True\n",
    "                print(\"updated record\", entry)                            \n",
    "                db.session.commit()\n",
    "                return entry\n",
    "            else:\n",
    "                return {\"error\": \"entry not found\"}, 404                \n",
    "        except Exception as e:\n",
    "            db.session.rollback()\n",
    "            return {\"error\": f\"server error: {e}\"}, 500            \n",
    "\n",
    "    # CRUD delete: remove self\n",
    "    # None\n",
    "    def delete(id):\n",
    "        # print(\"inside users.py delete\", id) \n",
    "        try:\n",
    "            entry = db.session.query(User).get(id)\n",
    "            if entry: \n",
    "                db.session.delete(entry)\n",
    "                db.session.commit()\n",
    "                print(\"deleted record\", entry)                \n",
    "                return None\n",
    "            else:\n",
    "                return {\"error\": \"entry not found\"}, 404                \n",
    "        except Exception as e:\n",
    "            db.session.rollback()\n",
    "            return {\"error\": f\"server error: {e}\"}, 500\n",
    "    "
   ]
  },
  {
   "attachments": {},
   "cell_type": "markdown",
   "metadata": {},
   "source": [
    "## Initial Data\n",
    "> Uses SQLALchemy db.create_all() to initialize rows into sqlite.db\n",
    "\n",
    "- Comment on how these work?\n",
    "    1. Create All Tables from db Object - creates the tables using the information in the object\n",
    "    2. User Object Constructors - Sets the restrictions for what the info within the object should be / how it should be formatted\n",
    "    3. Try / Except - sets a procedure for what to do in case of an error"
   ]
  },
  {
   "cell_type": "code",
   "execution_count": 59,
   "metadata": {},
   "outputs": [
    {
     "name": "stdout",
     "output_type": "stream",
     "text": [
      "Inside create\n",
      "Inside create\n",
      "Inside create\n",
      "Inside create\n",
      "Inside create\n"
     ]
    }
   ],
   "source": [
    "def initReviews():\n",
    "    with app.app_context():\n",
    "        \"\"\"Create database and tables\"\"\"\n",
    "        db.create_all()\n",
    "        \"\"\"Tester data for table\"\"\"\n",
    "        u1 = User(rname='Recipe1', comment='Recipe1 comment', rating=5, uid='toby' )\n",
    "        u2 = User(rname='Recipe2', comment='Recipe2 comment', rating=6, uid='niko')\n",
    "        u3 = User(rname='Recipe3', comment='Recipe3 comment', rating=3, uid='lex')\n",
    "        u4 = User(rname='Recipe4', comment='Recipe4 comment', rating=8, uid='whit')\n",
    "        u5 = User(rname='Recipe5', comment='Recipe5 comment', rating=10, uid='jm1021')\n",
    "\n",
    "        users = [u1, u2, u3, u4, u5]\n",
    "\n",
    "        \"\"\"Builds sample user/comment(s) data\"\"\"\n",
    "        for user in users:\n",
    "            try:\n",
    "                user.create()\n",
    "            except IntegrityError:\n",
    "                '''fails with bad or duplicate data'''\n",
    "                db.session.remove()\n",
    "                print(f\"Records exist, duplicate email, or error: {user.uid}\")\n",
    "\n",
    "initReviews()"
   ]
  },
  {
   "attachments": {},
   "cell_type": "markdown",
   "metadata": {},
   "source": [
    "## Check for given Credentials in users table in sqlite.db\n",
    "> Use of ORM Query object and custom methods to identify user to credentials uid and password\n",
    "\n",
    "- Comment on purpose of following\n",
    "    1. User.query.filter_by - filters by whatever the set filter is\n",
    "    2. user.password - cross-references with the currently set password"
   ]
  },
  {
   "cell_type": "code",
   "execution_count": 60,
   "metadata": {},
   "outputs": [
    {
     "data": {
      "text/plain": [
       "True"
      ]
     },
     "execution_count": 60,
     "metadata": {},
     "output_type": "execute_result"
    }
   ],
   "source": [
    "# SQLAlchemy extracts single user from database matching User ID\n",
    "def find_by_uid(uid):\n",
    "    with app.app_context():\n",
    "        user = User.query.filter_by(_uid=uid).first()\n",
    "    return user # returns user object\n",
    "\n",
    "# Check credentials by finding user and verify password\n",
    "def check_credentials(uid):\n",
    "    # query email and return user record\n",
    "    user = find_by_uid(uid)\n",
    "    if user == None:\n",
    "        return False\n",
    "    return True\n",
    "        \n",
    "check_credentials(\"toby\")"
   ]
  },
  {
   "attachments": {},
   "cell_type": "markdown",
   "metadata": {},
   "source": [
    "## Create a new User in table in Sqlite.db\n",
    "> Uses SQLALchemy and custom user.create() method to add row.\n",
    "\n",
    "- Comment on purpose of following\n",
    "    1. user.find_by_uid() and try/except - searches for a user by the uid is also set to handle error cases.\n",
    "    2. user = User(...) - makes a new user object with the following properties\n",
    "    3. user.dob and try/except - gets the user's birthday, handles error cases in terms of misinputs\n",
    "    4. user.create() and try/except - makes a new user and adds to the user object, handles error cases using try and except."
   ]
  },
  {
   "cell_type": "code",
   "execution_count": 63,
   "metadata": {},
   "outputs": [
    {
     "name": "stdout",
     "output_type": "stream",
     "text": [
      "Found\n",
      " {'id': 7, 'rname': '', 'comment': '', 'rating': '', 'uid': ''}\n"
     ]
    }
   ],
   "source": [
    "def create():\n",
    "    # optimize user time to see if uid exists\n",
    "    uid = input(\"Enter your user id:\")\n",
    "    user = find_by_uid(uid)\n",
    "    try:\n",
    "        print(\"Found\\n\", user.read())\n",
    "        return\n",
    "    except:\n",
    "        pass # keep going\n",
    "    \n",
    "    # request value that ensure creating valid object\n",
    "    rname = input(\"Enter the recipe you are reviewing:\")\n",
    "    comment = input(\"Enter your review:\")\n",
    "    rating = input(\"Enter your rating out of 10:\")\n",
    "    uid = input(\"Enter your Username:\")\n",
    "    \n",
    "    # Initialize User object before date\n",
    "    uo = User(rname=rname,\n",
    "              comment=comment,\n",
    "              rating=rating,\n",
    "              uid=uid\n",
    "              )\n",
    "    \n",
    "    # create user.dob, fail with today as dob\n",
    "           \n",
    "    # write object to database\n",
    "    with app.app_context():\n",
    "        try:\n",
    "            user = uo.create()\n",
    "            print(\"Created\\n\", object.read())\n",
    "        except:  # error raised if object not created\n",
    "            print(\"Unknown error uid {uid}\")\n",
    "        \n",
    "create()"
   ]
  },
  {
   "attachments": {},
   "cell_type": "markdown",
   "metadata": {},
   "source": [
    "## Reading users table in sqlite.db\n",
    "> Uses SQLALchemy query.all method to read data\n",
    "\n",
    "- Comment on purpose of following\n",
    "    1. User.query.all - gets all certain instances of what is searched by the user\n",
    "    2. json_ready assignment, google List Comprehension - makes a data structure that is ready to be set as a json"
   ]
  },
  {
   "cell_type": "code",
   "execution_count": 56,
   "metadata": {},
   "outputs": [
    {
     "data": {
      "text/plain": [
       "[{'id': 1,\n",
       "  'rname': 'Recipe1',\n",
       "  'comment': 'Recipe1 comment',\n",
       "  'rating': 5,\n",
       "  'uid': 'toby'},\n",
       " {'id': 2,\n",
       "  'rname': 'Recipe2',\n",
       "  'comment': 'Recipe2 comment',\n",
       "  'rating': 6,\n",
       "  'uid': 'niko'},\n",
       " {'id': 3,\n",
       "  'rname': 'Recipe3',\n",
       "  'comment': 'Recipe3 comment',\n",
       "  'rating': 3,\n",
       "  'uid': 'lex'},\n",
       " {'id': 4,\n",
       "  'rname': 'Recipe4',\n",
       "  'comment': 'Recipe4 comment',\n",
       "  'rating': 8,\n",
       "  'uid': 'whit'},\n",
       " {'id': 5,\n",
       "  'rname': 'Recipe5',\n",
       "  'comment': 'Recipe5 comment',\n",
       "  'rating': 10,\n",
       "  'uid': 'jm1021'},\n",
       " {'id': 6,\n",
       "  'rname': 'soham',\n",
       "  'comment': 'soham',\n",
       "  'rating': 'soham',\n",
       "  'uid': 'soham'},\n",
       " {'id': 7, 'rname': '', 'comment': '', 'rating': '', 'uid': ''},\n",
       " {'id': 8,\n",
       "  'rname': 'apple pie',\n",
       "  'comment': 'i love this recipe',\n",
       "  'rating': 9,\n",
       "  'uid': 'test'}]"
      ]
     },
     "execution_count": 56,
     "metadata": {},
     "output_type": "execute_result"
    }
   ],
   "source": [
    "# SQLAlchemy extracts all users from database, turns each user into JSON\n",
    "def read():\n",
    "    with app.app_context():\n",
    "        table = User.query.all()\n",
    "    json_ready = [user.read() for user in table] # \"List Comprehensions\", for each user add user.read() to list\n",
    "    return json_ready\n",
    "\n",
    "read()"
   ]
  },
  {
   "attachments": {},
   "cell_type": "markdown",
   "metadata": {},
   "source": [
    "# Hacks\n",
    "- Add this Blog to you own Blogging site.  In the Blog add notes and observations on each code cell.\n",
    "- Change blog to your own database.\n",
    "- Add additional CRUD\n",
    "    - Add Update functionality to this blog.\n",
    "    - Add Delete functionality to this blog."
   ]
  },
  {
   "attachments": {},
   "cell_type": "markdown",
   "metadata": {},
   "source": [
    "## Update Function"
   ]
  },
  {
   "cell_type": "code",
   "execution_count": 66,
   "metadata": {},
   "outputs": [
    {
     "name": "stdout",
     "output_type": "stream",
     "text": [
      "Inside create\n",
      "Unknown error uid {uid}\n"
     ]
    }
   ],
   "source": [
    "def update():\n",
    "    # optimize user time to see if uid exists\n",
    "    uid = input(\"Enter your user id:\")\n",
    "    user = find_by_uid(uid)\n",
    "    if user != None:\n",
    "        pass\n",
    "    else:\n",
    "        print(f\"No user id {uid} found\")\n",
    "        return\n",
    "    rname = input(\"Enter the recipe you are reviewing:\")\n",
    "    comment = input(\"Enter your review:\")\n",
    "    rating = input(\"Enter your rating out of 10:\")\n",
    "    uid = input(\"Enter your Username:\")\n",
    "    \n",
    "    # Initialize User object before date\n",
    "    uo = User(rname=rname,\n",
    "              comment=comment,\n",
    "              rating=rating,\n",
    "              uid=uid\n",
    "              )\n",
    "    # write object to database\n",
    "    with app.app_context():\n",
    "        try:\n",
    "            user = uo.create()\n",
    "            print(\"Created\\n\", object.read())\n",
    "        except:  # error raised if object not created\n",
    "            print(\"Unknown error uid {uid}\")\n",
    "        \n",
    "update()"
   ]
  },
  {
   "attachments": {},
   "cell_type": "markdown",
   "metadata": {},
   "source": [
    "## Delete Function"
   ]
  },
  {
   "cell_type": "code",
   "execution_count": 73,
   "metadata": {},
   "outputs": [
    {
     "name": "stdout",
     "output_type": "stream",
     "text": [
      "The row with id 1 was successfully deleted\n"
     ]
    }
   ],
   "source": [
    "import sqlite3\n",
    "\n",
    "database = 'instance/sqlite.db' # this is location of database\n",
    "\n",
    "def delete():\n",
    "    id = input(\"Enter id to delete\")\n",
    "\n",
    "    # Connect to the database file\n",
    "    conn = sqlite3.connect(database)\n",
    "\n",
    "    # Create a cursor object to execute SQL commands\n",
    "    cursor = conn.cursor()\n",
    "    \n",
    "    try:\n",
    "        cursor.execute(\"DELETE FROM review WHERE id = ?\", (id))\n",
    "        if cursor.rowcount == 0:\n",
    "            # The id was not found in the table\n",
    "            print(f\"No id {id} was not found in the table\")\n",
    "        else:\n",
    "            # The id was found in the table and the row was deleted\n",
    "            print(f\"The row with id {id} was successfully deleted\")\n",
    "        conn.commit()\n",
    "    except sqlite3.Error as error:\n",
    "        print(\"Error while executing the DELETE:\", error)\n",
    "    finally:\n",
    "        conn.commit()\n",
    "        conn.close()\n",
    "        \n",
    "delete()"
   ]
  }
 ],
 "metadata": {
  "kernelspec": {
   "display_name": "base",
   "language": "python",
   "name": "python3"
  },
  "language_info": {
   "codemirror_mode": {
    "name": "ipython",
    "version": 3
   },
   "file_extension": ".py",
   "mimetype": "text/x-python",
   "name": "python",
   "nbconvert_exporter": "python",
   "pygments_lexer": "ipython3",
   "version": "3.9.12"
  },
  "orig_nbformat": 4,
  "vscode": {
   "interpreter": {
    "hash": "8b82d5009c68ba5675978267e2b13a671f2a7143d61273c5a3813c97e0b2493d"
   }
  }
 },
 "nbformat": 4,
 "nbformat_minor": 2
}
