{
 "cells": [
  {
   "attachments": {},
   "cell_type": "markdown",
   "metadata": {},
   "source": [
    "#  Unit 2.4b Using Programs with Data, SQL\n",
    "> Using Programs with Data is focused on SQL and database actions.  Part B focuses on learning SQL commands, connections, and curses using an Imperative programming style,\n",
    "- toc: true\n",
    "- categories: []\n",
    "- type: ap\n",
    "- week: 26"
   ]
  },
  {
   "attachments": {},
   "cell_type": "markdown",
   "metadata": {},
   "source": [
    "# Database Programming is Program with Data\n",
    "> Each Tri 2 Final Project should be an example of a Program with Data. \n",
    "\n",
    ">  Prepare to use SQLite in common Imperative Technique\n",
    "- Explore [SQLite Connect object](https://www.tutorialspoint.com/python_data_access/python_sqlite_establishing_connection.htm) to establish database connection\n",
    "- Explore [SQLite Cursor Object](https://www.tutorialspoint.com/python_data_access/python_sqlite_cursor_object.htm) to fetch data from a table within a database\n"
   ]
  },
  {
   "attachments": {},
   "cell_type": "markdown",
   "metadata": {},
   "source": [
    "## Schema of Users table in Sqlite.db\n",
    "> Uses PRAGMA statement to read schema.\n",
    "\n",
    "Describe Schema, here is resource [Resource](https://www.sqlite.org/index.html)\n",
    "- What is a database schema?\n",
    "    - the categories of a table\n",
    "- What is the purpose of identity Column in SQL database?\n",
    "    - makes it easier to search through and access the data\n",
    "- What is the purpose of a primary key in SQL database?\n",
    "    - to be unique to each row\n",
    "- What are the Data Types in SQL table?\n",
    "    - strings, floats, booleans, integers, dictionaries, lists"
   ]
  },
  {
   "cell_type": "code",
   "execution_count": 39,
   "metadata": {},
   "outputs": [],
   "source": [
    "import sqlite3\n",
    "\n",
    "database = 'instance/sqlite.db' # this is location of database\n",
    "\n",
    "def schema():\n",
    "    \n",
    "    # Connect to the database file\n",
    "    conn = sqlite3.connect(database)\n",
    "\n",
    "    # Create a cursor object to execute SQL queries\n",
    "    cursor = conn.cursor()\n",
    "    \n",
    "    # Fetch results of Schema\n",
    "    results = cursor.execute(\"PRAGMA table_info('reviews')\").fetchall()\n",
    "\n",
    "    # Print the results\n",
    "    for row in results:\n",
    "        print(row)\n",
    "\n",
    "    # Close the database connection\n",
    "    conn.close()\n",
    "    \n",
    "schema()"
   ]
  },
  {
   "attachments": {},
   "cell_type": "markdown",
   "metadata": {},
   "source": [
    "## Reading Users table in Sqlite.db\n",
    "> Uses SQL SELECT statement to read data\n",
    "\n",
    "- What is a connection object? After you google it, what do you think it does?\n",
    "    - It helps people store their personal data in a sqlite table\n",
    "- Same for cursor object?\n",
    "    - lets you have sqlite methods\n",
    "- Look at conn object and cursor object in VSCode debugger.  What attributes are in the object?\n",
    "- Is \"results\" an object? How do you know?\n",
    "    - Yes it is, because it stores data"
   ]
  },
  {
   "cell_type": "code",
   "execution_count": 12,
   "metadata": {},
   "outputs": [
    {
     "name": "stdout",
     "output_type": "stream",
     "text": [
      "(1, 'Thomas Edison', 'toby', 'sha256$ZrkfZKIXhjggtf6e$2d928daa795146fc79a2437872fbd6946c7323b82d5d13cd11dfdb9fee60b88b', '1847-02-11')\n",
      "(2, 'Nikola Tesla', 'niko', 'sha256$fv8MRcpeg39Cjlto$9fa55fdd968d4d9378db8d8502e5c6f4351542e69921a0fd9e769cae551724ac', '2023-03-15')\n",
      "(3, 'Alexander Graham Bell', 'lex', 'sha256$9U4JXBD5Nvk9mhKE$2d8deef05fbf75a934424e5adf5b36a5f4bd4a1f2ecc21a0020ee1ac5a319999', '2023-03-15')\n",
      "(4, 'Eli Whitney', 'whit', 'sha256$fAtOEFAs2812yYux$d7f831970388378aaa80155b50f02dc4fc17153dbe1996320df34536a3afa6c3', '2023-03-15')\n",
      "(5, 'Indiana Jones', 'indi', 'sha256$Exe7KXrN0G49biht$0f1bc60d3109d4428dad3094cace886cf03a042d4bdc73e3feacb980c4097a6b', '1920-10-21')\n",
      "(6, 'Marion Ravenwood', 'raven', 'sha256$8oY0moMALBXrngso$fa9436f0926e63d280e262458bf4325516e2c1ac4b67c1081cafdda81f884f3d', '1921-10-21')\n",
      "(7, 'tester', 'test', 'sha256$IEuQPe9uPiDn4scA$205af8d9d2fc222be88b83f911ad7bc5f0f519def206caeb009a80b23406df79', '2023-03-15')\n",
      "(8, 'soham', 'sohamkamat', 'gothackednewpassword123', '2007-03-09')\n"
     ]
    }
   ],
   "source": [
    "import sqlite3\n",
    "\n",
    "def read():\n",
    "    # Connect to the database file\n",
    "    conn = sqlite3.connect(database)\n",
    "\n",
    "    # Create a cursor object to execute SQL queries\n",
    "    cursor = conn.cursor()\n",
    "    \n",
    "    # Execute a SELECT statement to retrieve data from a table\n",
    "    results = cursor.execute('SELECT * FROM users').fetchall()\n",
    "\n",
    "    # Print the results\n",
    "    if len(results) == 0:\n",
    "        print(\"Table is empty\")\n",
    "    else:\n",
    "        for row in results:\n",
    "            print(row)\n",
    "\n",
    "    # Close the cursor and connection objects\n",
    "    cursor.close()\n",
    "    conn.close()\n",
    "    \n",
    "read()\n"
   ]
  },
  {
   "attachments": {},
   "cell_type": "markdown",
   "metadata": {},
   "source": [
    "## Create a new User in table in Sqlite.db\n",
    "> Uses SQL INSERT to add row\n",
    "-  Compare create() in both SQL lessons.  What is better or worse in the two implementations?\n",
    "    - In the first lesson, the create function uses object oriented programming while the second one takes a more imperative approach, In OOP , large databases stay organized while in Imperative may become difficult to navigate and add to after a certain amount of data. However, imperative is easier to understand and can therefore be easier to work with at times.\n",
    "-  Explain purpose of SQL INSERT.   Is this the same as User `__init__`?\n",
    "    - SQL INSERT inserts data into a specified schema of the table. User init initiallizes the dataset. They are not the same thing."
   ]
  },
  {
   "cell_type": "code",
   "execution_count": 3,
   "metadata": {},
   "outputs": [
    {
     "name": "stdout",
     "output_type": "stream",
     "text": [
      "A new user record sohamkamat has been created\n"
     ]
    }
   ],
   "source": [
    "import sqlite3\n",
    "\n",
    "def create():\n",
    "    name = input(\"Enter your name:\")\n",
    "    uid = input(\"Enter your user id:\")\n",
    "    password = input(\"Enter your password\")\n",
    "    dob = input(\"Enter your date of birth 'YYYY-MM-DD'\")\n",
    "    \n",
    "    # Connect to the database file\n",
    "    conn = sqlite3.connect(database)\n",
    "\n",
    "    # Create a cursor object to execute SQL commands\n",
    "    cursor = conn.cursor()\n",
    "\n",
    "    try:\n",
    "        # Execute an SQL command to insert data into a table\n",
    "        cursor.execute(\"INSERT INTO users (_name, _uid, _password, _dob) VALUES (?, ?, ?, ?)\", (name, uid, password, dob))\n",
    "        \n",
    "        # Commit the changes to the database\n",
    "        conn.commit()\n",
    "        print(f\"A new user record {uid} has been created\")\n",
    "                \n",
    "    except sqlite3.Error as error:\n",
    "        print(\"Error while executing the INSERT:\", error)\n",
    "\n",
    "\n",
    "    # Close the cursor and connection objects\n",
    "    cursor.close()\n",
    "    conn.close()\n",
    "    \n",
    "create()"
   ]
  },
  {
   "attachments": {},
   "cell_type": "markdown",
   "metadata": {},
   "source": [
    "## Updating a User in table in Sqlite.db\n",
    "> Uses SQL UPDATE to modify password\n",
    "- What does the hacked part do?\n",
    "    - Makes sure the length of the password is more than 2 characters\n",
    "- Explain try/except, when would except occur?\n",
    "    - When the function doesn't work properly, or in this case the updated password doesn't fit the requirements.\n",
    "- What code seems to be repeated in each of these examples to point, why is it repeated?\n",
    "    - The conn and cursor being connected to the sqlite database are defined in each file. This is because without this the database won't exist."
   ]
  },
  {
   "cell_type": "code",
   "execution_count": 4,
   "metadata": {},
   "outputs": [
    {
     "name": "stdout",
     "output_type": "stream",
     "text": [
      "The row with user id sohamkamat the password has been successfully updated\n"
     ]
    }
   ],
   "source": [
    "import sqlite3\n",
    "\n",
    "def update():\n",
    "    uid = input(\"Enter user id to update\")\n",
    "    password = input(\"Enter updated password\")\n",
    "    if len(password) < 2:\n",
    "        message = \"hacked\"\n",
    "        password = 'gothackednewpassword123'\n",
    "    else:\n",
    "        message = \"successfully updated\"\n",
    "\n",
    "    # Connect to the database file\n",
    "    conn = sqlite3.connect(database)\n",
    "\n",
    "    # Create a cursor object to execute SQL commands\n",
    "    cursor = conn.cursor()\n",
    "\n",
    "    try:\n",
    "        # Execute an SQL command to update data in a table\n",
    "        cursor.execute(\"UPDATE users SET _password = ? WHERE _uid = ?\", (password, uid))\n",
    "        if cursor.rowcount == 0:\n",
    "            # The uid was not found in the table\n",
    "            print(f\"No uid {uid} was not found in the table\")\n",
    "        else:\n",
    "            print(f\"The row with user id {uid} the password has been {message}\")\n",
    "            conn.commit()\n",
    "    except sqlite3.Error as error:\n",
    "        print(\"Error while executing the UPDATE:\", error)\n",
    "        \n",
    "    \n",
    "    # Close the cursor and connection objects\n",
    "    cursor.close()\n",
    "    conn.close()\n",
    "    \n",
    "update()\n"
   ]
  },
  {
   "attachments": {},
   "cell_type": "markdown",
   "metadata": {},
   "source": [
    "## Delete a User in table in Sqlite.db\n",
    "> Uses a delete function to remove a user based on a user input of the id.\n",
    "- Is DELETE a dangerous operation?  Why?\n",
    "    - Yes, it is dangerous because it doesn't ask for any user validation and deletes the user without asking for confirmation.\n",
    "- In the print statemements, what is the \"f\" and what does {uid} do?\n",
    "    - the f in print statements automatically converts the variables to strings."
   ]
  },
  {
   "cell_type": "code",
   "execution_count": 13,
   "metadata": {},
   "outputs": [],
   "source": [
    "import sqlite3\n",
    "\n",
    "def delete():\n",
    "    uid = input(\"Enter user id to delete\")\n",
    "\n",
    "    # Connect to the database file\n",
    "    conn = sqlite3.connect(database)\n",
    "\n",
    "    # Create a cursor object to execute SQL commands\n",
    "    cursor = conn.cursor()\n",
    "    \n",
    "    try:\n",
    "        cursor.execute(\"DELETE FROM users WHERE _uid = ?\", (uid,))\n",
    "        if cursor.rowcount == 0:\n",
    "            # The uid was not found in the table\n",
    "            print(f\"No uid {uid} was not found in the table\")\n",
    "        else:\n",
    "            # The uid was found in the table and the row was deleted\n",
    "            print(f\"The row with uid {uid} was successfully deleted\")\n",
    "        conn.commit()\n",
    "    except sqlite3.Error as error:\n",
    "        print(\"Error while executing the DELETE:\", error)\n",
    "        \n",
    "    # Close the cursor and connection objects\n",
    "    cursor.close()\n",
    "    conn.close()\n",
    "    \n",
    "delete()"
   ]
  },
  {
   "attachments": {},
   "cell_type": "markdown",
   "metadata": {},
   "source": [
    "# Menu Interface to CRUD operations\n",
    "> CRUD and Schema interactions from one location by running menu. Observe input at the top of VSCode, observe output underneath code cell.\n",
    "- Why does the menu repeat?\n",
    "    - Menu repeats because it's getting called several times.\n",
    "- Could you refactor this menu?  Make it work with a List?\n",
    "    - Yes, you could but would be less efficient."
   ]
  },
  {
   "cell_type": "code",
   "execution_count": 7,
   "metadata": {},
   "outputs": [
    {
     "name": "stdout",
     "output_type": "stream",
     "text": [
      "The row with user id sohamkamat the password has been hacked\n"
     ]
    }
   ],
   "source": [
    "# Menu, to run other cells from one control point\n",
    "def menu():\n",
    "    operation = input(\"Enter: (C)reate (R)ead (U)pdate or (D)elete or (S)chema\")\n",
    "    if operation.lower() == 'c':\n",
    "        create()\n",
    "    elif operation.lower() == 'r':\n",
    "        read()\n",
    "    elif operation.lower() == 'u':\n",
    "        update()\n",
    "    elif operation.lower() == 'd':\n",
    "        delete()\n",
    "    elif operation.lower() == 's':\n",
    "        schema()\n",
    "    elif len(operation)==0: # Escape Key\n",
    "        return\n",
    "    else:\n",
    "        print(\"Please enter c, r, u, or d\") \n",
    "    menu() # recursion, repeat menu\n",
    "        \n",
    "try:\n",
    "    menu() # start menu\n",
    "except:\n",
    "    print(\"Perform Jupyter 'Run All' prior to starting menu\")\n"
   ]
  },
  {
   "attachments": {},
   "cell_type": "markdown",
   "metadata": {},
   "source": [
    "# Hacks\n",
    "- Add this Blog to you own Blogging site.  In the Blog add notes and observations on each code cell.\n",
    "- In this implementation, do you see procedural abstraction?\n",
    "- In 2.4a or 2.4b lecture\n",
    "    - Do you see data abstraction?  Complement this with Debugging example.\n",
    "    - Use Imperative or OOP style to Create a new Table or do something that applies to your CPT project.\n",
    "\n",
    "Reference... [sqlite documentation](https://www.sqlitetutorial.net/sqlite-python/creating-tables/)\n"
   ]
  },
  {
   "attachments": {},
   "cell_type": "markdown",
   "metadata": {},
   "source": [
    "## General Setup"
   ]
  },
  {
   "cell_type": "code",
   "execution_count": 36,
   "metadata": {},
   "outputs": [
    {
     "ename": "NameError",
     "evalue": "name 'Error' is not defined",
     "output_type": "error",
     "traceback": [
      "\u001b[0;31m---------------------------------------------------------------------------\u001b[0m",
      "\u001b[0;31mOperationalError\u001b[0m                          Traceback (most recent call last)",
      "\u001b[1;32m/home/soham/vscode/csp-fastpages/_notebooks/2023-03-16-AP-unit2_4b.ipynb Cell 17\u001b[0m in \u001b[0;36mcreate_table\u001b[0;34m(conn, create_table_sql)\u001b[0m\n\u001b[1;32m     <a href='vscode-notebook-cell://wsl%2Bubuntu/home/soham/vscode/csp-fastpages/_notebooks/2023-03-16-AP-unit2_4b.ipynb#X25sdnNjb2RlLXJlbW90ZQ%3D%3D?line=13'>14</a>\u001b[0m     c \u001b[39m=\u001b[39m conn\u001b[39m.\u001b[39mcursor()\n\u001b[0;32m---> <a href='vscode-notebook-cell://wsl%2Bubuntu/home/soham/vscode/csp-fastpages/_notebooks/2023-03-16-AP-unit2_4b.ipynb#X25sdnNjb2RlLXJlbW90ZQ%3D%3D?line=14'>15</a>\u001b[0m     c\u001b[39m.\u001b[39;49mexecute(create_table_sql)\n\u001b[1;32m     <a href='vscode-notebook-cell://wsl%2Bubuntu/home/soham/vscode/csp-fastpages/_notebooks/2023-03-16-AP-unit2_4b.ipynb#X25sdnNjb2RlLXJlbW90ZQ%3D%3D?line=15'>16</a>\u001b[0m \u001b[39mexcept\u001b[39;00m Error \u001b[39mas\u001b[39;00m e: \n",
      "\u001b[0;31mOperationalError\u001b[0m: near \")\": syntax error",
      "\nDuring handling of the above exception, another exception occurred:\n",
      "\u001b[0;31mNameError\u001b[0m                                 Traceback (most recent call last)",
      "\u001b[1;32m/home/soham/vscode/csp-fastpages/_notebooks/2023-03-16-AP-unit2_4b.ipynb Cell 17\u001b[0m in \u001b[0;36m<cell line: 37>\u001b[0;34m()\u001b[0m\n\u001b[1;32m     <a href='vscode-notebook-cell://wsl%2Bubuntu/home/soham/vscode/csp-fastpages/_notebooks/2023-03-16-AP-unit2_4b.ipynb#X25sdnNjb2RlLXJlbW90ZQ%3D%3D?line=33'>34</a>\u001b[0m         \u001b[39mprint\u001b[39m(\u001b[39m\"\u001b[39m\u001b[39mError! cannot create the database connection.\u001b[39m\u001b[39m\"\u001b[39m)\n\u001b[1;32m     <a href='vscode-notebook-cell://wsl%2Bubuntu/home/soham/vscode/csp-fastpages/_notebooks/2023-03-16-AP-unit2_4b.ipynb#X25sdnNjb2RlLXJlbW90ZQ%3D%3D?line=36'>37</a>\u001b[0m \u001b[39mif\u001b[39;00m \u001b[39m__name__\u001b[39m \u001b[39m==\u001b[39m \u001b[39m'\u001b[39m\u001b[39m__main__\u001b[39m\u001b[39m'\u001b[39m:\n\u001b[0;32m---> <a href='vscode-notebook-cell://wsl%2Bubuntu/home/soham/vscode/csp-fastpages/_notebooks/2023-03-16-AP-unit2_4b.ipynb#X25sdnNjb2RlLXJlbW90ZQ%3D%3D?line=37'>38</a>\u001b[0m     main()\n",
      "\u001b[1;32m/home/soham/vscode/csp-fastpages/_notebooks/2023-03-16-AP-unit2_4b.ipynb Cell 17\u001b[0m in \u001b[0;36mmain\u001b[0;34m()\u001b[0m\n\u001b[1;32m     <a href='vscode-notebook-cell://wsl%2Bubuntu/home/soham/vscode/csp-fastpages/_notebooks/2023-03-16-AP-unit2_4b.ipynb#X25sdnNjb2RlLXJlbW90ZQ%3D%3D?line=28'>29</a>\u001b[0m \u001b[39m# create table\u001b[39;00m\n\u001b[1;32m     <a href='vscode-notebook-cell://wsl%2Bubuntu/home/soham/vscode/csp-fastpages/_notebooks/2023-03-16-AP-unit2_4b.ipynb#X25sdnNjb2RlLXJlbW90ZQ%3D%3D?line=29'>30</a>\u001b[0m \u001b[39mif\u001b[39;00m conn \u001b[39mis\u001b[39;00m \u001b[39mnot\u001b[39;00m \u001b[39mNone\u001b[39;00m:\n\u001b[1;32m     <a href='vscode-notebook-cell://wsl%2Bubuntu/home/soham/vscode/csp-fastpages/_notebooks/2023-03-16-AP-unit2_4b.ipynb#X25sdnNjb2RlLXJlbW90ZQ%3D%3D?line=30'>31</a>\u001b[0m     \u001b[39m# create books table\u001b[39;00m\n\u001b[0;32m---> <a href='vscode-notebook-cell://wsl%2Bubuntu/home/soham/vscode/csp-fastpages/_notebooks/2023-03-16-AP-unit2_4b.ipynb#X25sdnNjb2RlLXJlbW90ZQ%3D%3D?line=31'>32</a>\u001b[0m     create_table(conn, sql_create_games_table)\n\u001b[1;32m     <a href='vscode-notebook-cell://wsl%2Bubuntu/home/soham/vscode/csp-fastpages/_notebooks/2023-03-16-AP-unit2_4b.ipynb#X25sdnNjb2RlLXJlbW90ZQ%3D%3D?line=32'>33</a>\u001b[0m \u001b[39melse\u001b[39;00m:\n\u001b[1;32m     <a href='vscode-notebook-cell://wsl%2Bubuntu/home/soham/vscode/csp-fastpages/_notebooks/2023-03-16-AP-unit2_4b.ipynb#X25sdnNjb2RlLXJlbW90ZQ%3D%3D?line=33'>34</a>\u001b[0m     \u001b[39mprint\u001b[39m(\u001b[39m\"\u001b[39m\u001b[39mError! cannot create the database connection.\u001b[39m\u001b[39m\"\u001b[39m)\n",
      "\u001b[1;32m/home/soham/vscode/csp-fastpages/_notebooks/2023-03-16-AP-unit2_4b.ipynb Cell 17\u001b[0m in \u001b[0;36mcreate_table\u001b[0;34m(conn, create_table_sql)\u001b[0m\n\u001b[1;32m     <a href='vscode-notebook-cell://wsl%2Bubuntu/home/soham/vscode/csp-fastpages/_notebooks/2023-03-16-AP-unit2_4b.ipynb#X25sdnNjb2RlLXJlbW90ZQ%3D%3D?line=13'>14</a>\u001b[0m     c \u001b[39m=\u001b[39m conn\u001b[39m.\u001b[39mcursor()\n\u001b[1;32m     <a href='vscode-notebook-cell://wsl%2Bubuntu/home/soham/vscode/csp-fastpages/_notebooks/2023-03-16-AP-unit2_4b.ipynb#X25sdnNjb2RlLXJlbW90ZQ%3D%3D?line=14'>15</a>\u001b[0m     c\u001b[39m.\u001b[39mexecute(create_table_sql)\n\u001b[0;32m---> <a href='vscode-notebook-cell://wsl%2Bubuntu/home/soham/vscode/csp-fastpages/_notebooks/2023-03-16-AP-unit2_4b.ipynb#X25sdnNjb2RlLXJlbW90ZQ%3D%3D?line=15'>16</a>\u001b[0m \u001b[39mexcept\u001b[39;00m Error \u001b[39mas\u001b[39;00m e: \n\u001b[1;32m     <a href='vscode-notebook-cell://wsl%2Bubuntu/home/soham/vscode/csp-fastpages/_notebooks/2023-03-16-AP-unit2_4b.ipynb#X25sdnNjb2RlLXJlbW90ZQ%3D%3D?line=16'>17</a>\u001b[0m     \u001b[39mprint\u001b[39m(e)\n",
      "\u001b[0;31mNameError\u001b[0m: name 'Error' is not defined"
     ]
    }
   ],
   "source": [
    "import sqlite3 \n",
    "\n",
    "def create_connection(db_file): \n",
    "    conn = None\n",
    "    try: \n",
    "        conn = sqlite3.connect(db_file)\n",
    "        return conn \n",
    "    except Error as e: \n",
    "        print(e)\n",
    "    return conn \n",
    "\n",
    "def create_table(conn, create_table_sql): \n",
    "    try: \n",
    "        c = conn.cursor()\n",
    "        c.execute(create_table_sql)\n",
    "    except Error as e: \n",
    "        print(e)\n",
    "\n",
    "def main(): \n",
    "    database = 'instance/games.db'\n",
    "\n",
    "    sql_create_games_table = \"\"\" CREATE TABLE IF NOT EXISTS game (\n",
    "                                        _creator integer PRIMARY KEY,\n",
    "                                        _year integer NOT NULL,\n",
    "                                        _name text NOT NULL,\n",
    "                                    ); \"\"\"\n",
    "    conn = create_connection(database)\n",
    "\n",
    "    # create table\n",
    "    if conn is not None:\n",
    "        # create books table\n",
    "        create_table(conn, sql_create_games_table)\n",
    "    else:\n",
    "        print(\"Error! cannot create the database connection.\")\n",
    "\n",
    "\n",
    "if __name__ == '__main__':\n",
    "    main()"
   ]
  },
  {
   "attachments": {},
   "cell_type": "markdown",
   "metadata": {},
   "source": [
    "## Read"
   ]
  },
  {
   "cell_type": "code",
   "execution_count": 31,
   "metadata": {},
   "outputs": [
    {
     "ename": "OperationalError",
     "evalue": "no such table: games",
     "output_type": "error",
     "traceback": [
      "\u001b[0;31m---------------------------------------------------------------------------\u001b[0m",
      "\u001b[0;31mOperationalError\u001b[0m                          Traceback (most recent call last)",
      "\u001b[1;32m/home/soham/vscode/csp-fastpages/_notebooks/2023-03-16-AP-unit2_4b.ipynb Cell 19\u001b[0m in \u001b[0;36m<cell line: 24>\u001b[0;34m()\u001b[0m\n\u001b[1;32m     <a href='vscode-notebook-cell://wsl%2Bubuntu/home/soham/vscode/csp-fastpages/_notebooks/2023-03-16-AP-unit2_4b.ipynb#X26sdnNjb2RlLXJlbW90ZQ%3D%3D?line=20'>21</a>\u001b[0m     cursor\u001b[39m.\u001b[39mclose()\n\u001b[1;32m     <a href='vscode-notebook-cell://wsl%2Bubuntu/home/soham/vscode/csp-fastpages/_notebooks/2023-03-16-AP-unit2_4b.ipynb#X26sdnNjb2RlLXJlbW90ZQ%3D%3D?line=21'>22</a>\u001b[0m     conn\u001b[39m.\u001b[39mclose()\n\u001b[0;32m---> <a href='vscode-notebook-cell://wsl%2Bubuntu/home/soham/vscode/csp-fastpages/_notebooks/2023-03-16-AP-unit2_4b.ipynb#X26sdnNjb2RlLXJlbW90ZQ%3D%3D?line=23'>24</a>\u001b[0m read()\n",
      "\u001b[1;32m/home/soham/vscode/csp-fastpages/_notebooks/2023-03-16-AP-unit2_4b.ipynb Cell 19\u001b[0m in \u001b[0;36mread\u001b[0;34m()\u001b[0m\n\u001b[1;32m      <a href='vscode-notebook-cell://wsl%2Bubuntu/home/soham/vscode/csp-fastpages/_notebooks/2023-03-16-AP-unit2_4b.ipynb#X26sdnNjb2RlLXJlbW90ZQ%3D%3D?line=7'>8</a>\u001b[0m cursor \u001b[39m=\u001b[39m conn\u001b[39m.\u001b[39mcursor()\n\u001b[1;32m     <a href='vscode-notebook-cell://wsl%2Bubuntu/home/soham/vscode/csp-fastpages/_notebooks/2023-03-16-AP-unit2_4b.ipynb#X26sdnNjb2RlLXJlbW90ZQ%3D%3D?line=9'>10</a>\u001b[0m \u001b[39m# Execute a SELECT statement to retrieve data from a table\u001b[39;00m\n\u001b[0;32m---> <a href='vscode-notebook-cell://wsl%2Bubuntu/home/soham/vscode/csp-fastpages/_notebooks/2023-03-16-AP-unit2_4b.ipynb#X26sdnNjb2RlLXJlbW90ZQ%3D%3D?line=10'>11</a>\u001b[0m results \u001b[39m=\u001b[39m cursor\u001b[39m.\u001b[39;49mexecute(\u001b[39m'\u001b[39;49m\u001b[39mSELECT * FROM games\u001b[39;49m\u001b[39m'\u001b[39;49m)\u001b[39m.\u001b[39mfetchall()\n\u001b[1;32m     <a href='vscode-notebook-cell://wsl%2Bubuntu/home/soham/vscode/csp-fastpages/_notebooks/2023-03-16-AP-unit2_4b.ipynb#X26sdnNjb2RlLXJlbW90ZQ%3D%3D?line=12'>13</a>\u001b[0m \u001b[39m# Print the results\u001b[39;00m\n\u001b[1;32m     <a href='vscode-notebook-cell://wsl%2Bubuntu/home/soham/vscode/csp-fastpages/_notebooks/2023-03-16-AP-unit2_4b.ipynb#X26sdnNjb2RlLXJlbW90ZQ%3D%3D?line=13'>14</a>\u001b[0m \u001b[39mif\u001b[39;00m \u001b[39mlen\u001b[39m(results) \u001b[39m==\u001b[39m \u001b[39m0\u001b[39m:\n",
      "\u001b[0;31mOperationalError\u001b[0m: no such table: games"
     ]
    }
   ],
   "source": [
    "def read():\n",
    "\n",
    "    database = 'instance/games.db'\n",
    "    # Connect to the database file\n",
    "    conn = sqlite3.connect(database)\n",
    "\n",
    "    # Create a cursor object to execute SQL queries\n",
    "    cursor = conn.cursor()\n",
    "    \n",
    "    # Execute a SELECT statement to retrieve data from a table\n",
    "    results = cursor.execute('SELECT * FROM games').fetchall()\n",
    "\n",
    "    # Print the results\n",
    "    if len(results) == 0:\n",
    "        print(\"Table is empty\")\n",
    "    else:\n",
    "        for row in results:\n",
    "            print(row)\n",
    "\n",
    "    # Close the cursor and connection objects\n",
    "    cursor.close()\n",
    "    conn.close()\n",
    "\n",
    "read()"
   ]
  },
  {
   "attachments": {},
   "cell_type": "markdown",
   "metadata": {},
   "source": [
    "## Create"
   ]
  },
  {
   "cell_type": "code",
   "execution_count": 15,
   "metadata": {},
   "outputs": [
    {
     "name": "stdout",
     "output_type": "stream",
     "text": [
      "A new book record ets has been created\n"
     ]
    }
   ],
   "source": [
    "def create():\n",
    "    database = 'instance/books.db'\n",
    "    author = input(\"Enter author name:\")\n",
    "    country = input(\"Enter country of origin:\")\n",
    "    title = input(\"Enter book title\")\n",
    "    pages = input(\"Enter number of pages\")\n",
    "    borrowed = input(\"Enter if book is borrowed. 1 for yes, 0 for no.\")\n",
    "    \n",
    "    # Connect to the database file\n",
    "    conn = sqlite3.connect(database)\n",
    "\n",
    "    # Create a cursor object to execute SQL commands\n",
    "    cursor = conn.cursor()\n",
    "\n",
    "    try:\n",
    "        # Execute an SQL command to insert data into a table\n",
    "        cursor.execute(\"INSERT INTO books (_author, _country, _title, _pages, _borrowed) VALUES (?, ?, ?, ?, ?)\", (author, country, title, pages, borrowed))\n",
    "        # borrowed represents whether the book is available or not avaiable at the library, whether it is checked out or not\n",
    "        # Commit the changes to the database\n",
    "        conn.commit()\n",
    "        print(f\"A new book record {title} has been created\")\n",
    "                \n",
    "    except sqlite3.Error as error:\n",
    "        print(\"Error while executing the INSERT:\", error)\n",
    "\n",
    "\n",
    "    # Close the cursor and connection objects\n",
    "    cursor.close()\n",
    "    conn.close()\n",
    "    \n",
    "create()"
   ]
  },
  {
   "cell_type": "code",
   "execution_count": 16,
   "metadata": {},
   "outputs": [
    {
     "name": "stdout",
     "output_type": "stream",
     "text": [
      "(1, 'RYAN HAKIMIPOUR', 'CANADA', 'I LOVE CANDA', 69, 1)\n",
      "(2, 'test', 'test', 'ets', 'test', 'test')\n"
     ]
    }
   ],
   "source": [
    "read()"
   ]
  },
  {
   "cell_type": "code",
   "execution_count": 27,
   "metadata": {},
   "outputs": [
    {
     "name": "stdout",
     "output_type": "stream",
     "text": [
      "                    author         country                title  pages\n",
      "0            Chinua Achebe         Nigeria    Things Fall Apart    209\n",
      "1  Hans Christian Andersen         Denmark          Fairy tales    784\n",
      "2          Dante Alighieri           Italy    The Divine Comedy    928\n",
      "7              Jane Austen  United Kingdom  Pride and Prejudice    226\n",
      "8         Honoré de Balzac          France       Le Père Goriot    443\n"
     ]
    }
   ],
   "source": [
    "import pandas as pd\n",
    "# reads the JSON file and converts it to a Pandas DataFrame\n",
    "df = pd.read_json('files/books.json')\n",
    "cols_to_print = [ 'author', 'country', 'title', 'pages' ]\n",
    "df = df[cols_to_print]\n",
    "rows_to_print = [0,1,2,3,4,5,6,7,8]\n",
    "df = df.iloc[rows_to_print]\n",
    "\n",
    "def remove_unknown(df, col):\n",
    "    x = df[col] == \"Unknown\"\n",
    "    df = df.drop(df[x].index)\n",
    "    return df\n",
    "\n",
    "df = remove_unknown(df, \"author\")\n",
    "print(df)"
   ]
  },
  {
   "cell_type": "code",
   "execution_count": 18,
   "metadata": {},
   "outputs": [],
   "source": [
    "import sqlite3 \n",
    "# populating table with sample data \n",
    "def populate():\n",
    "    database = 'instance/books.db'\n",
    "    # Connect to the database file\n",
    "    conn = sqlite3.connect(database)\n",
    "\n",
    "    # Create a cursor object to execute SQL commands\n",
    "    cursor = conn.cursor()\n",
    "\n",
    "    try:\n",
    "        # Execute an SQL command to insert data into a table\n",
    "        cursor.execute(\"INSERT INTO books (_author, _country, _title, _pages, _borrowed) VALUES (?, ?, ?, ?, ?)\", ('Chinua Achebe'  , 'Nigeria', 'Things Fall Apart', 209, 0))\n",
    "        cursor.execute(\"INSERT INTO books (_author, _country, _title, _pages, _borrowed) VALUES (?, ?, ?, ?, ?)\", ('Hans Christian Andersen' , 'Denmark', 'Fairy Tales', 784, 0))\n",
    "        cursor.execute(\"INSERT INTO books (_author, _country, _title, _pages, _borrowed) VALUES (?, ?, ?, ?, ?)\", ( 'Dante Alighieri' , 'Italy',  'The Divine Comedy' , 928, 1))\n",
    "        cursor.execute(\"INSERT INTO books (_author, _country, _title, _pages, _borrowed) VALUES (?, ?, ?, ?, ?)\", ( 'Jane Austen', 'United Kingdom', 'Pride and Prejudice', 226, 0))\n",
    "        cursor.execute(\"INSERT INTO books (_author, _country, _title, _pages, _borrowed) VALUES (?, ?, ?, ?, ?)\", (' Honoré de Balzac', 'France',  'Le Père Goriot' , 443, 1))\n",
    "        # Commit the changes to the database\n",
    "        conn.commit()\n",
    "                \n",
    "    except sqlite3.Error as error:\n",
    "        print(\"Error while executing the INSERT:\", error)\n",
    "\n",
    "\n",
    "    # Close the cursor and connection objects\n",
    "    cursor.close()\n",
    "    conn.close()\n",
    "    \n",
    "populate()"
   ]
  },
  {
   "cell_type": "code",
   "execution_count": 19,
   "metadata": {},
   "outputs": [
    {
     "name": "stdout",
     "output_type": "stream",
     "text": [
      "(1, 'RYAN HAKIMIPOUR', 'CANADA', 'I LOVE CANDA', 69, 1)\n",
      "(2, 'test', 'test', 'ets', 'test', 'test')\n",
      "(3, 'Chinua Achebe', 'Nigeria', 'Things Fall Apart', 209, 0)\n",
      "(4, 'Hans Christian Andersen', 'Denmark', 'Fairy Tales', 784, 0)\n",
      "(5, 'Dante Alighieri', 'Italy', 'The Divine Comedy', 928, 1)\n",
      "(6, 'Jane Austen', 'United Kingdom', 'Pride and Prejudice', 226, 0)\n",
      "(7, ' Honoré de Balzac', 'France', 'Le Père Goriot', 443, 1)\n"
     ]
    }
   ],
   "source": [
    "import sqlite3  # i am not sure why but here it made me redfine the read function\n",
    "def read():\n",
    "\n",
    "    database = 'instance/books.db'\n",
    "    # Connect to the database file\n",
    "    conn = sqlite3.connect(database)\n",
    "\n",
    "    # Create a cursor object to execute SQL queries\n",
    "    cursor = conn.cursor()\n",
    "    \n",
    "    # Execute a SELECT statement to retrieve data from a table\n",
    "    results = cursor.execute('SELECT * FROM books').fetchall()\n",
    "\n",
    "    # Print the results\n",
    "    if len(results) == 0:\n",
    "        print(\"Table is empty\")\n",
    "    else:\n",
    "        for row in results:\n",
    "            print(row)\n",
    "\n",
    "    # Close the cursor and connection objects\n",
    "    cursor.close()\n",
    "    conn.close()\n",
    "\n",
    "read()"
   ]
  },
  {
   "cell_type": "code",
   "execution_count": 20,
   "metadata": {},
   "outputs": [
    {
     "name": "stdout",
     "output_type": "stream",
     "text": [
      "----Original Table:----\n",
      "(1, 'RYAN HAKIMIPOUR', 'CANADA', 'I LOVE CANDA', 69, 1)\n",
      "(2, 'test', 'test', 'ets', 'test', 'test')\n",
      "(3, 'Chinua Achebe', 'Nigeria', 'Things Fall Apart', 209, 0)\n",
      "(4, 'Hans Christian Andersen', 'Denmark', 'Fairy Tales', 784, 0)\n",
      "(5, 'Dante Alighieri', 'Italy', 'The Divine Comedy', 928, 1)\n",
      "(6, 'Jane Austen', 'United Kingdom', 'Pride and Prejudice', 226, 0)\n",
      "(7, ' Honoré de Balzac', 'France', 'Le Père Goriot', 443, 1)\n",
      "\n",
      "No uid test was not found in the table\n",
      "(1, 'RYAN HAKIMIPOUR', 'CANADA', 'I LOVE CANDA', 69, 1)\n",
      "(2, 'test', 'test', 'ets', 'test', 'test')\n",
      "(3, 'Chinua Achebe', 'Nigeria', 'Things Fall Apart', 209, 0)\n",
      "(4, 'Hans Christian Andersen', 'Denmark', 'Fairy Tales', 784, 0)\n",
      "(5, 'Dante Alighieri', 'Italy', 'The Divine Comedy', 928, 1)\n",
      "(6, 'Jane Austen', 'United Kingdom', 'Pride and Prejudice', 226, 0)\n",
      "(7, ' Honoré de Balzac', 'France', 'Le Père Goriot', 443, 1)\n"
     ]
    }
   ],
   "source": [
    "import sqlite3\n",
    "\n",
    "def delete():\n",
    "    \n",
    "    database = 'instance/books.db'\n",
    "    id = input(\"Enter a book id to delete\")\n",
    "\n",
    "    # Connect to the database file\n",
    "    conn = sqlite3.connect(database)\n",
    "\n",
    "    # Create a cursor object to execute SQL commands\n",
    "    cursor = conn.cursor()\n",
    "    \n",
    "    try:\n",
    "        cursor.execute(\"DELETE FROM books WHERE _id = ?\", (id,))\n",
    "        if cursor.rowcount == 0:\n",
    "            # The uid was not found in the table\n",
    "            print(f\"No uid {id} was not found in the table\")\n",
    "        else:\n",
    "            # The uid was found in the table and the row was deleted\n",
    "            print(f\"The row with uid {id} was successfully deleted\")\n",
    "        conn.commit()\n",
    "    except sqlite3.Error as error:\n",
    "        print(\"Error while executing the DELETE:\", error)\n",
    "        \n",
    "    # Close the cursor and connection objects\n",
    "    cursor.close()\n",
    "    conn.close()\n",
    "print(\"----Original Table:----\")\n",
    "read()\n",
    "print(\"\")\n",
    "delete()\n",
    "read()"
   ]
  },
  {
   "cell_type": "code",
   "execution_count": 21,
   "metadata": {},
   "outputs": [
    {
     "name": "stdout",
     "output_type": "stream",
     "text": [
      "----Original Databse:----\n",
      "(1, 'RYAN HAKIMIPOUR', 'CANADA', 'I LOVE CANDA', 69, 1)\n",
      "(2, 'test', 'test', 'ets', 'test', 'test')\n",
      "(3, 'Chinua Achebe', 'Nigeria', 'Things Fall Apart', 209, 0)\n",
      "(4, 'Hans Christian Andersen', 'Denmark', 'Fairy Tales', 784, 0)\n",
      "(5, 'Dante Alighieri', 'Italy', 'The Divine Comedy', 928, 1)\n",
      "(6, 'Jane Austen', 'United Kingdom', 'Pride and Prejudice', 226, 0)\n",
      "(7, ' Honoré de Balzac', 'France', 'Le Père Goriot', 443, 1)\n",
      "\n",
      "----Updated Databse:----\n",
      "No id test was not found in the table\n",
      "(1, 'RYAN HAKIMIPOUR', 'CANADA', 'I LOVE CANDA', 69, 1)\n",
      "(2, 'test', 'test', 'ets', 'test', 'test')\n",
      "(3, 'Chinua Achebe', 'Nigeria', 'Things Fall Apart', 209, 0)\n",
      "(4, 'Hans Christian Andersen', 'Denmark', 'Fairy Tales', 784, 0)\n",
      "(5, 'Dante Alighieri', 'Italy', 'The Divine Comedy', 928, 1)\n",
      "(6, 'Jane Austen', 'United Kingdom', 'Pride and Prejudice', 226, 0)\n",
      "(7, ' Honoré de Balzac', 'France', 'Le Père Goriot', 443, 1)\n"
     ]
    }
   ],
   "source": [
    "import sqlite3\n",
    "\n",
    "def update():  \n",
    "    \n",
    "    database = 'instance/books.db'\n",
    "    id = input(\"Enter a book id to update book's borrow status:\")\n",
    "    borrowed = input(\"Enter updated borrow status (1 for borrowed, 0 for returned):\")\n",
    "    if borrowed == 1: \n",
    "        status = \"borrowed\"\n",
    "    else: \n",
    "        status = \"returned\"\n",
    "\n",
    "    # Connect to the database file\n",
    "    conn = sqlite3.connect(database)\n",
    "\n",
    "    # Create a cursor object to execute SQL commands\n",
    "    cursor = conn.cursor()\n",
    "\n",
    "    try:\n",
    "        # Execute an SQL command to update data in a table\n",
    "        cursor.execute(\"UPDATE books SET _borrowed = ? WHERE _id = ?\", (borrowed, id))\n",
    "        if cursor.rowcount == 0:\n",
    "            # The uid was not found in the table\n",
    "            print(f\"No id {id} was not found in the table\")\n",
    "        else:\n",
    "            print(f\"The book with id {id} has been updated to: {status}\")\n",
    "            conn.commit()\n",
    "    except sqlite3.Error as error:\n",
    "        print(\"Error while executing the UPDATE:\", error)\n",
    "        \n",
    "    \n",
    "    # Close the cursor and connection objects\n",
    "    cursor.close()\n",
    "    conn.close()\n",
    "print('----Original Databse:----')\n",
    "read()   \n",
    "print(\"\")\n",
    "print('----Updated Databse:----')\n",
    "update()\n",
    "read()"
   ]
  },
  {
   "cell_type": "code",
   "execution_count": 22,
   "metadata": {},
   "outputs": [],
   "source": [
    "def create():\n",
    "    database = 'instance/books.db'\n",
    "    author = input(\"Enter author name:\")\n",
    "    country = input(\"Enter country of origin:\")\n",
    "    title = input(\"Enter book title\")\n",
    "    pages = input(\"Enter number of pages\")\n",
    "    borrowed = input(\"Enter if book is borrowed. 1 for yes, 0 for no.\")\n",
    "    \n",
    "    # Connect to the database file\n",
    "    conn = sqlite3.connect(database)\n",
    "\n",
    "    # Create a cursor object to execute SQL commands\n",
    "    cursor = conn.cursor()\n",
    "\n",
    "    try:\n",
    "        # Execute an SQL command to insert data into a table\n",
    "        cursor.execute(\"INSERT INTO books (_author, _country, _title, _pages, _borrowed) VALUES (?, ?, ?, ?, ?)\", (author, country, title, pages, borrowed))\n",
    "        # borrowed represents whether the book is available or not avaiable at the library, whether it is checked out or not\n",
    "        # Commit the changes to the database\n",
    "        conn.commit()\n",
    "        print(f\"A new book record {title} has been created\")\n",
    "                \n",
    "    except sqlite3.Error as error:\n",
    "        print(\"Error while executing the INSERT:\", error)\n",
    "\n",
    "\n",
    "    # Close the cursor and connection objects\n",
    "    cursor.close()\n",
    "    conn.close()"
   ]
  },
  {
   "cell_type": "code",
   "execution_count": 23,
   "metadata": {},
   "outputs": [
    {
     "name": "stdout",
     "output_type": "stream",
     "text": [
      "No uid soham was not found in the table\n",
      "Please enter c, r, u, or d\n",
      "A new book record test has been created\n"
     ]
    }
   ],
   "source": [
    "def menu():\n",
    "    operation = input(\"Enter: (C)reate (R)ead (U)pdate or (D)elete\")\n",
    "    if operation.lower() == 'c':\n",
    "        create()\n",
    "    elif operation.lower() == 'r':\n",
    "        read()\n",
    "    elif operation.lower() == 'u':\n",
    "        update()\n",
    "    elif operation.lower() == 'd':\n",
    "        delete()\n",
    "    elif len(operation)==0: # Escape Key\n",
    "        return\n",
    "    else:\n",
    "        print(\"Please enter c, r, u, or d\") \n",
    "    menu() # recursion, repeat menu\n",
    "        \n",
    "try:\n",
    "    menu() # start menu\n",
    "except:\n",
    "    print(\"Perform Jupyter 'Run All' prior to starting menu\")"
   ]
  },
  {
   "cell_type": "code",
   "execution_count": 38,
   "metadata": {},
   "outputs": [
    {
     "name": "stdout",
     "output_type": "stream",
     "text": [
      "Error while executing the CREATE: near \"FROM\": syntax error\n"
     ]
    }
   ],
   "source": [
    "import sqlite3\n",
    "\n",
    "conn = sqlite3.connect(database)\n",
    "cursor = conn.cursor()\n",
    "try:\n",
    "    cursor.execute(\"CREATE TABLE tracks AS SELECT _name, _uid, _password, _dob, FROM users;\")\n",
    "    conn.commit()\n",
    "except sqlite3.Error as error:\n",
    "    print(\"Error while executing the CREATE:\", error)\n",
    "        \n",
    "# Close the cursor and connection objects\n",
    "cursor.close()\n",
    "conn.close()"
   ]
  }
 ],
 "metadata": {
  "kernelspec": {
   "display_name": "base",
   "language": "python",
   "name": "python3"
  },
  "language_info": {
   "codemirror_mode": {
    "name": "ipython",
    "version": 3
   },
   "file_extension": ".py",
   "mimetype": "text/x-python",
   "name": "python",
   "nbconvert_exporter": "python",
   "pygments_lexer": "ipython3",
   "version": "3.9.12"
  },
  "orig_nbformat": 4,
  "vscode": {
   "interpreter": {
    "hash": "8b82d5009c68ba5675978267e2b13a671f2a7143d61273c5a3813c97e0b2493d"
   }
  }
 },
 "nbformat": 4,
 "nbformat_minor": 2
}
