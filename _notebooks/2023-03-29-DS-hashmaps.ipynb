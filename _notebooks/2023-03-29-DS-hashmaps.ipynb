{
 "cells": [
  {
   "attachments": {},
   "cell_type": "markdown",
   "metadata": {},
   "source": [
    "#  Data Structures- Hashmaps, Sets, Hash Tables, Hashing and Collisions\n",
    "> Observing hashmaps with python dictionaries\n",
    "- toc: true\n",
    "- categories: []\n",
    "- type: pbl\n",
    "- week: 28"
   ]
  },
  {
   "attachments": {},
   "cell_type": "markdown",
   "metadata": {},
   "source": [
    "## What is a Hashtable/Hashmap?\n",
    "\n",
    "> A hashtable is a data structure that with a collection of key-value pairs, where each key maps to a value, and the keys must be unique and hashable.\n",
    "\n",
    "- In Python there is a built in hashtable known as a **dictionary**.\n",
    "\n",
    "> The primary purpose of a hashtable is to provide efficient lookup, insertion, and deletion operations. When an element is to be inserted into the hashtable, a hash function is used to map the key to a specific index in the underlying array that is used to store the key-value pairs. The value is then stored at that index. When searching for a value, the hash function is used again to find the index where the value is stored.\n",
    "\n",
    "> The key advantage of a hashtable over other data structures like arrays and linked lists is its average-case time complexity for lookup, insertion, and deletion operations.\n",
    "\n",
    "- The typical time complexity of a hashtable is **O(1)**. \n"
   ]
  },
  {
   "attachments": {},
   "cell_type": "markdown",
   "metadata": {},
   "source": [
    "## What is Hashing and Collision?\n",
    "\n",
    "> Hashing is the process of mapping a given key to a value in a hash table or hashmap, using a hash function. The hash function takes the key as input and produces a hash value or hash code, which is then used to determine the index in the underlying array where the value is stored. The purpose of hashing is to provide a quick and efficient way to access data, by eliminating the need to search through an entire data structure to find a value.\n",
    "\n",
    "> However, it is possible for two different keys to map to the same hash value, resulting in a collision. When a collision occurs, there are different ways to resolve it, depending on the collision resolution strategy used.\n",
    "\n",
    "> Python's dictionary implementation is optimized to handle collisions efficiently, and the performance of the dictionary is generally very good, even in the presence of collisions. However, if the number of collisions is very high, the performance of the dictionary can degrade, so it is important to choose a good hash function that minimizes collisions when designing a Python dictionary.\n",
    "\n",
    "## What is a Set?"
   ]
  },
  {
   "cell_type": "code",
   "execution_count": 61,
   "metadata": {},
   "outputs": [
    {
     "name": "stdout",
     "output_type": "stream",
     "text": [
      "{1, 2, 3, '1', 'b'}\n"
     ]
    }
   ],
   "source": [
    "# Creating a set using set() function\n",
    "my_set = set([1, 2, 3, 2, 1, 'b', '1'])\n",
    "print(my_set)  \n",
    "\n",
    "# What do you notice in the output?\n",
    "#\n",
    "# The output only contains unique characters. For example, if 1 appears in the set twice, it will only get printed once. Also if there is 1 and \"1\" in the set, both will get printed because the first 1 is a integer while the second \"1\" is a string.\n",
    "\n",
    "# Why do you think Sets are in the same tech talk as Hashmaps/Hashtables?\n",
    "#\n",
    "# Dictionaries cannot have duplicate keys either."
   ]
  },
  {
   "attachments": {},
   "cell_type": "markdown",
   "metadata": {},
   "source": [
    "## Dictionary Example\n",
    "\n",
    "Below are just some basic features of a dictionary. As always, documentation is always the main source for all the full capablilties. "
   ]
  },
  {
   "cell_type": "code",
   "execution_count": 62,
   "metadata": {},
   "outputs": [
    {
     "name": "stdout",
     "output_type": "stream",
     "text": [
      "{'title': 'Lover', 'artist': 'Taylor Swift', 'year': 2019, 'genre': ['Pop', 'Synth-pop'], 'tracks': {1: 'I Forgot That You Existed', 2: 'Cruel Summer', 3: 'Lover', 4: 'The Man', 5: 'The Archer', 6: 'I Think He Knows', 7: 'Miss Americana & The Heartbreak Prince', 8: 'Paper Rings', 9: 'Cornelia Street', 10: 'Death By A Thousand Cuts', 11: 'London Boy', 12: \"Soon You'll Get Better (feat. Dixie Chicks)\", 13: 'False God', 14: 'You Need To Calm Down', 15: 'Afterglow', 16: 'Me! (feat. Brendon Urie of Panic! At The Disco)', 17: \"It's Nice To Have A Friend\", 18: 'Daylight'}}\n"
     ]
    }
   ],
   "source": [
    "# Creating a dictionary with information about the album \"Lover\"\n",
    "lover_album = {\n",
    "    \"title\": \"Lover\",\n",
    "    \"artist\": \"Taylor Swift\",\n",
    "    \"year\": 2019,\n",
    "    \"genre\": [\"Pop\", \"Synth-pop\"],\n",
    "    \"tracks\": {\n",
    "        1: \"I Forgot That You Existed\",\n",
    "        2: \"Cruel Summer\",\n",
    "        3: \"Lover\",\n",
    "        4: \"The Man\",\n",
    "        5: \"The Archer\",\n",
    "        6: \"I Think He Knows\",\n",
    "        7: \"Miss Americana & The Heartbreak Prince\",\n",
    "        8: \"Paper Rings\",\n",
    "        9: \"Cornelia Street\",\n",
    "        10: \"Death By A Thousand Cuts\",\n",
    "        11: \"London Boy\",\n",
    "        12: \"Soon You'll Get Better (feat. Dixie Chicks)\",\n",
    "        13: \"False God\",\n",
    "        14: \"You Need To Calm Down\",\n",
    "        15: \"Afterglow\",\n",
    "        16: \"Me! (feat. Brendon Urie of Panic! At The Disco)\",\n",
    "        17: \"It's Nice To Have A Friend\",\n",
    "        18: \"Daylight\"\n",
    "    }\n",
    "}\n",
    "\n",
    "# What data structures do you see?\n",
    "#\n",
    "# Strings, Integers, Lists, Dictionaries\n",
    "\n",
    "# Printing the dictionary\n",
    "print(lover_album)"
   ]
  },
  {
   "cell_type": "code",
   "execution_count": 63,
   "metadata": {},
   "outputs": [
    {
     "name": "stdout",
     "output_type": "stream",
     "text": [
      "{1: 'I Forgot That You Existed', 2: 'Cruel Summer', 3: 'Lover', 4: 'The Man', 5: 'The Archer', 6: 'I Think He Knows', 7: 'Miss Americana & The Heartbreak Prince', 8: 'Paper Rings', 9: 'Cornelia Street', 10: 'Death By A Thousand Cuts', 11: 'London Boy', 12: \"Soon You'll Get Better (feat. Dixie Chicks)\", 13: 'False God', 14: 'You Need To Calm Down', 15: 'Afterglow', 16: 'Me! (feat. Brendon Urie of Panic! At The Disco)', 17: \"It's Nice To Have A Friend\", 18: 'Daylight'}\n",
      "{1: 'I Forgot That You Existed', 2: 'Cruel Summer', 3: 'Lover', 4: 'The Man', 5: 'The Archer', 6: 'I Think He Knows', 7: 'Miss Americana & The Heartbreak Prince', 8: 'Paper Rings', 9: 'Cornelia Street', 10: 'Death By A Thousand Cuts', 11: 'London Boy', 12: \"Soon You'll Get Better (feat. Dixie Chicks)\", 13: 'False God', 14: 'You Need To Calm Down', 15: 'Afterglow', 16: 'Me! (feat. Brendon Urie of Panic! At The Disco)', 17: \"It's Nice To Have A Friend\", 18: 'Daylight'}\n"
     ]
    }
   ],
   "source": [
    "# Retrieve value from dictionary with key\n",
    "print(lover_album.get('tracks'))\n",
    "# or\n",
    "print(lover_album['tracks'])"
   ]
  },
  {
   "cell_type": "code",
   "execution_count": 64,
   "metadata": {},
   "outputs": [
    {
     "name": "stdout",
     "output_type": "stream",
     "text": [
      "The Man\n",
      "The Man\n"
     ]
    }
   ],
   "source": [
    "# Retrieve value from a dictionary inside a dictionary\n",
    "print(lover_album.get('tracks')[4])\n",
    "# or\n",
    "print(lover_album['tracks'][4])"
   ]
  },
  {
   "cell_type": "code",
   "execution_count": 162,
   "metadata": {},
   "outputs": [
    {
     "name": "stdout",
     "output_type": "stream",
     "text": [
      "{'title': 'Lover', 'artist': 'Taylor Swift', 'year': 2019, 'genre': ['Pop', 'Synth-pop', 'electropop'], 'tracks': {1: 'I Forgot That You Existed', 2: 'Cruel Summer', 3: 'Lover', 4: 'The Man', 5: 'The Archer', 6: 'I Think He Knows', 7: 'Miss Americana & The Heartbreak Prince', 8: 'Paper Rings', 9: 'Cornelia Street', 10: 'Death By A Thousand Cuts', 11: 'London Boy', 12: \"Soon You'll Get Better (feat. Dixie Chicks)\", 13: 'False God', 14: 'You Need To Calm Down', 15: 'Afterglow', 16: 'Me! (feat. Brendon Urie of Panic! At The Disco)', 17: \"It's Nice To Have A Friend\", 18: 'Daylight', 19: 'All Of The Girls You Loved Before'}, 'producer': {'Louis Bell', 'Frank Dukes', 'Jack Antonoff', 'Joel Little', 'Taylor Swift'}}\n"
     ]
    }
   ],
   "source": [
    "# adding a value with a new key\n",
    "lover_album[\"producer\"] = set(['Taylor Swift', 'Jack Antonoff', 'Joel Little', 'Taylor Swift', 'Louis Bell', 'Frank Dukes'])\n",
    "\n",
    "# What can you change to make sure there are no duplicate producers?\n",
    "#\n",
    "# you can add set() around the value to remove duplicate producers\n",
    "\n",
    "# Printing the dictionary\n",
    "print(lover_album)"
   ]
  },
  {
   "cell_type": "code",
   "execution_count": 192,
   "metadata": {},
   "outputs": [
    {
     "name": "stdout",
     "output_type": "stream",
     "text": [
      "{'title': 'Lover', 'artist': 'Taylor Swift', 'year': 2019, 'genre': ['Pop', 'Synth-pop', 'electropop'], 'tracks': {1: 'I Forgot That You Existed', 2: 'Cruel Summer', 3: 'Lover', 4: 'The Man', 5: 'The Archer', 6: 'I Think He Knows', 7: 'Miss Americana & The Heartbreak Prince', 8: 'Paper Rings', 9: 'Cornelia Street', 10: 'Death By A Thousand Cuts', 11: 'London Boy', 12: \"Soon You'll Get Better (feat. Dixie Chicks)\", 13: 'False God', 14: 'You Need To Calm Down', 15: 'Afterglow', 16: 'Me! (feat. Brendon Urie of Panic! At The Disco)', 17: \"It's Nice To Have A Friend\", 18: 'Daylight', 19: 'All Of The Girls You Loved Before', 20: 'test'}, 'producer': {'Louis Bell', 'Frank Dukes', 'Jack Antonoff', 'Joel Little', 'Taylor Swift'}}\n"
     ]
    }
   ],
   "source": [
    "# Adding a an key-value pair to an existing key \n",
    "lover_album[\"tracks\"].update({19: \"All Of The Girls You Loved Before\"})\n",
    "\n",
    "# How would add an additional genre to the dictionary, like electropop? \n",
    "# \n",
    "lover_album[\"genre\"].append(\"electropop\")\n",
    "\n",
    "# Printing the dictionary\n",
    "print(lover_album)"
   ]
  },
  {
   "cell_type": "code",
   "execution_count": 67,
   "metadata": {},
   "outputs": [
    {
     "name": "stdout",
     "output_type": "stream",
     "text": [
      "1 : I Forgot That You Existed\n",
      "2 : Cruel Summer\n",
      "3 : Lover\n",
      "4 : The Man\n",
      "5 : The Archer\n",
      "6 : I Think He Knows\n",
      "7 : Miss Americana & The Heartbreak Prince\n",
      "8 : Paper Rings\n",
      "9 : Cornelia Street\n",
      "10 : Death By A Thousand Cuts\n",
      "11 : London Boy\n",
      "12 : Soon You'll Get Better (feat. Dixie Chicks)\n",
      "13 : False God\n",
      "14 : You Need To Calm Down\n",
      "15 : Afterglow\n",
      "16 : Me! (feat. Brendon Urie of Panic! At The Disco)\n",
      "17 : It's Nice To Have A Friend\n",
      "18 : Daylight\n",
      "19 : All Of The Girls You Loved Before\n"
     ]
    }
   ],
   "source": [
    "# Print lover_album in more readable format\n",
    "# for k,v in lover_album.items(): # iterate using a for loop for key and value\n",
    "#     if k == \"tracks\":\n",
    "#         print(\"tracks:\")\n",
    "#     print(str(k) + \": \" + str(v))\n",
    "\n",
    "# Write your own code to print tracks in readable format\n",
    "for k,v in lover_album[\"tracks\"].items():\n",
    "    print(k , \":\" , v)"
   ]
  },
  {
   "cell_type": "code",
   "execution_count": 193,
   "metadata": {},
   "outputs": [
    {
     "name": "stdout",
     "output_type": "stream",
     "text": [
      "test song was added to the album at position 21\n",
      "1 : I Forgot That You Existed\n",
      "2 : Cruel Summer\n",
      "3 : Lover\n",
      "4 : The Man\n",
      "5 : The Archer\n",
      "6 : I Think He Knows\n",
      "7 : Miss Americana & The Heartbreak Prince\n",
      "8 : Paper Rings\n",
      "9 : Cornelia Street\n",
      "10 : Death By A Thousand Cuts\n",
      "11 : London Boy\n",
      "12 : Soon You'll Get Better (feat. Dixie Chicks)\n",
      "13 : False God\n",
      "14 : You Need To Calm Down\n",
      "15 : Afterglow\n",
      "16 : Me! (feat. Brendon Urie of Panic! At The Disco)\n",
      "17 : It's Nice To Have A Friend\n",
      "18 : Daylight\n",
      "19 : All Of The Girls You Loved Before\n",
      "20 : test\n",
      "21 : test song\n"
     ]
    }
   ],
   "source": [
    "# Using conditionals to retrieve a random song\n",
    "# def search():\n",
    "#     search = input(\"What would you like to know about the album?\")\n",
    "#     if lover_album.get(search.lower()) == None:\n",
    "#         print(\"Invalid Search\")\n",
    "#     else:\n",
    "#         print(lover_album.get(search.lower()))\n",
    "\n",
    "# search()\n",
    "\n",
    "# This is a very basic code segment, how can you improve upon this code?\n",
    "def search_v2():\n",
    "    search = input(\"What would you like to know about the album? Type 'title' to get the title of the album. Type 'artist' to get the name of the artist. Type 'year' to get the album release date. Type 'genre' to get the genre of the album. Type 'tracks' to get the list of songs on the album. Type 'tracks number' to get a specific song from the album. Type 'producer' to get a list of producers on the album.\")\n",
    "    if search == \"tracks number\":\n",
    "         song = input(\"Give a number for witch song you want from the album.\")\n",
    "         print(lover_album['tracks'][int(song)])\n",
    "\n",
    "    elif search == \"add track\":\n",
    "        new_track = input(\"Give a new track to add to the album.\")\n",
    "        lover_album[\"tracks\"].update({len(lover_album[\"tracks\"])+1: new_track})\n",
    "        print(new_track, \"was added to the album at position\", len(lover_album[\"tracks\"]))\n",
    "        for k,v in lover_album[\"tracks\"].items():\n",
    "                    print(k, \":\", v)\n",
    "    \n",
    "    else:\n",
    "        if lover_album.get(search.lower()) == None:\n",
    "            print(\"Invalid Search\")\n",
    "\n",
    "        elif search == \"title\":\n",
    "            print(\"The name of this album is\", lover_album.get(\"title\"))\n",
    "\n",
    "        elif search == \"artist\":\n",
    "            print(\"The artist who created this album is\", lover_album.get(\"artist\"))\n",
    "\n",
    "        elif search == \"year\":\n",
    "            print(\"The year this album was released was\", lover_album.get(\"year\"))\n",
    "\n",
    "        elif search == \"genre\":\n",
    "            print(\"The genres of this album are\", ', '.join(lover_album.get(\"genre\")))\n",
    "\n",
    "        elif search == \"tracks\":\n",
    "                print(\"Here are the tracks from the album:\")\n",
    "                for k,v in lover_album[\"tracks\"].items():\n",
    "                    print(k, \":\", v)\n",
    "        \n",
    "        elif search == \"producer\":\n",
    "            print(\"The people who produced this album are\", ', '.join(lover_album.get(\"producer\")))\n",
    "        \n",
    "        search_v2()\n",
    "\n",
    "search_v2()"
   ]
  },
  {
   "attachments": {},
   "cell_type": "markdown",
   "metadata": {},
   "source": [
    "## Hacks\n",
    "\n",
    "- Answer *ALL* questions in the code segments\n",
    "- Create a diagram or comparison illustration (Canva).\n",
    "    - What are the pro and cons of using this data structure? \n",
    "\n",
    "| Pros | Cons |\n",
    "|-|-|\n",
    "| Allows insertion of key value pair. | Allows insertion of key value pair. |\n",
    "| HashMap is non synchronized. | HashMap cannot be shared between multiple threads without proper synchronization. |\n",
    "| HashMap is a fail-fast iterator. | HashMap is a fail-fast iterator. |\n",
    "| Faster access of elements due to hashing technology.  | HashMap is a fail-fast iterator. |\n",
    "\n",
    "| Lists | Dictionaries |\n",
    "|-|-|\n",
    "| Can work with any data | Dictionaries use key, value pairs |\n",
    "| Index starts at 0 | Keys can't be changed |\n",
    "| Can append, delete, etc | Dictionaries don't have to be ordered |\n",
    "| Lists use [] | Dictionaries use {} |\n",
    "\n",
    "- Expand upon the code given to you, possible improvements in comments\n",
    "- Build your own album showing features of a python dictionary\n",
    "\n",
    "- For Mr. Yeung's class: Justify your favorite Taylor Swift song, answer may effect seed"
   ]
  },
  {
   "cell_type": "code",
   "execution_count": 6,
   "metadata": {},
   "outputs": [
    {
     "name": "stdout",
     "output_type": "stream",
     "text": [
      "The name of this album is Heros and Villains\n",
      "The artist who created this album is Metro Boomin\n",
      "The year this album was released was 2022\n",
      "The genres of this album are Hip-Hop, Rap\n",
      "Here are the tracks from the album:\n",
      "1 : Trance (feat. Young Thug, Travis Scott)\n",
      "2 : Superhero (feat. Chris Brown, Future)\n",
      "3 : Feel The Fiyaaaah (feat. Takeoff, A$AP Rocky)\n",
      "4 : I Can't Save You (feat. Future, Don Toliver)\n",
      "5 : Metro Spider (feat. Young Thug)\n",
      "6 : Niagara Falls (feat. 21 Savage, Travis Scott)\n",
      "7 : Lock On Me (feat. Future, Travis Scott)\n",
      "8 : Umbrella (feat. Young Nudy, 21 Savage)\n",
      "9 : Creepin' (feat. 21 Savage, The Weeknd)\n",
      "10 : Walk Em Down (feat. Mustafa the Poet, 21 Savage)\n",
      "11 : Raindrops (feat. Future, Don Toliver)\n",
      "12 : All the Money (feat. Gunna)\n",
      "13 : On Time (feat. John Legend)\n",
      "14 : Around Me (feat. Don Toliver)\n",
      "The people who produced this album are Metro Boomin, TM88, Johan Lenox, DaHeala, Allen Ritter, Honorable C.N.O.T.E., Oz\n",
      "Epic Song (feat. Soham Kamat) was added to the album at position 15\n",
      "The song at position 15 is Epic Song (feat. Soham Kamat)\n"
     ]
    }
   ],
   "source": [
    "# Details about the album\n",
    "heros_and_villains_album = {\n",
    "    \"title\": \"Heros and Villains\",\n",
    "    \"artist\": \"Metro Boomin\",\n",
    "    \"year\": 2022,\n",
    "    \"genre\": [\"Hip-Hop\", \"Rap\"],\n",
    "    \"producers\": [\"Metro Boomin\", \"TM88\", \"Johan Lenox\", \"DaHeala\", \"Allen Ritter\", \"Honorable C.N.O.T.E.\", \"Oz\"],\n",
    "    \"tracks\": {\n",
    "        1: \"Trance (feat. Young Thug, Travis Scott)\",\n",
    "        2: \"Superhero (feat. Chris Brown, Future)\",\n",
    "        3: \"Feel The Fiyaaaah (feat. Takeoff, A$AP Rocky)\",\n",
    "        4: \"I Can't Save You (feat. Future, Don Toliver)\",\n",
    "        5: \"Metro Spider (feat. Young Thug)\",\n",
    "        6: \"Niagara Falls (feat. 21 Savage, Travis Scott)\",\n",
    "        7: \"Lock On Me (feat. Future, Travis Scott)\",\n",
    "        8: \"Umbrella (feat. Young Nudy, 21 Savage)\",\n",
    "        9: \"Creepin' (feat. 21 Savage, The Weeknd)\",\n",
    "        10: \"Walk Em Down (feat. Mustafa the Poet, 21 Savage)\",\n",
    "        11: \"Raindrops (feat. Future, Don Toliver)\",\n",
    "        12: \"All the Money (feat. Gunna)\",\n",
    "        13: \"On Time (feat. John Legend)\",\n",
    "        14: \"Around Me (feat. Don Toliver)\"\n",
    "    },\n",
    "}\n",
    "\n",
    "def search_v3():\n",
    "    # asks for what details you would like to know\n",
    "    search = input(\"What would you like to know about the album? Type 'title' to get the title of the album. Type 'artist' to get the name of the artist. Type 'year' to get the album release date. Type 'genre' to get the genre of the album. Type 'tracks' to get the list of songs on the album. Type 'tracks number' to get a specific song from the album. Type 'producers' to get a list of producers on the album.\")\n",
    "    # if the input is blank, it stops the code\n",
    "    if search != \"\":\n",
    "\n",
    "        if search == \"tracks number\":\n",
    "            # asks for an input\n",
    "            song = input(\"Give a number for which song you want from the album.\")\n",
    "            # if input is valid, prints the song name at that position. If it isn't valid, it exits and re-runs the function.\n",
    "            if song <= len(heros_and_villains_album[\"tracks\"]):\n",
    "                print(\"The song at position\", song, \"is\", heros_and_villains_album['tracks'][int(song)])\n",
    "            else:\n",
    "                search_v3()\n",
    "\n",
    "        elif search == \"add track\":\n",
    "            # asks for an input\n",
    "            new_track = input(\"Give a new track to add to the album.\")\n",
    "            # adds new track to the album\n",
    "            heros_and_villains_album[\"tracks\"].update({len(heros_and_villains_album[\"tracks\"])+1: new_track})\n",
    "            print(new_track, \"was added to the album at position\", len(heros_and_villains_album[\"tracks\"]))\n",
    "        \n",
    "        else:\n",
    "            # checks if the input is not blank, but not valid either.\n",
    "            if heros_and_villains_album.get(search.lower()) == None:\n",
    "                print(\"Invalid Search\")\n",
    "\n",
    "            # if the user is asking for the title, it prints it\n",
    "            elif search == \"title\":\n",
    "                print(\"The name of this album is\", heros_and_villains_album.get(\"title\"))\n",
    "\n",
    "            # if the user is asking for the artist, it prints it\n",
    "            elif search == \"artist\":\n",
    "                print(\"The artist who created this album is\", heros_and_villains_album.get(\"artist\"))\n",
    "\n",
    "            # if the user is asking for the year the album was released, it prints it\n",
    "            elif search == \"year\":\n",
    "                print(\"The year this album was released was\", heros_and_villains_album.get(\"year\"))\n",
    "\n",
    "            # if the user is asking for the genres of the album, it prints it\n",
    "            elif search == \"genre\":\n",
    "                print(\"The genres of this album are\", ', '.join(heros_and_villains_album.get(\"genre\")))\n",
    "\n",
    "            # if the user is asking for the tracks in the album, it prints it\n",
    "            elif search == \"tracks\":\n",
    "                    print(\"Here are the tracks from the album:\")\n",
    "                    # uses a for loop to print the keys (song position) and the values (song name)\n",
    "                    for k,v in heros_and_villains_album[\"tracks\"].items():\n",
    "                        print(k, \":\", v)\n",
    "            \n",
    "            # if the user is asking for the producers, it prints it\n",
    "            elif search == \"producers\":\n",
    "                print(\"The people who produced this album are\", ', '.join(heros_and_villains_album.get(\"producers\")))\n",
    "\n",
    "        # repeats the function  \n",
    "        search_v3()\n",
    "\n",
    "search_v3()"
   ]
  },
  {
   "attachments": {},
   "cell_type": "markdown",
   "metadata": {},
   "source": [
    "My favorite Taylor Swift song is \"You Belong With Me\" because of the catchy beat and amazing lyrics. My favorite part is \n",
    "\n",
    "`She wears high heels`\n",
    "\n",
    "`I wear sneakers`\n",
    "\n",
    "`She's Cheer Captain, and I'm on the bleachers`\n",
    "\n",
    "`Dreaming about the day when you wake up and find`\n",
    "\n",
    "`That what you're looking for has been here the whole time`\n",
    "\n",
    "I love this song and I listen to it all the time."
   ]
  }
 ],
 "metadata": {
  "kernelspec": {
   "display_name": "base",
   "language": "python",
   "name": "python3"
  },
  "language_info": {
   "codemirror_mode": {
    "name": "ipython",
    "version": 3
   },
   "file_extension": ".py",
   "mimetype": "text/x-python",
   "name": "python",
   "nbconvert_exporter": "python",
   "pygments_lexer": "ipython3",
   "version": "3.9.12"
  },
  "orig_nbformat": 4
 },
 "nbformat": 4,
 "nbformat_minor": 2
}
