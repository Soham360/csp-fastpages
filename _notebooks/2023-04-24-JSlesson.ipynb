{
 "cells": [
  {
   "cell_type": "markdown",
   "metadata": {},
   "source": [
    "# Basic JavaScript Knowledge"
   ]
  },
  {
   "cell_type": "markdown",
   "metadata": {},
   "source": [
    "### Variables \n",
    "        - declare JavaScript variables with var, let or const. \n",
    "        - If the value of the variable can change, like a total, use let. If the value is set, like prices, use const. Variables can hold any data type. "
   ]
  },
  {
   "cell_type": "code",
   "execution_count": 34,
   "metadata": {},
   "outputs": [
    {
     "data": {
      "text/plain": [
       "11"
      ]
     },
     "execution_count": 34,
     "metadata": {},
     "output_type": "execute_result"
    }
   ],
   "source": [
    "var x = 5;\n",
    "var y = 6;\n",
    "var z = x + y;\n",
    "\n",
    "z"
   ]
  },
  {
   "cell_type": "markdown",
   "metadata": {},
   "source": [
    "### Data types- there are 8 JS data types. \n",
    "- List a few data types that you already know\n",
    ">\n",
    ">\n",
    "> "
   ]
  },
  {
   "cell_type": "markdown",
   "metadata": {},
   "source": [
    "#### 1. String: a series of characters, written with single or double quotes\n"
   ]
  },
  {
   "cell_type": "code",
   "execution_count": 1,
   "metadata": {},
   "outputs": [
    {
     "data": {
      "text/plain": [
       "'Mort'"
      ]
     },
     "execution_count": 1,
     "metadata": {},
     "output_type": "execute_result"
    }
   ],
   "source": [
    "let text = \"Mort\";\n",
    "text"
   ]
  },
  {
   "cell_type": "code",
   "execution_count": 2,
   "metadata": {},
   "outputs": [
    {
     "data": {
      "text/plain": [
       "'Yeung'"
      ]
     },
     "execution_count": 2,
     "metadata": {},
     "output_type": "execute_result"
    }
   ],
   "source": [
    "let text2 = 'Yeung';\n",
    "text2"
   ]
  },
  {
   "cell_type": "markdown",
   "metadata": {},
   "source": [
    "#### 2. Number: can be integers or decimals. \n",
    "        - You can also have exponential notation for large/small numbers "
   ]
  },
  {
   "cell_type": "markdown",
   "metadata": {},
   "source": [
    "#### 3. Bigint: used to store integer values that are too big to be represented by a normal JS number\n",
    "        - JavaScript integers are only accurate up to 15 digits\n",
    "\n",
    "\n"
   ]
  },
  {
   "cell_type": "code",
   "execution_count": 3,
   "metadata": {},
   "outputs": [
    {
     "ename": "SyntaxError",
     "evalue": "Invalid or unexpected token",
     "output_type": "error",
     "traceback": [
      "evalmachine.<anonymous>:1",
      "let number = 1234567890123456789012345n;",
      "             ^^^^^^^^^^^^^^^^^^^^^^^^^",
      "",
      "SyntaxError: Invalid or unexpected token",
      "    at createScript (vm.js:56:10)",
      "    at Object.runInThisContext (vm.js:97:10)",
      "    at run ([eval]:1020:15)",
      "    at onRunRequest ([eval]:864:18)",
      "    at onMessage ([eval]:828:13)",
      "    at emitTwo (events.js:106:13)",
      "    at process.emit (events.js:191:7)",
      "    at process.nextTick (internal/child_process.js:758:12)",
      "    at _combinedTickCallback (internal/process/next_tick.js:73:7)",
      "    at process._tickCallback (internal/process/next_tick.js:104:9)"
     ]
    }
   ],
   "source": [
    "let number = 1234567890123456789012345n;\n",
    "let Largenum = BigInt(1234567890123456789012345)\n",
    "\n",
    "let typeLargenum = typeof Largenum;\n",
    "typeLargenum\n"
   ]
  },
  {
   "cell_type": "code",
   "execution_count": 4,
   "metadata": {},
   "outputs": [
    {
     "ename": "ReferenceError",
     "evalue": "Largenum is not defined",
     "output_type": "error",
     "traceback": [
      "evalmachine.<anonymous>:1",
      "Largenum",
      "^",
      "",
      "ReferenceError: Largenum is not defined",
      "    at evalmachine.<anonymous>:1:1",
      "    at ContextifyScript.Script.runInThisContext (vm.js:25:33)",
      "    at Object.runInThisContext (vm.js:97:38)",
      "    at run ([eval]:1020:15)",
      "    at onRunRequest ([eval]:864:18)",
      "    at onMessage ([eval]:828:13)",
      "    at emitTwo (events.js:106:13)",
      "    at process.emit (events.js:191:7)",
      "    at process.nextTick (internal/child_process.js:758:12)",
      "    at _combinedTickCallback (internal/process/next_tick.js:73:7)"
     ]
    }
   ],
   "source": [
    "Largenum"
   ]
  },
  {
   "cell_type": "markdown",
   "metadata": {},
   "source": [
    "#### 4. Boolean: true or false, used in conditional testing\n"
   ]
  },
  {
   "cell_type": "code",
   "execution_count": 5,
   "metadata": {},
   "outputs": [
    {
     "data": {
      "text/plain": [
       "true"
      ]
     },
     "execution_count": 5,
     "metadata": {},
     "output_type": "execute_result"
    }
   ],
   "source": [
    "Boolean(10 > 9)\n"
   ]
  },
  {
   "cell_type": "markdown",
   "metadata": {},
   "source": [
    "Write a boolean statement that outputs true"
   ]
  },
  {
   "cell_type": "code",
   "execution_count": 12,
   "metadata": {},
   "outputs": [
    {
     "data": {
      "text/plain": [
       "true"
      ]
     },
     "execution_count": 12,
     "metadata": {},
     "output_type": "execute_result"
    }
   ],
   "source": [
    "Boolean(1<2)"
   ]
  },
  {
   "cell_type": "markdown",
   "metadata": {},
   "source": [
    "#### 5. Undefined: a variable without a value, has the value undefined/empty values\n"
   ]
  },
  {
   "cell_type": "code",
   "execution_count": 6,
   "metadata": {},
   "outputs": [],
   "source": [
    "let name;  \n",
    "name"
   ]
  },
  {
   "cell_type": "code",
   "execution_count": 7,
   "metadata": {},
   "outputs": [],
   "source": [
    "grade = undefined;"
   ]
  },
  {
   "cell_type": "markdown",
   "metadata": {},
   "source": [
    "#### 6. Null: represents the intentional absence of any object value\n",
    "        - variable is empty at the moment and may have a value later"
   ]
  },
  {
   "cell_type": "code",
   "execution_count": 8,
   "metadata": {},
   "outputs": [
    {
     "name": "stdout",
     "output_type": "stream",
     "text": [
      "false\n",
      "false\n"
     ]
    }
   ],
   "source": [
    "let result;\n",
    "\n",
    "result = Boolean(undefined);\n",
    "console.log(result); // false\n",
    "\n",
    "result = Boolean(null);\n",
    "console.log(result); // false"
   ]
  },
  {
   "cell_type": "markdown",
   "metadata": {},
   "source": [
    "#### 7. Symbol: used to represent unique values that can be used as identifiers/keys in objects. \n",
    "        - They are also used to create private properties and methods in classes.\n",
    "        - unique and immutable, so they can be used as unique identifiers in objects and classes.\n",
    "        - useful for creating constants that can be shared across different parts of your code.\n"
   ]
  },
  {
   "cell_type": "code",
   "execution_count": 9,
   "metadata": {},
   "outputs": [
    {
     "name": "stdout",
     "output_type": "stream",
     "text": [
      "Symbol()\n"
     ]
    }
   ],
   "source": [
    "// Create a Symbol\n",
    "const mySymbol = Symbol();\n",
    "\n",
    "console.log(mySymbol);\n",
    "// expected output: Symbol()\n"
   ]
  },
  {
   "cell_type": "code",
   "execution_count": 10,
   "metadata": {},
   "outputs": [
    {
     "name": "stdout",
     "output_type": "stream",
     "text": [
      "{}\n"
     ]
    }
   ],
   "source": [
    "const myObject = {\n",
    "    [mySymbol]: 'Hello World'\n",
    "  };\n",
    "  \n",
    "  console.log(myObject);\n"
   ]
  },
  {
   "cell_type": "markdown",
   "metadata": {},
   "source": [
    "Edit/add to the code above so that it outputs \"Hello World\""
   ]
  },
  {
   "cell_type": "markdown",
   "metadata": {},
   "source": [
    "#### 8. Object: an unordered collection of key-value pairs. Each key-value pair is called a property. \n",
    "        - object: written with curly braces {}, name:value pairs\n",
    "        - array: written with square brackets, separated by commas "
   ]
  },
  {
   "attachments": {},
   "cell_type": "markdown",
   "metadata": {},
   "source": [
    "Object\n",
    "- Identify the name/keys in the object below: **name**, **breed**, **age**.\n",
    "- Identify the values in the object below: **Elly**, **Rottweiler**, **4**."
   ]
  },
  {
   "cell_type": "code",
   "execution_count": 11,
   "metadata": {},
   "outputs": [
    {
     "data": {
      "text/plain": [
       "{ name: 'Elly', breed: 'Rottweiler', age: 4, color: 'black' }"
      ]
     },
     "execution_count": 11,
     "metadata": {},
     "output_type": "execute_result"
    }
   ],
   "source": [
    "const dogs = {name: \"Elly\", breed:\"Rottweiler\", age:4, color:\"black\"}\n",
    "dogs"
   ]
  },
  {
   "cell_type": "markdown",
   "metadata": {},
   "source": [
    "Array"
   ]
  },
  {
   "cell_type": "code",
   "execution_count": 13,
   "metadata": {},
   "outputs": [
    {
     "data": {
      "text/plain": [
       "[ 'Love Story', 'Blank Space', 'I Knew You Were Trouble' ]"
      ]
     },
     "execution_count": 13,
     "metadata": {},
     "output_type": "execute_result"
    }
   ],
   "source": [
    "const songs = [\"Love Story\", \"Blank Space\", \"I Knew You Were Trouble\"];\n",
    "songs"
   ]
  },
  {
   "cell_type": "markdown",
   "metadata": {},
   "source": [
    "### Const\n",
    "        - We use const to declare variables whose value can be initialized only at the time of declaration.  \n",
    "        - Const means that the identifier cannot be reassigned. "
   ]
  },
  {
   "cell_type": "code",
   "execution_count": 14,
   "metadata": {},
   "outputs": [
    {
     "data": {
      "text/plain": [
       "13"
      ]
     },
     "execution_count": 14,
     "metadata": {},
     "output_type": "execute_result"
    }
   ],
   "source": [
    "const cost1 = 2;\n",
    "const cost2 = 11;\n",
    "let totalCost = cost1 + cost2;\n",
    "\n",
    "totalCost"
   ]
  },
  {
   "cell_type": "markdown",
   "metadata": {},
   "source": [
    "### Conditionals: control behavior, decides whether or not pieces of code can run.\n",
    "    - If: if a condition is true it is used to specify execution for a block of code.\n",
    "    - Else: if the same condition is false it specifies the execution for a block of code.\n",
    "    - Else If: new test if the first condition is false."
   ]
  },
  {
   "cell_type": "code",
   "execution_count": 15,
   "metadata": {},
   "outputs": [
    {
     "data": {
      "text/plain": [
       "'True'"
      ]
     },
     "execution_count": 15,
     "metadata": {},
     "output_type": "execute_result"
    }
   ],
   "source": [
    "if (10 > 5) {\n",
    "    var outcome = \"True\";\n",
    "}\n",
    "\n",
    "outcome;"
   ]
  },
  {
   "cell_type": "code",
   "execution_count": 16,
   "metadata": {},
   "outputs": [
    {
     "data": {
      "text/plain": [
       "'else block'"
      ]
     },
     "execution_count": 16,
     "metadata": {},
     "output_type": "execute_result"
    }
   ],
   "source": [
    "if (\"red\" === \"blue\") {\n",
    "    var outcome = \"if block\";\n",
    "} else {\n",
    "    var outcome = \"else block\";\n",
    "}\n",
    "outcome;"
   ]
  },
  {
   "cell_type": "code",
   "execution_count": 17,
   "metadata": {},
   "outputs": [
    {
     "data": {
      "text/plain": [
       "'Chilly'"
      ]
     },
     "execution_count": 17,
     "metadata": {},
     "output_type": "execute_result"
    }
   ],
   "source": [
    "let temperature = 54\n",
    "if (temperature < 70) {\n",
    "    cast = \"Chilly\";\n",
    "  } else if (temperature < 60) {\n",
    "    cast = \"Cold\";\n",
    "  } else {\n",
    "    cast = \"Warm\";\n",
    "  }\n",
    "\n",
    "cast"
   ]
  },
  {
   "cell_type": "markdown",
   "metadata": {},
   "source": [
    "Create a conditional statement about how you would greet someone based on the time of day. "
   ]
  },
  {
   "cell_type": "code",
   "execution_count": 14,
   "metadata": {},
   "outputs": [
    {
     "data": {
      "text/plain": [
       "'Good afternoon.'"
      ]
     },
     "execution_count": 14,
     "metadata": {},
     "output_type": "execute_result"
    }
   ],
   "source": [
    "hoursAwake = 10;\n",
    "if (hoursAwake > 4) {\n",
    "    cast = \"Good afternoon.\";\n",
    "  } else if (hoursAwake > 8) {\n",
    "    cast = \"Good night.\";\n",
    "  } else {\n",
    "    cast = \"Good morning.\";\n",
    "  }\n",
    "\n",
    "cast"
   ]
  },
  {
   "cell_type": "markdown",
   "metadata": {},
   "source": [
    "### Functions: \n",
    "    - defining: define with function + functionName(parameter) { function code }.  It can be unnamed/anonymous can be defined based on a condition.\n",
    "    - calling: simply put the function name with a parameter and semicolon, or a function can call itself (recursive)"
   ]
  },
  {
   "cell_type": "markdown",
   "metadata": {},
   "source": [
    "### Iteration: \n",
    "        - for loop: repeats until a specified condition evaluates to false\n",
    "        - do...while: repeats until a specified condition evaluates to false\n",
    "        - while statement: executes its statements as long as a specified condition evaluates to true\n",
    "        - label: provides a statement with an identifier that lets you refer to it later in the code. ex. you can use a label to identify a loop, and then use the break or continue statements to    indicate whether a program should interrupt the loop or continue its execution\n",
    "        - break: used to terminate a loop, switch, or in conjunction with a labeled statement\n",
    "        - continue: can be used to restart a while, do-while, for, or label statement\n",
    "        - for...in: iterates a specified variable over all the enumerable properties of an object\n",
    "        - for...of statement creates a loop Iterating over iterable objects, invoking a custom iteration hook with statements to be executed for the value of each distinct property\n",
    "\n"
   ]
  },
  {
   "attachments": {},
   "cell_type": "markdown",
   "metadata": {},
   "source": [
    "# JavaScript in HTML- Questions\n",
    "1. Where do you store the JavaScript Code?\n",
    "    - JavaScript code can be stored in a separate .js file or directly in the HTML file using a `<script>` tag.\n",
    "2. How do you import a JS file into HTML?\n",
    "    - To import a JS file into an HTML file, you can use the `<script>` tag with the src attribute set to the URL of the JS file. For example, `<script src=\"script.js\"></script>` will import the script.js file.\n",
    "3. What is onClick?\n",
    "    - onClick is an event handler attribute that can be added to an HTML element to specify a JavaScript function to be executed when the element is clicked. For example, `<button onClick=\"myFunction()\">Click me</button>` will call the myFunction() function when the button is clicked.\n",
    "4. What tag do you use to write JavaScript code?\n",
    "    - The `<script>` tag is used to write JavaScript code in an HTML file. For example, `<script>console.log(\"Hello, world!\")</script>` will output \"Hello, world!\" to the console."
   ]
  },
  {
   "cell_type": "markdown",
   "metadata": {},
   "source": [
    "# Hacks\n",
    "1. Add notes in this notebook\n",
    "2. Complete the code portions, questions, and prompts throughout the notebook\n",
    "3. Extra Credit: code a small JavaScript game "
   ]
  },
  {
   "attachments": {},
   "cell_type": "markdown",
   "metadata": {},
   "source": [
    "# Notes\n",
    "- JavaScript variables can be declared with var, let, or const, and can hold any data type.\n",
    "- There are eight JavaScript data types, including strings, numbers, BigInts, booleans, undefined, null, symbols, and objects.\n",
    "- Conditional statements control behavior and decide whether or not pieces of code can run, using if, else, and else if.\n",
    "- Const is used to declare variables whose value can only be initialized at the time of declaration and cannot be reassigned."
   ]
  },
  {
   "cell_type": "code",
   "execution_count": null,
   "metadata": {},
   "outputs": [],
   "source": [
    "// game works here: https://soham360.github.io/csp-fastpages/2023/04/24/JavaScriptGame.html\n",
    "\n",
    "<html>\n",
    "  <head>\n",
    "    <title>Guess the Number Game</title>\n",
    "  </head>\n",
    "  <body>\n",
    "    <h1>Guess the Number Game</h1>\n",
    "    <p>I'm thinking of a number between 1 and 100. Can you guess it?</p>\n",
    "    <input type=\"text\" id=\"guess\">\n",
    "    <button onclick=\"checkGuess()\">Guess</button>\n",
    "    <p id=\"message\"></p>\n",
    "\n",
    "    <script>\n",
    "      // Generate a random number between 1 and 100\n",
    "      const randomNumber = Math.floor(Math.random() * 100) + 1;\n",
    "\n",
    "      // Function to check the user's guess\n",
    "      function checkGuess() {\n",
    "        const guessInput = document.getElementById(\"guess\");\n",
    "        const guess = parseInt(guessInput.value);\n",
    "        const message = document.getElementById(\"message\");\n",
    "\n",
    "        if (isNaN(guess) || guess < 1 || guess > 100) {\n",
    "          message.textContent = \"Please enter a valid number between 1 and 100.\";\n",
    "        } else if (guess === randomNumber) {\n",
    "          message.textContent = \"Congratulations! You guessed the correct number!\";\n",
    "        } else if (guess < randomNumber) {\n",
    "          message.textContent = \"Too low! Try again.\";\n",
    "        } else if (guess > randomNumber) {\n",
    "          message.textContent = \"Too high! Try again.\";\n",
    "        }\n",
    "\n",
    "        // Clear the input field\n",
    "        guessInput.value = \"\";\n",
    "      }\n",
    "    </script>\n",
    "  </body>\n",
    "</html>"
   ]
  }
 ],
 "metadata": {
  "kernelspec": {
   "display_name": "JavaScript (Node.js)",
   "language": "javascript",
   "name": "javascript"
  },
  "language_info": {
   "file_extension": ".js",
   "mimetype": "application/javascript",
   "name": "javascript",
   "version": "6.11.2"
  },
  "orig_nbformat": 4
 },
 "nbformat": 4,
 "nbformat_minor": 2
}
