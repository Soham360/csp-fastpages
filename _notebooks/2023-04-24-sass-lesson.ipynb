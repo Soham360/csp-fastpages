{
 "cells": [
  {
   "attachments": {},
   "cell_type": "markdown",
   "metadata": {},
   "source": [
    "# SASS"
   ]
  },
  {
   "attachments": {},
   "cell_type": "markdown",
   "metadata": {},
   "source": [
    "# Why SASS?\n",
    "\n",
    "SASS is an improvement on CSS in that there are methods of abstraction. It is a **stylesheet** language that is **compiled** into CSS, which means that **Sass will translate the Sass code you wrote into CSS**, which is what your web browser can read.\n",
    "\n",
    "# SASS vs SCSS\n",
    "As you learn about Sass, you might notice something called Scss. They are basically the same thing except that Scss uses curly braces and semicolons to distinguish between lines. Sass uses indentation and newlines instead.\n",
    "\n",
    "We will be teaching the Scss syntax because it is more commonly used."
   ]
  },
  {
   "attachments": {},
   "cell_type": "markdown",
   "metadata": {},
   "source": [
    "# Getting started\n",
    "\n",
    "A easy way to write SASS and have it preprocessed into CSS is by using a Jekyll powered website, such as GitHub pages or Fastpages.\n",
    "\n",
    "The first step is to clone a GitHub pages repo, such as this [one](https://github.com/lwu1822/sassy_squad).\n",
    "\n",
    "Within the repository, head over to `assets/css/`, and open `style.scss`.\n",
    "\n",
    "This is where you can create your SASS code.\n",
    "\n",
    "To see your CSS-translated SASS code, head over to `_site/assets/css/style.css`\n",
    "\n",
    "Note: You will need to run bundle exec jekyll serve before the _site directory appears.\n",
    "\n",
    "The first few hundred lines are used to style Github's theme. Make sure to scroll to the very bottom to see the SASS code that you wrote, which is in the form of CSS."
   ]
  },
  {
   "attachments": {},
   "cell_type": "markdown",
   "metadata": {},
   "source": [
    "# Nesting\n",
    "- CSS selectors can share the same element.\n",
    "- SASS provides a feature called nesting to write styling code in an HTML hierarchy.\n",
    "- SASS nesting makes code cleaner and more readable.\n",
    "- SASS nesting reduces repetition in code."
   ]
  },
  {
   "attachments": {},
   "cell_type": "markdown",
   "metadata": {},
   "source": [
    "# Mini-hack\n",
    "\n",
    "Write out the SASS equivalent for the following CSS code:\n",
    "\n",
    "```\n",
    ".a {\n",
    "    .b {\n",
    "        color: green;\n",
    "    }\n",
    "    .c {\n",
    "    color: blue;\n",
    "    }\n",
    "}\n",
    "```"
   ]
  },
  {
   "attachments": {},
   "cell_type": "markdown",
   "metadata": {},
   "source": [
    "# Extend/Inheritance\n",
    "\n",
    "What are some similarities that the buttons share? What are the differences?\n",
    "- Buttons have common properties such as clickability, shape, size, border, gradient, and font.\n",
    "- Each design category of buttons has distinct options.\n",
    "\n",
    "Notes\n",
    "- SASS allows for code reuse using @extend.\n",
    "- Buttons on the homepage have similarities and differences in their styling.\n",
    "- In CSS, specifying properties for each button selector would be necessary.\n",
    "- SASS can create a placeholder class using %class-name.\n",
    "- Code from the placeholder class can be called with @extend %class-name."
   ]
  },
  {
   "attachments": {},
   "cell_type": "markdown",
   "metadata": {},
   "source": [
    "# Mixin\n",
    "\n",
    "- The article discusses using mixins in SASS for creating reusable code templates.\n",
    "- Mixins are similar to extends, but they can take parameters to create dynamic styling.\n",
    "- In the example of button styling, a @mixin at rule is created with two colors as parameters.\n",
    "- The mixin can be called using @include and passing in the desired colors.\n",
    "- Mixins can also contain styling rules that do not take in variables."
   ]
  },
  {
   "attachments": {},
   "cell_type": "markdown",
   "metadata": {},
   "source": [
    "# Mini-hack\n",
    "\n",
    "Write out a mixin in SASS that takes in a color and a font size as the parameter. Within the mixin, set the background color and font color to the color parameter, and set the font size to the font size parameter. Then create a selector that calls the mixin, and pass in a color and font size of your choice as the arguments.\n",
    "\n",
    "```scss\n",
    "@mixin myMixin($color, $fontSize) {\n",
    "  background-color: $color;\n",
    "  color: $color;\n",
    "  font-size: $fontSize;\n",
    "}\n",
    "\n",
    ".my-selector {\n",
    "  @include myMixin(#FF5733, 16px);\n",
    "}\n",
    "```"
   ]
  },
  {
   "attachments": {},
   "cell_type": "markdown",
   "metadata": {},
   "source": [
    "# Function\n",
    "- A toggle button can be created to change the SASS of a website, in the example below, it changes the theme.\n",
    "- SASS functions have a specific syntax: @function name(parameters) { //code @return value; }.\n",
    "- A function can be created to invert RGB colors, subtracting each RGB value from 255.\n",
    "- The invert function is called by specifying its name with parentheses and arguments inside them."
   ]
  },
  {
   "attachments": {},
   "cell_type": "markdown",
   "metadata": {},
   "source": [
    "<p>Click the button below to toggle between light and dark mode:</p>\n",
    "<button onclick=\"invert()\">Click me</button>\n",
    "\n",
    "<script>\n",
    "    function sassHomepage() {\n",
    "        window.location.href = \"/sassy_squad/sass\";\n",
    "    }\n",
    "\n",
    "\n",
    "    function invert() {\n",
    "\n",
    "        document.getElementById(\"invert\").classList.toggle(\"invert\");\n",
    "        document.getElementById(\"bodyInvert\").classList.toggle(\"bodyInvert\");\n",
    "    }\n",
    "\n",
    "\n",
    "</script>"
   ]
  },
  {
   "attachments": {},
   "cell_type": "markdown",
   "metadata": {},
   "source": [
    "# Import\n",
    "- It is important to manage cluttered SASS files.\n",
    "- Splitting the code into multiple files and then importing them into one file is very useful.\n",
    "- To create a separate file, a directory called _sass is to be created.\n",
    "- Recommended to create another SASS file for the specific code to be separated.\n",
    "- Import statement \"@import 'file-name'\" can be used to import the separated file into the main SASS file."
   ]
  },
  {
   "attachments": {},
   "cell_type": "markdown",
   "metadata": {},
   "source": [
    "# SASS Hacks\n",
    "\n",
    "1. Take notes and complete the mini-hacks. (0.9)\n",
    "\n",
    "2. Complete the [quiz questions](https://lwu1822.github.io/sassy_squad/quizQuestions) and provide your answers in this notebook. (0.9)\n",
    "    1. b. A scripting language that has many styling operations\n",
    "    2. a. They are very similar in their function, but their syntax is slightly different\n",
    "    3. \n",
    "    4. a. Systematically Arranged Sample Sheets\n",
    "    5. \n",
    "    6. \n",
    "\n",
    "3. Use SASS to create something that uses either extend or mixin. (0.9)\n",
    "\n",
    "4. Extra credit: Research other SASS features and blog about what you learned or add to your SASS project with any extra features not covered in this lesson. More points will be given if both are done."
   ]
  }
 ],
 "metadata": {
  "language_info": {
   "name": "python"
  },
  "orig_nbformat": 4
 },
 "nbformat": 4,
 "nbformat_minor": 2
}
