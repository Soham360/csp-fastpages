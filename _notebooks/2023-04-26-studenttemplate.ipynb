{
 "cells": [
  {
   "attachments": {},
   "cell_type": "markdown",
   "metadata": {},
   "source": [
    "# P5Y Simulations and SQLite Notes\n",
    "> My notes on the lesson by Drew, Vivian, Aliya, Sri and Sreeja\n",
    "- toc: true\n",
    "- title: Big Idea 3, Simulations and SQLite Lesson Notes\n",
    "- permalink: /bigidea3simsqlite/"
   ]
  },
  {
   "attachments": {},
   "cell_type": "markdown",
   "metadata": {},
   "source": [
    "# Review Topics\n",
    "\n",
    "All of the topics below are things that have been heavily covered and used throughout the class. We will mostly be focusing on more complicated uses and mechanics of these topics.\n",
    "\n",
    "## Lists\n",
    "- What are Lists?\n",
    "    - Lists are an ordered sequence of elements, where each element is a variable\n",
    "    - Unlike dictionaries, lists' keys are all integers that describe the order of the list\n",
    "\n",
    "- Some examples of lists:\n",
    "    -  Playlist of songs\n",
    "    -  names of students in a class\n",
    "    -  contacts on your phone\n",
    "\n",
    "- Each element of a string is referenced by an index (which is a number) and they generally start 0 but for the AP Exam it starts at 1.\n",
    "    - AP Exam: 1,2,3,4 etc.\n",
    "    - Python:  0,1,2,3 etc.\n",
    "\n",
    "**How do lists Manage Complexity of a program?**\n",
    "- We may not need as many variables. For example:\n",
    "    - One Variable that holds all students would be better than having a variable for EACH student\n",
    "    - There can also be a list of test scores so if they need to be curved then the same calculation can be applied to the list (that has all the students) instead of doing the calculations one at a time"
   ]
  },
  {
   "attachments": {},
   "cell_type": "markdown",
   "metadata": {},
   "source": [
    "Answer the following questions about the code block below:\n",
    "\n",
    "- Why do you think lists are helpful? What word does College Board like to use to describe the function of lists?\n",
    "    - Lists store data in them and are useful for storage. Collegeboard likes to use the word \"abstraction\" to describe the function of lists, as complex data structures are simplified."
   ]
  },
  {
   "cell_type": "code",
   "execution_count": 1,
   "metadata": {},
   "outputs": [
    {
     "name": "stdout",
     "output_type": "stream",
     "text": [
      "name Sri Kotturi <class 'str'>\n",
      "age 16 <class 'int'>\n",
      "score 90.0 <class 'float'>\n",
      "\n",
      "langs ['Python', 'JavaScript', 'Java', 'Bash', 'html'] <class 'list'>\n",
      "- langs[2] Java <class 'str'>\n",
      "\n",
      "person {'name': 'Sri Kotturi', 'age': 16, 'score': 90.0, 'langs': ['Python', 'JavaScript', 'Java', 'Bash', 'html']} <class 'dict'>\n",
      "- person[\"name\"] Sri Kotturi <class 'str'>\n"
     ]
    }
   ],
   "source": [
    "# Sample of Python Variables\n",
    "\n",
    "# variable of type string\n",
    "name = \"Sri Kotturi\"\n",
    "print(\"name\", name, type(name))\n",
    "\n",
    "# variable of type integer\n",
    "age = 16\n",
    "print(\"age\", age, type(age))\n",
    "\n",
    "# variable of type float\n",
    "score = 90.0\n",
    "print(\"score\", score, type(score))\n",
    "\n",
    "print()\n",
    "\n",
    "# variable of type list (many values in one variable)\n",
    "langs = [\"Python\", \"JavaScript\", \"Java\", \"Bash\", \"html\"]\n",
    "print(\"langs\", langs, type(langs))\n",
    "print(\"- langs[2]\", langs[2], type(langs[2]))\n",
    "\n",
    "print()\n",
    "\n",
    "# variable of type dictionary (a group of keys and values)\n",
    "person = {\n",
    "    \"name\": name,\n",
    "    \"age\": age,\n",
    "    \"score\": score,\n",
    "    \"langs\": langs\n",
    "}\n",
    "print(\"person\", person, type(person))\n",
    "print('- person[\"name\"]', person[\"name\"], type(person[\"name\"]))"
   ]
  },
  {
   "attachments": {},
   "cell_type": "markdown",
   "metadata": {},
   "source": [
    "## Mathematical Expressions\n",
    "\n",
    "What is the output of the cell below? What Mathematical Expressions do you see being used? (List them below.)\n",
    "- The output of the cell below is 10.\n",
    "- The mathematical expression I see being used is + which adds two inputs. I also see // which means floor division. If the output of (grade 1 + grade)/2 is a decimal, then it rounds down."
   ]
  },
  {
   "cell_type": "code",
   "execution_count": 2,
   "metadata": {},
   "outputs": [
    {
     "name": "stdout",
     "output_type": "stream",
     "text": [
      "10\n"
     ]
    }
   ],
   "source": [
    "grade1 = 10\n",
    "grade2 =  grade1 \n",
    "\n",
    "average_grade = (grade1 + grade2) // 2 #what are these two slashes?\n",
    "\n",
    "print(average_grade)"
   ]
  },
  {
   "attachments": {},
   "cell_type": "markdown",
   "metadata": {},
   "source": [
    "What is the value of num1, num2, and num3? Explain how each number ended up what it was.\n",
    "\n",
    "- The original value of num1 was 2. The value was then changed to num2^num3 which is 4^6. This is 4096 and thats why 4096 was outputted when you run the program.\n",
    "- The original value of num2 was 4. The value was then changed to (num1 + num3)//9. The // symbol means floor division which means it adds num1 and num3 and then divides the sum by 9. If the answer includes a decimal, then it would round down. num1 + num3 is 4097 and when you divide that by 9 and round down, you get 455 and thats why 455 was outputted when you run the program.\n",
    "- The original value of num3 was 6. The value was then changed to num1%5 which is 4096%5. The % symbol represents the mod function which divides num 1 by 5 and then outputs the remainder. In this case, 4096%5 is 1 and thats why 1 was outputted when you run the program."
   ]
  },
  {
   "cell_type": "code",
   "execution_count": 3,
   "metadata": {},
   "outputs": [
    {
     "name": "stdout",
     "output_type": "stream",
     "text": [
      "4096\n",
      "455\n",
      "1\n"
     ]
    }
   ],
   "source": [
    "num1 = 2\n",
    "num2 = 4\n",
    "num3 = 6\n",
    "num1 = num2 ** num3\n",
    "num3 = num1 % 5\n",
    "num2 = (num1 + num3) // 9\n",
    "\n",
    "print(num1)\n",
    "print(num2)\n",
    "print(num3)"
   ]
  },
  {
   "attachments": {},
   "cell_type": "markdown",
   "metadata": {},
   "source": [
    "# Selection\n",
    "Selection refers to the process of **making decisions** in a program based on certain conditions. It is normally done with conditional statements.\n",
    "\n",
    "## Conditionals\n",
    "What is a conditional?:\n",
    "- Statement that allows code to execute different instructions if a certain condition is **true or false**\n",
    "- Allows program to make decisions based on data and input\n",
    "\n",
    "What are the main types of conditional statements?:\n",
    "- if\n",
    "- elif\n",
    "- else\n",
    "\n",
    "### If statements\n",
    "- The if statement is used to check if a certain condition is true. The condition can be any expression that evaulates to a boolean value, True or False. If the condition is True, then it executes a code block. \n",
    "- If (condition) then (consequence)\n",
    "- Example:"
   ]
  },
  {
   "cell_type": "code",
   "execution_count": 4,
   "metadata": {},
   "outputs": [
    {
     "name": "stdout",
     "output_type": "stream",
     "text": [
      "x is positive\n"
     ]
    }
   ],
   "source": [
    "x = int(input(\"Enter a number\"))\n",
    "if x > 0: # if condition, check if this is true of false\n",
    "    print(\"x is positive\") # code that will execute if condition is met"
   ]
  },
  {
   "attachments": {},
   "cell_type": "markdown",
   "metadata": {},
   "source": [
    "### Else\n",
    "- The else statemnt executes a code block when the if condition is False. \n",
    "- If (condition) then (consequence A), else (consequence B)\n",
    "\n",
    "### Elif\n",
    "- The elif statement can check **multiple** conditions in a sequence, and execute a certain block of code if any of the conditions are true. \n",
    "- If (condition) then (consequence A), elif (condition) then (consequence B), else (consequence C)\n",
    "\n",
    "- Example adding onto the code from before to take negative numbers and 0 into account"
   ]
  },
  {
   "cell_type": "code",
   "execution_count": 5,
   "metadata": {},
   "outputs": [
    {
     "name": "stdout",
     "output_type": "stream",
     "text": [
      "x is positive\n"
     ]
    }
   ],
   "source": [
    "x = int(input(\"Enter a number, x:\"))\n",
    "if x > 0: # if condition, check if this is true of false\n",
    "    print(\"x is positive\") # code that will execute if condition is met\n",
    "elif x < 0: # if previous condition not true... elif condition, check if this is true of false\n",
    "    print(\"x is negative\")# code that will execute if condition is met\n",
    "else: # everything else, in this case it is if x == 0 \n",
    "    print(\"x is zero\") # only executes if all previous conditions are not met"
   ]
  },
  {
   "attachments": {},
   "cell_type": "markdown",
   "metadata": {},
   "source": [
    "## Nested Conditionals\n",
    "What is a nested conditional?:\n",
    "- Conditional statement inside another **conditional** statement\n",
    "- Allows to check for more complex condition where one condition depends on another\n",
    "\n",
    "### Nested Conditional Statements\n",
    "- Example"
   ]
  },
  {
   "cell_type": "code",
   "execution_count": 6,
   "metadata": {},
   "outputs": [
    {
     "name": "stdout",
     "output_type": "stream",
     "text": [
      "x is even divisible by 2\n",
      "x is divisible by 3\n"
     ]
    }
   ],
   "source": [
    "x = int(input(\"Enter a number, x:\"))\n",
    "if x % 2 == 0:\n",
    "    print(\"x is even divisible by 2\")\n",
    "    # only ever checks is x is divisble by 3 if x is even. nested conditional\n",
    "    if x % 3 == 0:\n",
    "        print(\"x is divisible by 3\")\n",
    "    else:\n",
    "        print(\"x is not divisible by 3\")\n",
    "else:\n",
    "    print(\"x is odd\")"
   ]
  },
  {
   "attachments": {},
   "cell_type": "markdown",
   "metadata": {},
   "source": [
    "## Indentation\n",
    "When using conditionals and nested conditionals in Python, it is important to pay attention to the **level of indentation** in the code. The code inside the if, elif, and else blocks must be indented so they are nested within the outer statements. This way, Python knows which code belongs to which block. "
   ]
  },
  {
   "attachments": {},
   "cell_type": "markdown",
   "metadata": {},
   "source": [
    "## Binary Search\n",
    "What is binary search and what is it used for?:\n",
    "-  **Searching algorithm**\n",
    "- Find and select a specific element in a sorted list of elements\n",
    "\n",
    "How does binary search work?:\n",
    "- Repeatedly divides the search interval in half to find the middle element and **compares** the middle value to the target value, if not the same then it continues on to either the lower or upper half\n",
    "- Eliminate half of the remaining search interval elements each time\n",
    "- Efficient way to search for element in large dataset\n",
    "\n",
    "What is the time complexity and why?:\n",
    "- O(log(N))\n",
    "- The maximum number of iterations is the amount of times the list can be divided in half until it reaches 1 number\n",
    "- Dividing by 2, so it is log2(N), logarigthm of n base 2\n",
    "\n",
    "- You may recognize the example below from the binary lesson last Friday"
   ]
  },
  {
   "cell_type": "code",
   "execution_count": 7,
   "metadata": {},
   "outputs": [
    {
     "name": "stdout",
     "output_type": "stream",
     "text": [
      "Is your number 50?\n",
      "Is your number 25?\n",
      "Is your number 12?\n",
      "I guessed your number 12!\n"
     ]
    }
   ],
   "source": [
    "import random\n",
    "\n",
    "def binary_search_game():\n",
    "    low = 1\n",
    "    high = 100\n",
    "    target = random.randint(low, high)\n",
    "\n",
    "    while True:\n",
    "        guess = (low + high) // 2\n",
    "        print(f\"Is your number {guess}?\")\n",
    "        response = input(\"Enter 'higher', 'lower', or 'yes': \")\n",
    "\n",
    "        # conditional statements to check target number and guess\n",
    "        if response == 'yes':\n",
    "            print(f\"I guessed your number {guess}!\")\n",
    "            break\n",
    "        elif response == 'higher':\n",
    "            low = guess + 1\n",
    "        elif response == 'lower':\n",
    "            high = guess - 1\n",
    "        else:\n",
    "            print(\"Invalid input, please enter 'higher', 'lower', or 'yes'.\")\n",
    "\n",
    "binary_search_game()"
   ]
  },
  {
   "cell_type": "markdown",
   "metadata": {},
   "source": [
    "## Quick Hack\n",
    "\n",
    "Write a program using conditionals and nested conditionals\n",
    "- Ideas: Quiz, game (rock paper scissors, guess number), etc"
   ]
  },
  {
   "cell_type": "code",
   "execution_count": 8,
   "metadata": {},
   "outputs": [
    {
     "name": "stdout",
     "output_type": "stream",
     "text": [
      "\n",
      "You chose rock, computer chose scissors.\n",
      "\n",
      "Rock beats scissors! You win!\n"
     ]
    }
   ],
   "source": [
    "import random\n",
    "\n",
    "user_action = input(\"Enter a choice (rock, paper, scissors): \")\n",
    "possible_actions = [\"rock\", \"paper\", \"scissors\"]\n",
    "computer_action = random.choice(possible_actions)\n",
    "print(f\"\\nYou chose {user_action}, computer chose {computer_action}.\\n\")\n",
    "\n",
    "if user_action == computer_action:\n",
    "    print(f\"You both chose {user_action}. Try again!\")\n",
    "elif user_action == \"rock\":\n",
    "    if computer_action == \"scissors\":\n",
    "        print(\"Rock beats scissors! You win!\")\n",
    "    else:\n",
    "        print(\"Paper beats rock! You lose.\")\n",
    "elif user_action == \"paper\":\n",
    "    if computer_action == \"rock\":\n",
    "        print(\"Paper beats rock! You win!\")\n",
    "    else:\n",
    "        print(\"Scissors beats paper! You lose.\")\n",
    "elif user_action == \"scissors\":\n",
    "    if computer_action == \"paper\":\n",
    "        print(\"Scissors beats paper! You win!\")\n",
    "    else:\n",
    "        print(\"Rock beats scissors! You lose.\")"
   ]
  },
  {
   "attachments": {},
   "cell_type": "markdown",
   "metadata": {},
   "source": [
    "# Introduction to Algorithms\n",
    "- an algorithm is a **et of instructions** that describes how to solve a problem or perform a specific task using a computer program. \n",
    "- It is a precise sequence of computational steps that take an input and produce an output\n",
    "\n",
    "## How do Algorithms relate to data structures?\n",
    "\n",
    "- Algorithms often rely on specific data structures to **solve problems efficiently**. \n",
    "- Sorting algorithms require a data structure such as an array or a linked list to store and manipulate data.\n",
    "- Searching algorithms such as binary search require data structures like **arrays or trees** to organize and search through data.\n",
    "\n",
    "## Important Terms\n",
    "\n",
    "**What is an algorithm?**\n",
    "- it is a **finite** set of instructions that accomplishes a specific task\n",
    "\n",
    "**Sequencing**\n",
    "- means that there is an **order** in which to do things\n",
    "\n",
    "**Selection**\n",
    "- Helps to choose **two different outcomes** based off of a decision that the programmer wants to make\n",
    "\n",
    "**Iteration**\n",
    "- Repeat something until the condition is met. (also referred to as repetition)\n",
    "\n",
    "## Calling and Developing Procedures\n",
    "- A procedure is a **sequence of instructions** that performs a specific task.\n",
    "- To call a procedure, you need to know its name and any arguments it requires.\n",
    "- When a procedure is called, the program jumps to its instruction and starts executing it.\n",
    "- The arguments passed to a procedure can be used within the procedure to **perform tasks or calculations**.\n",
    "- After the procedure has completed its task, it returns control back to the calling program."
   ]
  },
  {
   "cell_type": "code",
   "execution_count": 9,
   "metadata": {},
   "outputs": [
    {
     "name": "stdout",
     "output_type": "stream",
     "text": [
      "The sum of 5 and 7 is 12\n"
     ]
    }
   ],
   "source": [
    "# Define a procedure that takes two arguments and prints their sum\n",
    "def add_numbers(a, b):\n",
    "    sum = a + b\n",
    "    print(\"The sum of\", a, \"and\", b, \"is\", sum)\n",
    "\n",
    "# Call the procedure with arguments 5 and 7\n",
    "add_numbers(5, 7)"
   ]
  },
  {
   "attachments": {},
   "cell_type": "markdown",
   "metadata": {},
   "source": [
    "- The result of the procedure can be **stored in a variable**, printed to the screen, or used in any other way that is required by the program.\n",
    "- Procedures can be defined within the same program **or in external files**, and can be reused across multiple parts of the program.\n",
    "- To avoid errors and improve code readability, it's important to define and call procedures with proper syntax and conventions that are appropriate for the programming language you're using."
   ]
  },
  {
   "cell_type": "code",
   "execution_count": 10,
   "metadata": {},
   "outputs": [
    {
     "name": "stdout",
     "output_type": "stream",
     "text": [
      "The average of [10, 20, 30, 40, 50] is 30.0\n"
     ]
    }
   ],
   "source": [
    "def calculate_average(numbers):\n",
    "    total = sum(numbers)\n",
    "    count = len(numbers)\n",
    "    average = total / count\n",
    "    return average\n",
    "\n",
    "# Call the procedure with a list of numbers\n",
    "numbers_list = [10, 20, 30, 40, 50]\n",
    "result = calculate_average(numbers_list)\n",
    "\n",
    "# Display the result\n",
    "print(\"The average of\", numbers_list, \"is\", result)"
   ]
  },
  {
   "attachments": {},
   "cell_type": "markdown",
   "metadata": {},
   "source": [
    "## Algorithmic Efficiency\n",
    "- Algorithmic efficiency refers to the amount of **time and resources** needed to execute an algorithm.\n",
    "- The efficiency of an algorithm can be measured in terms of its **time complexity and space complexity**.\n",
    "    - Time complexity refers to the amount of time required by an algorithm to complete its task as a function of its input size.\n",
    "    - Space complexity refers to the **amount of memory** required by an algorithm to complete its task as a function of its input size.\n",
    "    - can be analyzed using **Big O notation**, which provides an upper bound on the worst-case time and space complexity of the algorithm.\n",
    "\n",
    "What is the time complexity of the following code: \n",
    "- O(N)\n",
    "- O(N*log(N))\n",
    "- O(N * Sqrt(N))\n",
    "- O(N*N)"
   ]
  },
  {
   "cell_type": "code",
   "execution_count": null,
   "metadata": {},
   "outputs": [],
   "source": [
    "a = 0\n",
    "for i in range(N):\n",
    "  for j in reversed(range(i, N)):\n",
    "    a = a + i + j"
   ]
  },
  {
   "attachments": {},
   "cell_type": "markdown",
   "metadata": {},
   "source": [
    "The time complexity will be O(N*N) because there is a nested for loop - or two for loops consecutively - which causes the time complexity of N to be squared."
   ]
  },
  {
   "cell_type": "markdown",
   "metadata": {},
   "source": [
    "What will be the time complexity of the following code?\n",
    "\n",
    "- n\n",
    "- (n+1)\n",
    "- n(n-1)\n",
    "- n(n+1)"
   ]
  },
  {
   "cell_type": "code",
   "execution_count": null,
   "metadata": {},
   "outputs": [],
   "source": [
    "value = 0\n",
    "for i in range(n): #iterates \"n\" times, with \"i\" taking on values from 0 to n-1.\n",
    "  for j in range(i): # iterates \"i\" times, with \"j\" taking on values from 0 to i-1.\n",
    "    value=value+1"
   ]
  },
  {
   "attachments": {},
   "cell_type": "markdown",
   "metadata": {},
   "source": [
    "n(n+1) n(n+1) because there are two for loops, and therefore n is iterated through twice. There is also the +1 becaue each time, a value is added by 1."
   ]
  },
  {
   "attachments": {},
   "cell_type": "markdown",
   "metadata": {},
   "source": [
    "- Efficiency can be improved by **optimizing algorithms** or by using more efficient data structures and algorithms.\n",
    "    - Some common techniques for improving efficiency include reducing the **size of the input data**, caching results, and **parallelizing tasks**.\n",
    "    - Understanding algorithmic efficiency is important in software development, as it can impact the performance of applications and their ability to scale with larger data sets."
   ]
  },
  {
   "attachments": {},
   "cell_type": "markdown",
   "metadata": {},
   "source": [
    "# Iteration and Simulations\n",
    "\n",
    "Simulations are **models of real-world phenomena** or systems that use mathematical algorithms and computer programs simulate the real behavior and aspects of the subject being modeled.\n",
    "\n",
    "Simulations are most often used to model **complex or time-consuming things** that would be difficult to test in real life, such as modeling the spread of diseases in certain ecosystems or testing the functionality of a potential product before it is made.\n",
    "\n",
    "In this lesson, we will be looking at lists, iteration, and random values through the lens of simulations.\n",
    "\n",
    "**PLEASE RUN THE CODE BELOW BEFORE INTERACTING WITH THE CODE SEGMENTS IN THIS SECTION!**"
   ]
  },
  {
   "cell_type": "code",
   "execution_count": 13,
   "metadata": {},
   "outputs": [],
   "source": [
    "class Card:\n",
    "    def __init__(self, suit, val):\n",
    "        self.suit = suit\n",
    "        self.val = val\n",
    "        if val == 11:\n",
    "            self.kind = \"Ace\"\n",
    "        elif val == 12:\n",
    "            self.kind = \"Jack\"\n",
    "        elif val == 13:\n",
    "            self.kind = \"Queen\"\n",
    "        elif val == 14:\n",
    "            self.kind = \"King\"\n",
    "        else:\n",
    "            self.kind = str(self.val)\n",
    "\n",
    "    #return a formatted string version of a card\n",
    "    def show(self):\n",
    "        return f\"{self.kind} of {self.suit}\"\n",
    "    \n",
    "    #adjust aces to prevent breaking\n",
    "    def ace_adj(self):\n",
    "        if self.kind == \"Ace\":\n",
    "            self.val = 1"
   ]
  },
  {
   "cell_type": "markdown",
   "metadata": {},
   "source": [
    "## Review: Lists and Iteration\n",
    "\n",
    "Lists and iteration work hand-in-hand to efficiently process and/or modify multiple values at once. In a card game, for example, lists and iteration are used together frequently to make the game work correctly."
   ]
  },
  {
   "attachments": {},
   "cell_type": "markdown",
   "metadata": {},
   "source": [
    "### For Loops\n",
    "\n",
    "For loops are probably the most well-known type of iterative loop used in code. Most of us know about the `for variable in list` format.\n",
    "\n",
    "One helpful tool not a lot of people know about is the `enumerate()` function. When used in conjunction with a for loop, you can always have **access to the index** and value of each selected list entry."
   ]
  },
  {
   "cell_type": "code",
   "execution_count": 14,
   "metadata": {},
   "outputs": [
    {
     "name": "stdout",
     "output_type": "stream",
     "text": [
      "This entry's index is 0, but its value is 3.\n",
      "The difference between the value and the index is 3.\n",
      "This entry's index is 1, but its value is 5.\n",
      "The difference between the value and the index is 4.\n",
      "This entry's index is 2, but its value is 68.\n",
      "The difference between the value and the index is 66.\n",
      "This entry's index is 3, but its value is 203.\n",
      "The difference between the value and the index is 200.\n"
     ]
    }
   ],
   "source": [
    "numlist = [3, 5, 68, 203]\n",
    "\n",
    "for key, num in enumerate(numlist):\n",
    "    print(f\"This entry's index is {str(key)}, but its value is {str(num)}.\")\n",
    "    print(f\"The difference between the value and the index is {num - key}.\")"
   ]
  },
  {
   "attachments": {},
   "cell_type": "markdown",
   "metadata": {},
   "source": [
    "QUESTION: How is the `key, num in enumerate(list)` format similar to the format used when applying a `for` loop to a dictionary?\n",
    "\n",
    "Answer: **When running a for loop to a dictionary, the loop iterates through the keys and values. Similarly, this format iterates through the index and the values, which is like the keys and values of dictionaries.**\n",
    "\n",
    "#### List Comprehension\n",
    "\n",
    "You may also see `for` loops used within a list like below. We went over this in class fairly recently. In this case, it is used to show the cards in the hand of a player."
   ]
  },
  {
   "cell_type": "code",
   "execution_count": 15,
   "metadata": {},
   "outputs": [
    {
     "name": "stdout",
     "output_type": "stream",
     "text": [
      "['Ace of Diamonds']\n"
     ]
    }
   ],
   "source": [
    "player_hand = [] # the player's hand is represented as a list\n",
    "# because lists are mutable (can change), they can be added to, like drawing a card\n",
    "\n",
    "# assume the deck below is a a deck of shuffled cards\n",
    "deck = [Card(\"Hearts\", 3), Card(\"Spades\", 12), Card(\"Diamonds\", 11)]\n",
    "def draw_card(hand, deck):\n",
    "    hand.append(deck.pop())\n",
    "\n",
    "#try it out\n",
    "draw_card(player_hand, deck)\n",
    "print([card.show() for card in player_hand])"
   ]
  },
  {
   "cell_type": "markdown",
   "metadata": {},
   "source": [
    "### Recursive Loops\n",
    "\n",
    "Recursive loops have you calling one function inside of another. If a function must make some change to a certain value multiple times, it is oftem most efficient to have a function call itself with slightly different arguments like the fibonacci sequence below."
   ]
  },
  {
   "cell_type": "code",
   "execution_count": 16,
   "metadata": {},
   "outputs": [
    {
     "data": {
      "text/plain": [
       "5"
      ]
     },
     "execution_count": 16,
     "metadata": {},
     "output_type": "execute_result"
    }
   ],
   "source": [
    "def fibonacci(terms):\n",
    "    if terms <= 1:\n",
    "        return terms\n",
    "    return fibonacci(terms-1) + fibonacci(terms-2)\n",
    "\n",
    "fibonacci(5)"
   ]
  },
  {
   "cell_type": "markdown",
   "metadata": {},
   "source": [
    "#### Nesting Loops\n",
    "\n",
    "Nesting loops increases the time complexity of the program, but it can be used to do things like make a card deck (see below)."
   ]
  },
  {
   "cell_type": "code",
   "execution_count": 17,
   "metadata": {},
   "outputs": [],
   "source": [
    "#the parameter is a list\n",
    "def build(deck):\n",
    "        for suit in [\"Spades\", \"Clubs\", \"Diamonds\", \"Hearts\"]:\n",
    "            for val in range(2, 15): #HINT: try replacing this function\n",
    "                deck.append(Card(suit, val))"
   ]
  },
  {
   "attachments": {},
   "cell_type": "markdown",
   "metadata": {},
   "source": [
    "### While Loops\n",
    "\n",
    "While loops aren't used in the program, but they offer a **different way to repeat** a set of instructions in a program. The procedure below the `while [condition]` line will occur until the condition is made not true.\n",
    "\n",
    "**Student Interaction**: How could this `build` function be altered to function with a **while loop** within it?"
   ]
  },
  {
   "cell_type": "code",
   "execution_count": 18,
   "metadata": {},
   "outputs": [],
   "source": [
    "def build(deck):\n",
    "        for suit in [\"Spades\", \"Clubs\", \"Diamonds\", \"Hearts\"]:\n",
    "            for val in range(2, 15):\n",
    "                deck.append(Card(suit, val))\n",
    "\n",
    "#HINT: you may want to make an incrementing i variable"
   ]
  },
  {
   "cell_type": "markdown",
   "metadata": {},
   "source": [
    "While loops also alter an alternative way to loop a set of instructions forever, until a precise thing occurs to break the loop. See the code below."
   ]
  },
  {
   "cell_type": "code",
   "execution_count": 19,
   "metadata": {},
   "outputs": [
    {
     "name": "stdout",
     "output_type": "stream",
     "text": [
      "It took 12 random generations to get 10.\n"
     ]
    }
   ],
   "source": [
    "import random\n",
    "i = 0\n",
    "\n",
    "while True:\n",
    "    i += 1\n",
    "    ch = random.randint(1, 11)\n",
    "    if ch == 10:\n",
    "        print(f\"It took {str(i)} random generations to get 10.\")\n",
    "        break"
   ]
  },
  {
   "attachments": {},
   "cell_type": "markdown",
   "metadata": {},
   "source": [
    "49 random generations is a lot more than it would normally take, but it's important for code to be able to model unlikely, yet possible scenarios. Speaking of random values...\n",
    "\n",
    "## Random Values\n",
    "\n",
    "Because unpredictable randomness occurs in the real world, it's important to have a way to represent it. Simulations are **able to use randomization**, which could be in the form of random number generation or other methods like `shuffle`.\n",
    "\n",
    "Card decks are a great example of how random values can be used to represent real-world scenarios. In the card simulation, the `random` module's `shuffle` function is used to quite literally shuffle the deck, seen below."
   ]
  },
  {
   "cell_type": "code",
   "execution_count": 20,
   "metadata": {},
   "outputs": [],
   "source": [
    "def shuffle(deck):\n",
    "    random.shuffle(deck)"
   ]
  },
  {
   "attachments": {},
   "cell_type": "markdown",
   "metadata": {},
   "source": [
    "Often, random selection methods use functions like **`randint`** or **`randrange`** as ways to select certain indexes in lists, or might use the random numbers in some other way.\n",
    "\n",
    "**QUESTION:** Without shuffling the card order of the deck, can you think of a way that the aforementioned `random` module functions could be used to get a random card from the deck? Do so in the code cell below.\n",
    "- The `randint` function can be used to randomly generate an index from the deck."
   ]
  },
  {
   "cell_type": "code",
   "execution_count": 21,
   "metadata": {},
   "outputs": [],
   "source": [
    "import random\n",
    "\n",
    "#find another random function that could pull a random card from a deck of UNSORTED cards"
   ]
  },
  {
   "attachments": {},
   "cell_type": "markdown",
   "metadata": {},
   "source": [
    "## Simulation Homework\n",
    "\n",
    "Now that you've learned about simulations and how they're used, it's time to apply that knowledge by creating a (basic) simulation of a real-world scenario. It can be something in nature, like the changes in the wildlife population of a certain area; it can be a game, like Uno (no blackjack though, that's taken); or it can be something completely random and unique.\n",
    "\n",
    "The simulation must include...\n",
    "- Use of at least one random value\n",
    "    - The simulation uses a random value to simulate the dice roll.\n",
    "- At least one list or similar data type (dictionary, set, etc.)\n",
    "    - The simulation uses a list to represent the game board.\n",
    "- Efficient use of iteration (must support the purpose of the simualtion)\n",
    "   - The simulation uses iteration to determine the player's position on the board.\n",
    "- Selection (use of conditionals)\n",
    "    - The simulation uses conditionals to determine the player's position on the board.\n",
    "\n",
    "Do this in your student copy in the cell provided. This is worth 0.9 (or more with extra credit) out of the 3 possible points."
   ]
  },
  {
   "cell_type": "code",
   "execution_count": 22,
   "metadata": {},
   "outputs": [
    {
     "name": "stdout",
     "output_type": "stream",
     "text": [
      "You rolled a 4\n",
      "You are now on Square 4\n",
      "You rolled a 3\n",
      "You are now on Finish\n",
      "Congratulations, you reached the finish!\n"
     ]
    }
   ],
   "source": [
    "# Think about random values. What could they represent in the real world?\n",
    "# (Concert attendance? Wind speeds? Interactions between subjects in large environments?)\n",
    "\n",
    "# Think about the sort of things that could be saved in lists, dictionaries, etc.\n",
    "# (Even better if you can take advantage of the specific features of multiple types of data sets!)\n",
    "\n",
    "# What kind of iteration happens in the real world?\n",
    "# What occurs repeatedly, even over a long period of time?\n",
    "# You could model the results of a disease spreading through a population without it taking IRL years.\n",
    "\n",
    "import random\n",
    "\n",
    "# Set up the game board\n",
    "board = [\"Start\", \"Square 1\", \"Square 2\", \"Square 3\", \"Square 4\", \"Square 5\", \"Finish\"]\n",
    "num_squares = len(board)\n",
    "player_pos = 0\n",
    "\n",
    "# Roll the dice and move the player\n",
    "while player_pos < num_squares - 1:\n",
    "    roll = random.randint(1, 6)\n",
    "    print(\"You rolled a\", roll)\n",
    "    player_pos += roll\n",
    "    if player_pos >= num_squares:\n",
    "        player_pos = num_squares - 1\n",
    "    print(\"You are now on\", board[player_pos])\n",
    "    \n",
    "print(\"Congratulations, you reached the finish!\")\n"
   ]
  },
  {
   "attachments": {},
   "cell_type": "markdown",
   "metadata": {},
   "source": [
    "# Databases \n",
    "We have already gone over databases in this class, but here is a refresher. A database contains data that's **stored in columns and rows**. The information in this database can then be **pulled** from the database and can be used in a program. \n",
    "\n",
    "## Setting Up the Database\n",
    "\n",
    "Run the code cell below to prepare SQLite to create the database. If your system is struggling with the flask functions, verify that you're in the correct Python environment. **REMEMBER: You should only `db.init_app(app)` ONCE during the process!**"
   ]
  },
  {
   "cell_type": "code",
   "execution_count": 23,
   "metadata": {},
   "outputs": [],
   "source": [
    "# flask imports\n",
    "from flask import Flask\n",
    "from flask_sqlalchemy import SQLAlchemy\n",
    "\n",
    "# Setup of key Flask object (app)\n",
    "app = Flask(__name__)\n",
    "# Setup SQLAlchemy object and properties for the database (db)\n",
    "database = 'sqlite:///sqlite.db'  # path and filename of database\n",
    "app.config['SQLALCHEMY_TRACK_MODIFICATIONS'] = False\n",
    "app.config['SQLALCHEMY_DATABASE_URI'] = database\n",
    "app.config['SECRET_KEY'] = 'SECRET_KEY'\n",
    "db = SQLAlchemy()\n",
    "\n",
    "\n",
    "# This belongs in place where it runs once per project\n",
    "db.init_app(app)"
   ]
  },
  {
   "cell_type": "markdown",
   "metadata": {},
   "source": [
    "## The Model File \n",
    "The model file plays a crucial role in the formation of the database. \n",
    "- The model helps to create new databases\n",
    "- It provides a standardized method for formating the database entries across different systems \n",
    "- Objects used within the database are created"
   ]
  },
  {
   "cell_type": "code",
   "execution_count": 24,
   "metadata": {},
   "outputs": [],
   "source": [
    "#importing necessary items\n",
    "import os, base64\n",
    "import json\n",
    "from sqlalchemy.exc import IntegrityError\n",
    "\n",
    "# Define the User class to manage actions in the 'users' table\n",
    "class User(db.Model):\n",
    "    __tablename__ = 'players'  # table name is plural, class name is singular\n",
    "\n",
    "    # Define the User schema with \"vars\" from object\n",
    "    id = db.Column(db.Integer, primary_key=True)\n",
    "    _username = db.Column(db.String(255), unique=False, nullable=False)\n",
    "    _streak = db.Column(db.Integer, unique=True, nullable=False)\n",
    "\n",
    "    # constructor of a User object, initializes the instance variables within object (self)\n",
    "    def __init__(self, username, streak):\n",
    "        self._username = username\n",
    "        self._streak = streak\n",
    "\n",
    "    # a username getter method, extracts username from object\n",
    "    @property\n",
    "    def username(self):\n",
    "        return self._username\n",
    "    \n",
    "    # a setter function, allows username to be updated after initial object creation\n",
    "    @username.setter\n",
    "    def username(self, username):\n",
    "        self._username = username\n",
    "    \n",
    "    # a getter method, extracts streak from object\n",
    "    @property\n",
    "    def streak(self):\n",
    "        return self._streak\n",
    "    \n",
    "    # a setter function, allows streak to be updated after initial object creation\n",
    "    @streak.setter\n",
    "    def streak(self, streak):\n",
    "        self._streak = streak\n",
    "    \n",
    "    # output content using str(object) in human readable form, uses getter\n",
    "    # output content using json dumps, this is ready for API response\n",
    "    def __str__(self):\n",
    "        return json.dumps(self.read())\n",
    "\n",
    "    # CRUD create/add a new record to the table\n",
    "    # returns self or None on error\n",
    "    def create(self):\n",
    "        try:\n",
    "            # creates a person object from User(db.Model) class, passes initializers\n",
    "            db.session.add(self)  # add prepares to persist person object to Users table\n",
    "            db.session.commit()  # SqlAlchemy \"unit of work pattern\" requires a manual commit\n",
    "            return self\n",
    "        except IntegrityError:\n",
    "            db.session.remove()\n",
    "            return None\n",
    "\n",
    "    # CRUD read converts self to dictionary\n",
    "    # returns dictionary\n",
    "    def read(self):\n",
    "        return {\n",
    "            \"id\": self.id,\n",
    "            \"username\": self.username,\n",
    "            \"streak\": self.streak\n",
    "        }\n",
    "\n",
    "    # CRUD update: updates user name, password, phone\n",
    "    # returns self\n",
    "    def update(self, username, streak):\n",
    "        \"\"\"only updates values with length\"\"\"\n",
    "        if len(username) > 0:\n",
    "            self.username = username\n",
    "        if streak > 0:\n",
    "            self.streak = streak\n",
    "        db.session.commit()\n",
    "        return self\n",
    "\n",
    "    # CRUD delete: remove self\n",
    "    # None\n",
    "    def delete(self):\n",
    "        db.session.delete(self)\n",
    "        db.session.commit()\n",
    "        return None\n",
    "\n",
    "\n",
    "\"\"\"Database Creation and Testing \"\"\"\n",
    "\n",
    "# Builds working data for testing\n",
    "def initUsers():\n",
    "    with app.app_context():\n",
    "        \"\"\"Create database and tables\"\"\"\n",
    "        db.create_all()\n",
    "        \"\"\"Tester data for table\"\"\"\n",
    "        u1 = User(username=\"Mr. Cards\", streak=5)\n",
    "        u2 = User(username=\"Kard Kowntre\", streak=10)\n",
    "        u3 = User(username=\"Un Bea Table\", streak=15)\n",
    "\n",
    "        users = [u1, u2, u3]\n",
    "\n",
    "        \"\"\"Builds sample user/note(s) data\"\"\"\n",
    "        for user in users:\n",
    "            try:\n",
    "                user.create()\n",
    "                print(f'Created user with username \"{user.username}\".')\n",
    "            except IntegrityError:\n",
    "                '''fails with bad or duplicate data'''\n",
    "                db.session.remove()\n",
    "                print(f\"Records exist, duplicate email, or error: {user.username}\")"
   ]
  },
  {
   "cell_type": "markdown",
   "metadata": {},
   "source": [
    "## The init Fuction\n",
    "The __init__ method has one purpose which is to initialize the object's attributes. This is what is known as the **constructor**. In our project, the __init__ method initalizes the username and streak as variables. "
   ]
  },
  {
   "cell_type": "code",
   "execution_count": null,
   "metadata": {},
   "outputs": [],
   "source": [
    "    # constructor of a User object, initializes the instance variables within object (self)\n",
    "    def __init__(self, username, streak):\n",
    "        self._username = username\n",
    "        self._score = streak"
   ]
  },
  {
   "attachments": {},
   "cell_type": "markdown",
   "metadata": {},
   "source": [
    "## Setters and Getters \n",
    "Setters and Getters are important methods used when writing code for databases.\n",
    "- **Setter**: a method that allows us to **set or change** the value of an attribute in a class.\n",
    "- **Getter**: a method that allows us to **access** an attribute in a given class.\n",
    "\n",
    "### Setter Example"
   ]
  },
  {
   "cell_type": "code",
   "execution_count": null,
   "metadata": {},
   "outputs": [],
   "source": [
    "# a setter function, allows streak to be updated after initial object creation\n",
    "@streak.setter\n",
    "def streak(self, streak):\n",
    "self._streak = streak"
   ]
  },
  {
   "cell_type": "markdown",
   "metadata": {},
   "source": [
    "### Getter Example"
   ]
  },
  {
   "cell_type": "code",
   "execution_count": null,
   "metadata": {},
   "outputs": [],
   "source": [
    "# a getter method, extracts streak from object\n",
    "@property\n",
    "def streak(self):\n",
    "return self._streak"
   ]
  },
  {
   "attachments": {},
   "cell_type": "markdown",
   "metadata": {},
   "source": [
    "## The Api File \n",
    "An API is an important part of having a functional database. \n",
    "- it acts as a messenger that allows programs to access data from the others \n",
    "- it connects all information \n",
    "- for a database, an api **retrieves** the data requested in code for the user "
   ]
  },
  {
   "cell_type": "code",
   "execution_count": 26,
   "metadata": {},
   "outputs": [],
   "source": [
    "import json\n",
    "from flask import Blueprint, request, jsonify\n",
    "from flask_restful import Api, Resource # used for REST API building\n",
    "\n",
    "user_api = Blueprint('user_api', __name__,\n",
    "                   url_prefix='/api/users')\n",
    "\n",
    "api = Api(user_api)\n",
    "\n",
    "class UserAPI:        \n",
    "    class _CRUD(Resource):  # User API operation for Create, Read.  THe Update, Delete methods need to be implemeented\n",
    "        def post(self): # Create method\n",
    "            ''' Read data for json body '''\n",
    "            body = request.get_json()\n",
    "            \n",
    "            ''' Avoid garbage in, error checking '''\n",
    "            # validate name\n",
    "            username = body.get('username')\n",
    "            if username is None or len(username) < 1:\n",
    "                return {'message': f'Username is missing, or is less than a character'}, 400\n",
    "            # validate uid\n",
    "            streak = body.get('streak')\n",
    "            if streak is None or streak < 1:\n",
    "                return {'message': f'Streak is missing, or is less than 1'}, 400\n",
    "\n",
    "            ''' #1: Key code block, setup USER OBJECT '''\n",
    "            uo = User(username=username, \n",
    "                      streak=streak)\n",
    "            \n",
    "            ''' #2: Key Code block to add user to database '''\n",
    "            # create user in database\n",
    "            user = uo.create()\n",
    "            # success returns json of user\n",
    "            if user:\n",
    "                return jsonify(user.read())\n",
    "            # failure returns error\n",
    "            return {'message': f'Processed {username}, either a format error or a duplicate'}, 400\n",
    "\n",
    "        def get(self): # Read Method\n",
    "            users = User.query.all()    # read/extract all users from database\n",
    "            json_ready = [user.read() for user in users]  # prepare output in json\n",
    "            return jsonify(json_ready)  # jsonify creates Flask response object, more specific to APIs than json.dumps\n",
    "\n",
    "        def put(self):\n",
    "            body = request.get_json() # get the body of the request\n",
    "            id = body.get('id')\n",
    "            username = body.get('username')\n",
    "            streak = body.get('streak') # get the UID (Know what to reference)\n",
    "            user = User.query.get(id) # get the player (using the uid in this case)\n",
    "            user.update(username=username, streak=streak)\n",
    "            return f\"{user.read()} Updated\"\n",
    "\n",
    "        def delete(self):\n",
    "            body = request.get_json()\n",
    "            id = body.get('id')\n",
    "            player = User.query.get(id)\n",
    "            player.delete()\n",
    "            return f\"{player.read()} Has been deleted\"\n",
    "\n",
    "    # building RESTapi endpoint\n",
    "    api.add_resource(_CRUD, '/')"
   ]
  },
  {
   "cell_type": "markdown",
   "metadata": {},
   "source": [
    "This is important particularly in a full flask respository context, but in this case, you'll just need to run the `initUsers()` function."
   ]
  },
  {
   "cell_type": "code",
   "execution_count": 27,
   "metadata": {},
   "outputs": [
    {
     "name": "stdout",
     "output_type": "stream",
     "text": [
      "Created user with username \"Mr. Cards\".\n",
      "Created user with username \"Kard Kowntre\".\n",
      "Created user with username \"Un Bea Table\".\n"
     ]
    }
   ],
   "source": [
    "initUsers()"
   ]
  },
  {
   "cell_type": "markdown",
   "metadata": {},
   "source": [
    "### An Alternative Method of Making SQLite Databases\n",
    "\n",
    "In a previous lesson, we went over using the `cursor` object in SQLite3. Rather than go over all of that here, [this lesson](https://nighthawkcoders.github.io/APCSP//2023/03/16/AP-unit2-4b.html) goes over it thoroughly. (You may use this method for the homework below.)"
   ]
  },
  {
   "cell_type": "markdown",
   "metadata": {},
   "source": [
    "## Database Homework\n",
    "\n",
    "For this assignment, we'd like you to make your own database file as instructed above. Remember, the API file isn't necessary in this case; you'll be focusing on making the model and the `init` function.\n",
    "\n",
    "Your database must include these things:\n",
    "- A class with at least four **attributes** (if not the cursor method)\n",
    "- Setters and getters for this class (if not the cursor method)\n",
    "- Each of the CRUD functions\n",
    "- An `init` function with at least four entries\n",
    "- A screenshot showing proof that your SQLite file has been created correctly\n",
    "\n",
    "Feel free to base your database on the model provided above! Ask our group if you have any questions or concerns."
   ]
  },
  {
   "cell_type": "code",
   "execution_count": 28,
   "metadata": {},
   "outputs": [],
   "source": [
    "# Remember the \"Setting Up the Database\" step!\n",
    "# If you've already run the db.init_app(app) function while in this notebook,\n",
    "# don't do it again until you've closed it!\n",
    "\n",
    "\"\"\" database dependencies to support sqliteDB examples \"\"\"\n",
    "from random import randrange\n",
    "from datetime import date\n",
    "import json\n",
    "\n",
    "from sqlalchemy.exc import IntegrityError\n",
    "from werkzeug.security import generate_password_hash, check_password_hash\n",
    "\n",
    "\n",
    "''' Tutorial: https://www.sqlalchemy.org/library.html#tutorials, try to get into Python shell and follow along '''\n",
    "\n",
    "# Define the Review class to manage actions in the 'reviews' table\n",
    "# -- Object Relational Mapping (ORM) is the key concept of SQLAlchemy\n",
    "# -- a.) db.Model is like an inner layer of the onion in ORM\n",
    "# -- b.) Review represents data we want to store, something that is built on db.Model\n",
    "# -- c.) SQLAlchemy ORM is layer on top of SQLAlchemy Core, then SQLAlchemy engine, SQL\n",
    "class Review(db.Model):\n",
    "    __tablename__ = 'reviews'  # table name is plural, class name is singular\n",
    "\n",
    "    # Define the Review schema with \"vars\" from object\n",
    "    id = db.Column(db.Integer, primary_key=True)\n",
    "    _rname = db.Column(db.String(255), unique=False, nullable=False)\n",
    "    _comment = db.Column(db.Text, unique=False, nullable=False)\n",
    "    _rating = db.Column(db.Integer, unique=False, nullable=False)\n",
    "    _uid = db.Column(db.String(255), unique=True, nullable=False)    \n",
    "\n",
    "    # constructor of a Review object, initializes the instance variables within object (self)\n",
    "    def __init__(self, rname, comment, rating, uid):\n",
    "        self._rname = rname    # variables with self prefix become part of the object, \n",
    "        self._comment = comment\n",
    "        self._rating = rating\n",
    "        self._uid = uid\n",
    "\n",
    "    # a name getter method, extracts name from object\n",
    "    @property\n",
    "    def rname(self):\n",
    "        return self._rname\n",
    "    \n",
    "    # a setter function, allows name to be updated after initial object creation\n",
    "    @rname.setter\n",
    "    def rname(self, rname):\n",
    "        self._rname = rname\n",
    "\n",
    "    # a comment getter method, extracts comment from object\n",
    "    @property\n",
    "    def comment(self):\n",
    "        return self._comment\n",
    "    \n",
    "    # a setter function, allows name to be updated after initial object creation\n",
    "    @comment.setter\n",
    "    def comment(self, comment):\n",
    "        self._comment = comment  \n",
    "\n",
    "    # a getter method, extracts rating from object\n",
    "    @property\n",
    "    def rating(self):\n",
    "        return self._rating\n",
    "    \n",
    "    # a setter function, allows name to be updated after initial object creation\n",
    "    @rating.setter\n",
    "    def rating(self, rating):\n",
    "        self._rating = rating              \n",
    "    \n",
    "    # a getter method, extracts uid from object\n",
    "    @property\n",
    "    def uid(self):\n",
    "        return self._uid\n",
    "    \n",
    "    # a setter function, allows name to be updated after initial object creation\n",
    "    @uid.setter\n",
    "    def uid(self, uid):\n",
    "        self._uid = uid\n",
    "        \n",
    "    # check if uid parameter matches user id in object, return boolean\n",
    "    def is_uid(self, uid):\n",
    "        return self._uid == uid\n",
    "    \n",
    "  \n",
    "    # output content using str(object) in human readable form, uses getter\n",
    "    # output content using json dumps, this is ready for API response\n",
    "    def __str__(self):\n",
    "        return json.dumps(self.read())\n",
    "\n",
    "    # create/add a new record to the table\n",
    "    # returns self or None on error\n",
    "    def create(self):\n",
    "        try:\n",
    "            # creates a reviewer object from Review(db.Model) class, passes initializers\n",
    "            print(\"Inside create\")\n",
    "            db.session.add(self)  # add prepares to persist person object to Reviews table\n",
    "            db.session.commit()  # SqlAlchemy \"unit of work pattern\" requires a manual commit\n",
    "            return self\n",
    "        except IntegrityError:\n",
    "            db.session.remove()\n",
    "            return None\n",
    "\n",
    "    # read converts self to dictionary\n",
    "    # returns dictionary\n",
    "    def read(self):\n",
    "        # entry = db.session.query(Reviews).get(args[\"id\"])\n",
    "        # print(id,self.rname,self.uid,self.comment,self.rating)\n",
    "        return {\n",
    "            \"id\": self.id,\n",
    "            \"rname\": self.rname,\n",
    "            \"comment\":self.comment,\n",
    "            \"rating\":self.rating,\n",
    "            \"uid\": self.uid            \n",
    "        }\n",
    "\n",
    "    # CRUD update: updates comment, rating, uid\n",
    "    # returns self\n",
    "    def put(self,id,comment,rating,uid):\n",
    "        \"\"\"only updates values with length\"\"\"\n",
    "        print(\"inside reviews.py update\") \n",
    "        entry = db.session.query(Review).get(id)\n",
    "        print(\"sent request to update record\", entry)  \n",
    "        print(id,comment,rating,uid)\n",
    "        try:\n",
    "            if entry: \n",
    "                # db.session.update(self)\n",
    "                entry.comment = comment\n",
    "                entry.rating = rating\n",
    "                entry.uid = uid\n",
    "                print(\"updated record\", entry)\n",
    "                db.session.commit()\n",
    "                return entry\n",
    "            else:\n",
    "                return {\"error\": \"entry not found\"}, 404                \n",
    "        except Exception as e:\n",
    "            db.session.rollback()\n",
    "            return {\"error\": f\"server error: {e}\"}, 500            \n",
    "\n",
    "    # CRUD delete: remove self\n",
    "    # None\n",
    "    def delete(id):\n",
    "        # print(\"inside reviews.py delete\", id) \n",
    "        try:\n",
    "            entry = db.session.query(Review).get(id)\n",
    "            if entry: \n",
    "                db.session.delete(entry)\n",
    "                db.session.commit()\n",
    "                print(\"deleted record\", entry)                \n",
    "                return None\n",
    "            else:\n",
    "                return {\"error\": \"entry not found\"}, 404                \n",
    "        except Exception as e:\n",
    "            db.session.rollback()\n",
    "            return {\"error\": f\"server error: {e}\"}, 500\n",
    "\n",
    "\"\"\"Database Creation and Testing \"\"\"\n",
    "\n",
    "\n",
    "# Builds working data for testing\n",
    "def initReviews():\n",
    "    with app.app_context():\n",
    "        \"\"\"Create database and tables\"\"\"\n",
    "        db.create_all()\n",
    "        \"\"\"Tester data for table\"\"\"\n",
    "        u1 = Review(rname='Recipe1', comment='Recipe1 comment', rating=5, uid='toby' )\n",
    "        u2 = Review(rname='Recipe2', comment='Recipe2 comment', rating=6, uid='niko')\n",
    "        u3 = Review(rname='Recipe3', comment='Recipe3 comment', rating=3, uid='lex')\n",
    "        u4 = Review(rname='Recipe4', comment='Recipe4 comment', rating=8, uid='whit')\n",
    "        u5 = Review(rname='Recipe5', comment='Recipe5 comment', rating=10, uid='jm1021')\n",
    "\n",
    "        reviews = [u1, u2, u3, u4, u5]\n",
    "\n",
    "        \"\"\"Builds sample review/comment(s) data\"\"\"\n",
    "        for review in reviews:\n",
    "            try:\n",
    "                review.create()\n",
    "                print(f'Created review with name \"{review.uid}\".')\n",
    "            except IntegrityError:\n",
    "                '''fails with bad or duplicate data'''\n",
    "                db.session.remove()\n",
    "                print(f\"Records exist, duplicate email, or error: {review.uid}\")\n",
    "\n",
    "\n"
   ]
  },
  {
   "cell_type": "code",
   "execution_count": 29,
   "metadata": {},
   "outputs": [],
   "source": [
    "from flask import Blueprint, request, jsonify\n",
    "from flask_restful import Api, Resource # used for REST API building\n",
    "from datetime import datetime\n",
    "\n",
    "review_api = Blueprint('review_api', __name__,\n",
    "                   url_prefix='/api/reviews')\n",
    "\n",
    "# API docs https://flask-restful.readthedocs.io/en/latest/api.html\n",
    "api = Api(review_api)\n",
    "\n",
    "class ReviewAPI:        \n",
    "    class _Create(Resource):\n",
    "        def post(self):\n",
    "            ''' Read data for json body '''\n",
    "            body = request.get_json()\n",
    "            \n",
    "            ''' Avoid garbage in, error checking '''\n",
    "            # validate rname\n",
    "            rname = body.get('rname')\n",
    "            if rname is None or len(rname) < 2:\n",
    "                return {'message': f'Name is missing, or is less than 2 characters'}, 200\n",
    "            # validate uid\n",
    "            uid = body.get('uid')\n",
    "            if uid is None or len(uid) < 2:\n",
    "                return {'message': f'Review ID is missing, or is less than 2 characters'}, 210\n",
    "            comment = body.get('comment')\n",
    "            if comment is None or len(comment) < 2:\n",
    "                return {'message': f'Comment is missing, or is less than 2 characters'}, 220            # validate rname\n",
    "            rating = body.get('rating')\n",
    "            if rating is None or len(rating) < 1 or int(rating) > 10:\n",
    "                return {'message': f'Rating is missing, or is out of range'}, 230\n",
    "\n",
    "            ''' #1: Key code block, setup REVIEW OBJECT '''\n",
    "            uo = Review(rname=rname,\n",
    "                      comment=comment,\n",
    "                      rating=rating,\n",
    "                      uid=uid\n",
    "                      )\n",
    "            \n",
    "           \n",
    "            ''' #2: Key Code block to add review to database '''\n",
    "            # create review in database\n",
    "            review = uo.create()\n",
    "            # success returns json of review\n",
    "            if review:\n",
    "                return jsonify(review.read())\n",
    "            # failure returns error\n",
    "            return {'message': f'Processed {rname}, either a format error or Review ID {uid} is duplicate'}, 240\n",
    "\n",
    "    class _Read(Resource):\n",
    "        def get(self):\n",
    "            reviews = Review.query.all()    # read/extract all reviews from database\n",
    "            json_ready = [review.read() for review in reviews]  # prepare output in json\n",
    "            return jsonify(json_ready)  # jsonify creates Flask response object, more specific to APIs than json.dumps\n",
    "\n",
    "    class _Delete(Resource):\n",
    "        def delete(self):\n",
    "            body = request.get_json()\n",
    "            id = body.get('id')\n",
    "            print(\"inside review.py delete id\", id)\n",
    "            review=Review.delete(id)\n",
    "            if review:\n",
    "                reviews = Review.query.all()    # read/extract all reviews from database\n",
    "                json_ready = [review.read() for review in reviews]  # prepare output in json\n",
    "                return jsonify(json_ready)  # jsonify creates Flask response object, more specific to APIs than json.dumps               \n",
    "\n",
    "    class _Update(Resource):\n",
    "        def put(self):\n",
    "            print(\"inside review.py put\")\n",
    "            body = request.get_json()\n",
    "            id = body.get('id')\n",
    "            comment = body.get('comment')\n",
    "            rating = body.get('rating')\n",
    "            uid = body.get('uid')\n",
    "            # self.id = id\n",
    "            # if len(comment) > 0:\n",
    "            #     self.comment = comment\n",
    "            # if rating >= 10:\n",
    "            #     self.rating = rating    \n",
    "            # if len(uid) > 0:\n",
    "            #     self.uid = uid \n",
    "            print(\"inside review.py update id\", id)\n",
    "            review=Review.put(self, id,comment,rating,uid)\n",
    "            # review=Review.put(id, self.comment, self.rating, self.uid)\n",
    "            if review:\n",
    "                reviews = Review.query.all()    # read/extract all reviews from database\n",
    "                json_ready = [review.read() for review in reviews]  # prepare output in json\n",
    "                return jsonify(json_ready)  # jsonify creates Flask response object, more specific to APIs than json.dumps\n",
    "              \n",
    "    # building RESTapi endpoint\n",
    "    api.add_resource(_Create, '/create')\n",
    "    api.add_resource(_Read, '/')\n",
    "    api.add_resource(_Update, '/update')\n",
    "    api.add_resource(_Delete, '/delete')\n"
   ]
  },
  {
   "cell_type": "code",
   "execution_count": 30,
   "metadata": {},
   "outputs": [
    {
     "name": "stdout",
     "output_type": "stream",
     "text": [
      "Inside create\n",
      "Created review with name \"toby\".\n",
      "Inside create\n",
      "Created review with name \"niko\".\n",
      "Inside create\n",
      "Created review with name \"lex\".\n",
      "Inside create\n",
      "Created review with name \"whit\".\n",
      "Inside create\n",
      "Created review with name \"jm1021\".\n"
     ]
    }
   ],
   "source": [
    "initReviews()"
   ]
  },
  {
   "cell_type": "code",
   "execution_count": 32,
   "metadata": {},
   "outputs": [
    {
     "name": "stdout",
     "output_type": "stream",
     "text": [
      "1 has been added to the list of items.\n"
     ]
    }
   ],
   "source": [
    "import sqlite3\n",
    "\n",
    "def create():\n",
    "   db_file = 'instance/inventory.db'\n",
    "   id = input(\"Enter the id number: \")\n",
    "   name = input(\"Enter the item name: \")\n",
    "   quantity = input(\"Enter the quantity of items available to sell: \")\n",
    "   price = input(\"Enter the price of the item: \")\n",
    "\n",
    "   connection = sqlite3.connect(db_file)\n",
    "   cursor = connection.cursor()\n",
    "\n",
    "\n",
    "   try:\n",
    "       cursor.execute(\"INSERT INTO inventory (id, name, quantity, price) VALUES (?, ?, ?, ?)\", (id, name, quantity, price))\n",
    "       connection.commit()\n",
    "       print(f\"{id} has been added to the list of items.\")\n",
    "              \n",
    "   except sqlite3.Error as error:\n",
    "       print(\"Error while inserting record\", error)\n",
    "\n",
    "\n",
    "   cursor.close()\n",
    "   connection.close()\n",
    "\n",
    "create()"
   ]
  },
  {
   "cell_type": "code",
   "execution_count": 33,
   "metadata": {},
   "outputs": [
    {
     "name": "stdout",
     "output_type": "stream",
     "text": [
      "List of items to sell:\n",
      "id: 1,\n",
      "name: fries,\n",
      "quantity: 9,\n",
      "price: 3.0\n",
      "id: 2,\n",
      "name: test,\n",
      "quantity: 4,\n",
      "price: 4.0\n",
      "id: 3,\n",
      "name: testtesttesttesttest,\n",
      "quantity: 999999,\n",
      "price: 99.0\n",
      "id: 5,\n",
      "name: sandwich,\n",
      "quantity: 3,\n",
      "price: 5.0\n"
     ]
    }
   ],
   "source": [
    "def read():\n",
    "    try:\n",
    "        connection = sqlite3.connect('instance/inventory.db')\n",
    "        cursor = connection.cursor()\n",
    "\n",
    "        cursor.execute(\"SELECT * FROM inventory\")\n",
    "        rows = cursor.fetchall()\n",
    "\n",
    "        if len(rows) > 0:\n",
    "            print(\"List of items to sell:\")\n",
    "            for row in rows:\n",
    "                print(f\"id: {row[0]},\\nname: {row[1]},\\nquantity: {row[2]},\\nprice: {row[3]}\")\n",
    "        else:\n",
    "            print(\"There are no items in the list.\")\n",
    "\n",
    "    except sqlite3.Error as error:\n",
    "        print(\"Error while connecting to the db_file:\", error)\n",
    "\n",
    "    finally:\n",
    "        cursor.close()\n",
    "        connection.close()\n",
    "\n",
    "read()"
   ]
  },
  {
   "cell_type": "code",
   "execution_count": 34,
   "metadata": {},
   "outputs": [
    {
     "name": "stdout",
     "output_type": "stream",
     "text": [
      "Enter the new information for the item:\n",
      "3's record has been updated.\n"
     ]
    }
   ],
   "source": [
    "def update():\n",
    "    db_file = 'instance/inventory.db'\n",
    "    connection = sqlite3.connect(db_file)\n",
    "    cursor = connection.cursor()\n",
    "    \n",
    "    try:\n",
    "        id = input(\"Enter the id of the item to update: \")\n",
    "        \n",
    "        cursor.execute(\"SELECT * FROM inventory WHERE id=?\", (id,))\n",
    "        record = cursor.fetchone()\n",
    "        \n",
    "        if record:\n",
    "            print(\"Enter the new information for the item:\")\n",
    "            name = input(f\"Name: {record[1]}\\nNew name: \")\n",
    "            quantity = input(f\"Quantity: {record[2]}\\nNew quantity: \")\n",
    "            price = input(f\"Price: {record[3]}\\nNew price: \")\n",
    "            \n",
    "            cursor.execute(\"UPDATE inventory SET name=?, quantity=?, price=? WHERE id=?\", (name, quantity, price, id))\n",
    "            connection.commit()\n",
    "            \n",
    "            print(f\"{id}'s record has been updated.\")\n",
    "        \n",
    "        else:\n",
    "            print(f\"No record found for {id}.\")\n",
    "    \n",
    "    except sqlite3.Error as error:\n",
    "        print(\"Error while updating record\", error)\n",
    "    \n",
    "    cursor.close()\n",
    "    connection.close()\n",
    "\n",
    "update()"
   ]
  },
  {
   "cell_type": "code",
   "execution_count": 35,
   "metadata": {},
   "outputs": [
    {
     "name": "stdout",
     "output_type": "stream",
     "text": [
      "3 has been deleted from the list of items.\n"
     ]
    }
   ],
   "source": [
    "def delete():\n",
    "    connection = sqlite3.connect('instance/inventory.db')\n",
    "    cursor = connection.cursor()\n",
    "\n",
    "    id = input(\"Enter the id of the item you want to delete: \")\n",
    "\n",
    "    cursor.execute(\"SELECT * FROM inventory WHERE id=?\", (id,))\n",
    "    row = cursor.fetchone()\n",
    "\n",
    "    if row:\n",
    "        confirm = input(f\"Are you sure you want to delete {id}? (y/n): \")\n",
    "        if confirm.lower() == 'y':\n",
    "            cursor.execute(\"DELETE FROM inventory WHERE id=?\", (id,))\n",
    "            connection.commit()\n",
    "            print(f\"{id} has been deleted from the list of items.\")\n",
    "    else:\n",
    "        print(f\"{id} not found in the list of items.\")\n",
    "\n",
    "    \n",
    "    cursor.close()\n",
    "    connection.close()\n",
    "\n",
    "delete()"
   ]
  },
  {
   "cell_type": "code",
   "execution_count": 36,
   "metadata": {},
   "outputs": [
    {
     "name": "stdout",
     "output_type": "stream",
     "text": [
      "Create Operation\n",
      "9 has been added to the list of items.\n",
      "Read Operation\n",
      "List of items to sell:\n",
      "id: 1,\n",
      "name: fries,\n",
      "quantity: 9,\n",
      "price: 3.0\n",
      "id: 2,\n",
      "name: test,\n",
      "quantity: 4,\n",
      "price: 4.0\n",
      "id: 5,\n",
      "name: sandwich,\n",
      "quantity: 3,\n",
      "price: 5.0\n",
      "id: 9,\n",
      "name: fries,\n",
      "quantity: 69,\n",
      "price: 5.0\n",
      "Update Operation\n",
      "Enter the new information for the item:\n",
      "9's record has been updated.\n",
      "Delete Operation\n",
      "9 has been deleted from the list of items.\n"
     ]
    }
   ],
   "source": [
    "def table():\n",
    "    operation = input(\"Enter: (C)reate (R)ead (U)pdate or (D)elete\")\n",
    "    if operation.lower() == 'c':\n",
    "        print(\"Create Operation\")\n",
    "        create()\n",
    "    elif operation.lower() == 'r':\n",
    "        print(\"Read Operation\")\n",
    "        read()\n",
    "    elif operation.lower() == 'u':\n",
    "        print(\"Update Operation\")\n",
    "        update()\n",
    "    elif operation.lower() == 'd':\n",
    "        print(\"Delete Operation\")\n",
    "        delete()\n",
    "    elif len(operation)==0:\n",
    "        return\n",
    "    else:\n",
    "        print(\"Please enter c, r, u, or d\")\n",
    "    table()\n",
    "\n",
    "try:\n",
    "    table()\n",
    "except:\n",
    "    print(\"Perform Jupyter 'Run All' prior to starting table\")\n",
    "\n",
    "table()"
   ]
  },
  {
   "attachments": {},
   "cell_type": "markdown",
   "metadata": {},
   "source": [
    "# Proof\n",
    "\n",
    "![evidence](https://github.com/Soham360/csp-fastpages/blob/master/images/evidence.png?raw=true)"
   ]
  },
  {
   "cell_type": "markdown",
   "metadata": {},
   "source": [
    "# Grading\n",
    "\n",
    "Your submission will be graded based on the following criteria:\n",
    "- Filling in the blank throughout the lesson and providing code in the given cells when applicable (0.9)\n",
    "- Simulation homework (0.9)\n",
    "- Database homework (0.9)\n",
    "\n",
    "Here are some ideas for ways to increase your score above a 2.7:\n",
    "- Make a frontend version of your simulation that can be interacted with on your blog\n",
    "- Connect your simulation to the database you create\n",
    "- Create a menu that allows a user to make an entry in your database (CRUD functions within it)\n",
    "- You can establish a relationship between two classes/tables in your database (see the relationship between the User and Note classes in the Nighthawk Coders flask repository)"
   ]
  }
 ],
 "metadata": {
  "kernelspec": {
   "display_name": "Python 3.9.12 ('base')",
   "language": "python",
   "name": "python3"
  },
  "language_info": {
   "codemirror_mode": {
    "name": "ipython",
    "version": 3
   },
   "file_extension": ".py",
   "mimetype": "text/x-python",
   "name": "python",
   "nbconvert_exporter": "python",
   "pygments_lexer": "ipython3",
   "version": "3.9.12"
  },
  "orig_nbformat": 4,
  "vscode": {
   "interpreter": {
    "hash": "56f7c0ddbd8295fccb7b65a09bceb7bda050a1a7ed2857cec799e2d3d977289f"
   }
  }
 },
 "nbformat": 4,
 "nbformat_minor": 2
}
