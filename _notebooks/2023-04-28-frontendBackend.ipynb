{
 "cells": [
  {
   "attachments": {},
   "cell_type": "markdown",
   "metadata": {},
   "source": [
    "# P5Y Frontend and Backend Development Notes\n",
    "\n",
    "- toc: true\n",
    "- title: Frontend and Backend Development Lesson Notes"
   ]
  },
  {
   "attachments": {},
   "cell_type": "markdown",
   "metadata": {},
   "source": [
    "# Introduction\n",
    "Frontend and backend are two essential components of a web application. The frontend is the part of the application that interacts with the user, whereas the backend is the part that handles the logic and data processing behind the scenes.\n",
    "\n",
    "The frontend, also known as the client-side, typically consists of HTML, CSS, and JavaScript code that runs in the user's web browser. The frontend handles the user interface, page layout, and overall look of the application. It also handles user interactions, such as submitting forms, clicking buttons, and navigating between pages.\n",
    "\n",
    "On the other hand, the backend, also known as the server-side, typically consists of a server, a database, and, in our case, APIs. The backend handles the processing and storage of data, manages user authentication and authorization, and handles business logic and rules. The backend also communicates with the frontend, providing the necessary data to render the user interface and processing user inputs."
   ]
  },
  {
   "attachments": {},
   "cell_type": "markdown",
   "metadata": {},
   "source": [
    "# Backend\n",
    "In our class we mainly use Python and SQL/JSON to create APIs and databases. Here is a simple example of creating a SQL database and using CRUD as well.\n",
    "\n",
    "## What is CRUD\n",
    "- C: The 'C' stands for create, meaning to create a new entry in a database. In this case, creating a new entry about a certain movie or TV show.\n",
    "\n",
    "- R: Read, or to retrieve data from the database. In this case it is selecting the movie/TV shwo that you choose to display.\n",
    "\n",
    "- U: Update, or changing an existing entry in the database. In this case it is selecting the preexisting movie/TV show and changing the values to match what you want.\n",
    "\n",
    "- D: Delete, or removing data from the database. In this case it is selecting the preexisting movie/TV show and removing the entry from the database.\n",
    "\n",
    "# Films API\n",
    "This API is intended to be used as a list of movies and TV shows that a person has watched. It includes attributes for the Film name(key), the year released, the language, the number of episodes, A list of the number of episodes(using pickletype), and a youtube url for the trailer. The CRUD works as follows:\n",
    "Create: Enter the above mentioned attributes\n",
    "Read: Returns all of the films and their attributes\n",
    "Update: Takes in new episodes watched, and a list of their names, and adds them to their respective attibutes\n",
    "Delete: Option for deleting every film, also takes in a name to delete that film if it exists"
   ]
  },
  {
   "cell_type": "code",
   "execution_count": 19,
   "metadata": {},
   "outputs": [],
   "source": [
    "# Import the Flask and SQLite libraries\n",
    "from flask import Flask\n",
    "import sqlite3\n",
    "\n",
    "app = Flask(__name__)\n",
    "# Connect to the SQLite database using SQLite3\n",
    "conn = sqlite3.connect('films.db')\n",
    "\n",
    "# Create a cursor object to execute SQL commands\n",
    "cursor = conn.cursor()\n",
    "\n",
    "# Create a table in the database\n",
    "cursor.execute('''CREATE TABLE movies\n",
    "                 (id INTEGER PRIMARY KEY, title TEXT, year INTEGER, epcount INTEGER, language TEXT, trailer TEXT, eplist TEXT)''')\n",
    "\n",
    "# Commit the changes to the database and close the connection\n",
    "conn.commit()\n",
    "conn.close()"
   ]
  },
  {
   "cell_type": "code",
   "execution_count": 30,
   "metadata": {},
   "outputs": [
    {
     "name": "stdout",
     "output_type": "stream",
     "text": [
      "Better Call Saul has been added to the list of movies.\n"
     ]
    }
   ],
   "source": [
    "import sqlite3\n",
    "\n",
    "def create():\n",
    "    # Ask the user for movie details\n",
    "    title = input(\"Enter the movie/tv show title: \")\n",
    "    year = input(\"Enter the movie/tv show release year: \")\n",
    "    epcount = input(\"Enter the movie/tv show epcount: \")\n",
    "    language = input(\"Enter the movie/tv show language: \")\n",
    "    eplist = input(\"Enter the movie/tv show episode names: \")\n",
    "    trailer = input(\"Enter the link movie/tv show trailer: \")\n",
    "\n",
    "    # Connect to the database and create a cursor to execute SQL commands\n",
    "    database = 'films.db'\n",
    "    connection = sqlite3.connect(database)\n",
    "    cursor = connection.cursor()\n",
    "\n",
    "    try:\n",
    "        # Execute SQL to insert record into db\n",
    "        cursor.execute(\"INSERT INTO movies (title, year, epcount, language, eplist, trailer) VALUES (?, ?, ?, ?, ?, ?)\", (title, year, epcount, language, eplist, trailer))\n",
    "        # Commit the changes\n",
    "        connection.commit()\n",
    "        print(f\"{title} has been added to the list of movies.\")\n",
    "\n",
    "    except sqlite3.Error as error:\n",
    "        print(\"Error while inserting record:\", error)\n",
    "\n",
    "    # Close cursor and connection\n",
    "    cursor.close()\n",
    "    connection.close()\n",
    "\n",
    "create()"
   ]
  },
  {
   "cell_type": "code",
   "execution_count": 32,
   "metadata": {},
   "outputs": [
    {
     "name": "stdout",
     "output_type": "stream",
     "text": [
      "1. Breaking Bad, 1594, 3, English, https://ricekrispies.com, Snap, Crackle, Pop\n"
     ]
    }
   ],
   "source": [
    "def read(id):\n",
    "    # Connect to the database and create a cursor to execute SQL commands\n",
    "    database = 'films.db'\n",
    "    connection = sqlite3.connect(database)\n",
    "    cursor = connection.cursor()\n",
    "\n",
    "    # Execute SQL to select a record from db by id\n",
    "    cursor.execute(\"SELECT * FROM movies WHERE id=?\", (id,))\n",
    "\n",
    "    # Fetch the record from the cursor\n",
    "    movie = cursor.fetchone()\n",
    "\n",
    "    # If movie exists, print its details, else print message\n",
    "    if movie:\n",
    "        print(f\"{movie[0]}. {movie[1]}, {movie[2]}, {movie[3]}, {movie[4]}, {movie[5]}, {movie[6]}\")\n",
    "    else:\n",
    "        print(\"Movie not found.\")\n",
    "\n",
    "    # Close cursor and connection\n",
    "    cursor.close()\n",
    "    connection.close()\n",
    "\n",
    "read(id=1)"
   ]
  },
  {
   "cell_type": "code",
   "execution_count": 33,
   "metadata": {},
   "outputs": [
    {
     "name": "stdout",
     "output_type": "stream",
     "text": [
      "Movie updated successfully.\n"
     ]
    }
   ],
   "source": [
    "def update(id):\n",
    "    # Connect to the database and create a cursor to execute SQL commands\n",
    "    database = 'films.db'\n",
    "    connection = sqlite3.connect(database)\n",
    "    cursor = connection.cursor()\n",
    "\n",
    "    # Ask the user for movie details to update\n",
    "    title = input(\"Enter the updated movie/tv show title: \")\n",
    "    year = input(\"Enter the updated movie/tv show release year: \")\n",
    "    epcount = input(\"Enter the updated movie/tv show epcount: \")\n",
    "    language = input(\"Enter the updated movie/tv show language: \")\n",
    "    eplist = input(\"Enter the updated movie/tv show episode names: \")\n",
    "    trailer = input(\"Enter the updated link movie/tv show trailer: \")\n",
    "\n",
    "    try:\n",
    "        # Execute SQL to update the record in db\n",
    "        cursor.execute(\"UPDATE movies SET title=?, year=?, epcount=?, language=?, eplist=?, trailer=? WHERE id=?\", (title, year, epcount, language, eplist, trailer, id))\n",
    "        # Commit the changes\n",
    "        connection.commit()\n",
    "        print(\"Movie updated successfully.\")\n",
    "\n",
    "    except sqlite3.Error as error:\n",
    "        print(\"Error while updating record:\", error)\n",
    "\n",
    "    # Close cursor and connection\n",
    "    cursor.close()\n",
    "    connection.close()\n",
    "\n",
    "update(id=1)"
   ]
  },
  {
   "cell_type": "code",
   "execution_count": 31,
   "metadata": {},
   "outputs": [
    {
     "name": "stdout",
     "output_type": "stream",
     "text": [
      "Movie deleted successfully.\n"
     ]
    }
   ],
   "source": [
    "def delete(id):\n",
    "    # Connect to the database and create a cursor to execute SQL commands\n",
    "    database = 'films.db'\n",
    "    connection = sqlite3.connect(database)\n",
    "    cursor = connection.cursor()\n",
    "\n",
    "    try:\n",
    "        # Execute SQL to delete the record from db by id\n",
    "        cursor.execute(\"DELETE FROM movies WHERE id=?\", (id,))\n",
    "        # Commit the changes\n",
    "        connection.commit()\n",
    "        print(\"Movie deleted successfully.\")\n",
    "\n",
    "    except sqlite3.Error as error:\n",
    "        print(\"Error while deleting record:\", error)\n",
    "\n",
    "    # Close cursor and connection\n",
    "    cursor.close()\n",
    "    connection.close()\n",
    "\n",
    "delete(id=2)"
   ]
  },
  {
   "attachments": {},
   "cell_type": "markdown",
   "metadata": {},
   "source": [
    "# Fetching \n",
    "### Overview\n",
    "- Involves retrieving data from a server or database\n",
    "- Can use different HTTP methods, such as GET, POST, PUT, and DELETE, to perform different types of operations on the server.\n",
    "- Fetching can be done through a variety of ways including AJAX, XHR, and Axios\n",
    "- In APCSP we tend to use the Fetch API over anything else\n",
    "- Fetching involves sending a request to a server using a URL (Uniform Resource Locator), which identifies the location of the resource being requested.\n",
    "- Can receive data in various formats, including JSON\n",
    "- JSON data can be parsed into objects and arrays in JavaScript, making it easy to work with and manipulate in the frontend"
   ]
  },
  {
   "attachments": {},
   "cell_type": "markdown",
   "metadata": {},
   "source": [
    "## Python Fetch Using Request"
   ]
  },
  {
   "cell_type": "code",
   "execution_count": 5,
   "metadata": {},
   "outputs": [
    {
     "name": "stdout",
     "output_type": "stream",
     "text": [
      "{'page': 1, 'next': '/titles?page=2', 'entries': 10, 'results': [{'id': 'tt0001922', 'primaryImage': {'id': 'rm736959488', 'width': 800, 'height': 563, 'url': 'https://m.media-amazon.com/images/M/MV5BZDI4MmJiMmMtMzQ3Mi00N2Y0LTlkYmUtYmQ0ZTQ1NzVlZmVjXkEyXkFqcGdeQXVyMDUyOTUyNQ@@._V1_.jpg', 'caption': {'plainText': 'Darwin Karr and Gertrude McCoy in That Winsome Winnie Smile (1911)', '__typename': 'Markdown'}, '__typename': 'Image'}, 'titleType': {'text': 'Short', 'id': 'short', 'isSeries': False, 'isEpisode': False, '__typename': 'TitleType'}, 'titleText': {'text': 'That Winsome Winnie Smile', '__typename': 'TitleText'}, 'releaseYear': {'year': 1911, 'endYear': None, '__typename': 'YearRange'}, 'releaseDate': {'day': 9, 'month': 9, 'year': 1911, '__typename': 'ReleaseDate'}}, {'id': 'tt0001539', 'primaryImage': {'id': 'rm1311052544', 'width': 800, 'height': 582, 'url': 'https://m.media-amazon.com/images/M/MV5BZGY5NzI0MzQtM2EwYi00NzY2LThiYjYtYTM5YmViZDEwMzkzXkEyXkFqcGdeQXVyMDUyOTUyNQ@@._V1_.jpg', 'caption': {'plainText': 'Caïn et Abel (1911)', '__typename': 'Markdown'}, '__typename': 'Image'}, 'titleType': {'text': 'Short', 'id': 'short', 'isSeries': False, 'isEpisode': False, '__typename': 'TitleType'}, 'titleText': {'text': 'Caïn et Abel', '__typename': 'TitleText'}, 'releaseYear': {'year': 1911, 'endYear': None, '__typename': 'YearRange'}, 'releaseDate': {'day': None, 'month': None, 'year': 1911, '__typename': 'ReleaseDate'}}, {'id': 'tt0001636', 'primaryImage': None, 'titleType': {'text': 'Short', 'id': 'short', 'isSeries': False, 'isEpisode': False, '__typename': 'TitleType'}, 'titleText': {'text': 'Galileo', '__typename': 'TitleText'}, 'releaseYear': {'year': 1911, 'endYear': None, '__typename': 'YearRange'}, 'releaseDate': {'day': None, 'month': 7, 'year': 1911, '__typename': 'ReleaseDate'}}, {'id': 'tt0002148', 'primaryImage': {'id': 'rm1303852544', 'width': 700, 'height': 526, 'url': 'https://m.media-amazon.com/images/M/MV5BMWY2ODg0YWEtZDVmYy00OTEwLTkxN2YtYzY5ZmRmNjVlZWYyXkEyXkFqcGdeQXVyMDUyOTUyNQ@@._V1_.jpg', 'caption': {'plainText': \"Fred Mace and Mabel Normand in The Drummer's Vacation (1912)\", '__typename': 'Markdown'}, '__typename': 'Image'}, 'titleType': {'text': 'Short', 'id': 'short', 'isSeries': False, 'isEpisode': False, '__typename': 'TitleType'}, 'titleText': {'text': \"The Drummer's Vacation\", '__typename': 'TitleText'}, 'releaseYear': {'year': 1912, 'endYear': None, '__typename': 'YearRange'}, 'releaseDate': {'day': 23, 'month': 12, 'year': 1912, '__typename': 'ReleaseDate'}}, {'id': 'tt0001702', 'primaryImage': None, 'titleType': {'text': 'Short', 'id': 'short', 'isSeries': False, 'isEpisode': False, '__typename': 'TitleType'}, 'titleText': {'text': \"The Indian Maiden's Lesson\", '__typename': 'TitleText'}, 'releaseYear': {'year': 1911, 'endYear': None, '__typename': 'YearRange'}, 'releaseDate': {'day': 22, 'month': 4, 'year': 1911, '__typename': 'ReleaseDate'}}, {'id': 'tt0001856', 'primaryImage': {'id': 'rm970923264', 'width': 800, 'height': 597, 'url': 'https://m.media-amazon.com/images/M/MV5BYmVhNGZlZTEtNjFmMS00MjEyLThkZmMtMTIwZjRjNzFkYjU3XkEyXkFqcGdeQXVyMDUyOTUyNQ@@._V1_.jpg', 'caption': {'plainText': 'Edwin August and Dorothy West in The Revenue Man and the Girl (1911)', '__typename': 'Markdown'}, '__typename': 'Image'}, 'titleType': {'text': 'Short', 'id': 'short', 'isSeries': False, 'isEpisode': False, '__typename': 'TitleType'}, 'titleText': {'text': 'The Revenue Man and the Girl', '__typename': 'TitleText'}, 'releaseYear': {'year': 1911, 'endYear': None, '__typename': 'YearRange'}, 'releaseDate': {'day': 25, 'month': 9, 'year': 1911, '__typename': 'ReleaseDate'}}, {'id': 'tt0001790', 'primaryImage': {'id': 'rm635370240', 'width': 1748, 'height': 1340, 'url': 'https://m.media-amazon.com/images/M/MV5BMjAzMzQ3MjQxOV5BMl5BanBnXkFtZTgwMDQzNzExMzE@._V1_.jpg', 'caption': {'plainText': 'Eugénie Nau in Les misérables - Époque 1: Jean Valjean (1913)', '__typename': 'Markdown'}, '__typename': 'Image'}, 'titleType': {'text': 'Movie', 'id': 'movie', 'isSeries': False, 'isEpisode': False, '__typename': 'TitleType'}, 'titleText': {'text': 'Les misérables - Époque 1: Jean Valjean', '__typename': 'TitleText'}, 'releaseYear': {'year': 1913, 'endYear': None, '__typename': 'YearRange'}, 'releaseDate': {'day': 3, 'month': 1, 'year': 1913, '__typename': 'ReleaseDate'}}, {'id': 'tt0000543', 'primaryImage': None, 'titleType': {'text': 'Short', 'id': 'short', 'isSeries': False, 'isEpisode': False, '__typename': 'TitleType'}, 'titleText': {'text': 'Christian IXS bisættelse', '__typename': 'TitleText'}, 'releaseYear': {'year': 1906, 'endYear': None, '__typename': 'YearRange'}, 'releaseDate': {'day': 19, 'month': 2, 'year': 1906, '__typename': 'ReleaseDate'}}, {'id': 'tt0002089', 'primaryImage': None, 'titleType': {'text': 'Movie', 'id': 'movie', 'isSeries': False, 'isEpisode': False, '__typename': 'TitleType'}, 'titleText': {'text': 'Carmen', '__typename': 'TitleText'}, 'releaseYear': {'year': 1912, 'endYear': None, '__typename': 'YearRange'}, 'releaseDate': None}, {'id': 'tt0000548', 'primaryImage': None, 'titleType': {'text': 'Short', 'id': 'short', 'isSeries': False, 'isEpisode': False, '__typename': 'TitleType'}, 'titleText': {'text': 'Fiskerliv i Norden', '__typename': 'TitleText'}, 'releaseYear': {'year': 1906, 'endYear': None, '__typename': 'YearRange'}, 'releaseDate': {'day': 15, 'month': 9, 'year': 1906, '__typename': 'ReleaseDate'}}]}\n"
     ]
    }
   ],
   "source": [
    "import requests\n",
    "\n",
    "url = \"https://moviesdatabase.p.rapidapi.com/titles\"\n",
    "\n",
    "headers = {\n",
    "\t\"content-type\": \"application/octet-stream\",\n",
    "\t\"X-RapidAPI-Key\": \"8401db6433msh3a46dd5bf23ad2ep19a280jsn48536a994246\",\n",
    "\t\"X-RapidAPI-Host\": \"moviesdatabase.p.rapidapi.com\"\n",
    "}\n",
    "\n",
    "response = requests.get(url, headers=headers)\n",
    "\n",
    "print(response.json())"
   ]
  },
  {
   "attachments": {},
   "cell_type": "markdown",
   "metadata": {},
   "source": [
    "This is a functional fetch of a movies API from Rapid API, but the data isn't very readable. Below is an example of using Pandas to format the key values as a dataframe."
   ]
  },
  {
   "cell_type": "code",
   "execution_count": 19,
   "metadata": {},
   "outputs": [
    {
     "name": "stdout",
     "output_type": "stream",
     "text": [
      "          id                                    title  release_year\n",
      "0  tt0001922                That Winsome Winnie Smile          1911\n",
      "1  tt0001539                             Caïn et Abel          1911\n",
      "2  tt0001636                                  Galileo          1911\n",
      "3  tt0002148                   The Drummer's Vacation          1912\n",
      "4  tt0001702               The Indian Maiden's Lesson          1911\n",
      "5  tt0001856             The Revenue Man and the Girl          1911\n",
      "6  tt0001790  Les misérables - Époque 1: Jean Valjean          1913\n",
      "7  tt0000543                 Christian IXS bisættelse          1906\n",
      "8  tt0002089                                   Carmen          1912\n",
      "9  tt0000548                       Fiskerliv i Norden          1906\n"
     ]
    }
   ],
   "source": [
    "import requests\n",
    "import pandas as pd\n",
    "\n",
    "url = \"https://moviesdatabase.p.rapidapi.com/titles\"\n",
    "\n",
    "headers = {\n",
    "    \"content-type\": \"application/octet-stream\",\n",
    "    \"X-RapidAPI-Key\": \"8401db6433msh3a46dd5bf23ad2ep19a280jsn48536a994246\",\n",
    "    \"X-RapidAPI-Host\": \"moviesdatabase.p.rapidapi.com\"\n",
    "}\n",
    "\n",
    "response = requests.get(url, headers=headers)\n",
    "data = response.json()\n",
    "\n",
    "# Create an empty DataFrame\n",
    "df = pd.DataFrame()\n",
    "\n",
    "# Extract the required information and store it in a list of dictionaries\n",
    "results = data[\"results\"]\n",
    "entries = []\n",
    "for result in results:\n",
    "    entry = {\n",
    "        \"id\": result[\"id\"],\n",
    "        \"title\": result[\"titleText\"][\"text\"],\n",
    "        \"release_year\": result[\"releaseYear\"][\"year\"],\n",
    "    }\n",
    "    entries.append(entry)\n",
    "\n",
    "# Convert the list of dictionaries into a DataFrame\n",
    "df = pd.DataFrame(entries)\n",
    "\n",
    "print(df)\n",
    "\n",
    "\n",
    "\n",
    "# ADD YOUR OWN COLUMN TO THE DATAFRAME"
   ]
  },
  {
   "attachments": {},
   "cell_type": "markdown",
   "metadata": {},
   "source": [
    "Using Pandas to format a request obtained from a 3rd Party API makes it much easier to read and you can select what you want to display as well. Pandas makes it easy to access data that you feel is important."
   ]
  },
  {
   "attachments": {},
   "cell_type": "markdown",
   "metadata": {},
   "source": [
    "# Backend and Frontend Example"
   ]
  },
  {
   "attachments": {},
   "cell_type": "markdown",
   "metadata": {},
   "source": [
    "# Write notes below"
   ]
  },
  {
   "attachments": {},
   "cell_type": "markdown",
   "metadata": {},
   "source": [
    "## Hacks"
   ]
  },
  {
   "attachments": {},
   "cell_type": "markdown",
   "metadata": {},
   "source": [
    "1. Create a completely unique API with all 4 CRUD features (Create, Read, Update, Delete)\n",
    "2. Create a Fetch API request for your corresponding API\n",
    "3. Attempt a complete website on GitHub Pages including HTML"
   ]
  }
 ],
 "metadata": {
  "kernelspec": {
   "display_name": "base",
   "language": "python",
   "name": "python3"
  },
  "language_info": {
   "codemirror_mode": {
    "name": "ipython",
    "version": 3
   },
   "file_extension": ".py",
   "mimetype": "text/x-python",
   "name": "python",
   "nbconvert_exporter": "python",
   "pygments_lexer": "ipython3",
   "version": "3.9.13"
  },
  "orig_nbformat": 4
 },
 "nbformat": 4,
 "nbformat_minor": 2
}
