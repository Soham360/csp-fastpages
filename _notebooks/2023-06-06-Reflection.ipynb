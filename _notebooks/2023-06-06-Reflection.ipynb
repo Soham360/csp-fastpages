{
 "cells": [
  {
   "attachments": {},
   "cell_type": "markdown",
   "metadata": {},
   "source": [
    "# Reflection\n",
    "> This is a reflection for the APCSP Class\n",
    "\n",
    "- toc: true\n",
    "- categories: []\n",
    "- type: pbl\n",
    "- week: 35"
   ]
  },
  {
   "attachments": {},
   "cell_type": "markdown",
   "metadata": {},
   "source": [
    "# Skills I have obtained\n",
    "I learned many different skills while in APCSP. The most obvious skill is coding. I had a little bit of python experience because I was in the Oak Valley Coding Club in middle school, but I had forgotten most of it by the start of this school year. The first trimester was like a refresher for me and I mainly regained all of the programming knowledge I had forgotten. There were a lot of differences in what I learned in middle school and what I learned in APCSP. First of all, OVCC, we did all our work in PyCharm. It is a code editor created specifically for Python Projects and was good, but lacked a lot of the useful features VSCode has to offer. Another difference is that in APCSP, we used Github. I learned about Github and its usefulness when saving/sharing code. I also learned about Github Pages and Fastpages. These tools allowed me to create my own website for free and is very useful. Finally, I learned about a lot of other languages other than Python such as JavaScript, HTML, CSS, and SASS. HTML and Javascript allowed me to create objects on the frontend that you could interact with. "
   ]
  },
  {
   "attachments": {},
   "cell_type": "markdown",
   "metadata": {},
   "source": [
    "# Highs and Lows from this year\n"
   ]
  },
  {
   "attachments": {},
   "cell_type": "markdown",
   "metadata": {},
   "source": [
    "# Future plans with CompSci\n"
   ]
  },
  {
   "attachments": {},
   "cell_type": "markdown",
   "metadata": {},
   "source": [
    "# Future plans in Education/Career\n"
   ]
  },
  {
   "attachments": {},
   "cell_type": "markdown",
   "metadata": {},
   "source": [
    "# Other"
   ]
  }
 ],
 "metadata": {
  "language_info": {
   "name": "python"
  },
  "orig_nbformat": 4
 },
 "nbformat": 4,
 "nbformat_minor": 2
}
