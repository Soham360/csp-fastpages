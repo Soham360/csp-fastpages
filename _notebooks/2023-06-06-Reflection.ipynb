{
 "cells": [
  {
   "attachments": {},
   "cell_type": "markdown",
   "metadata": {},
   "source": [
    "# Reflection\n",
    "> My APCSP Reflection\n",
    "\n",
    "- toc: true\n",
    "- categories: []\n",
    "- type: pbl\n",
    "- week: 36"
   ]
  },
  {
   "attachments": {},
   "cell_type": "markdown",
   "metadata": {},
   "source": [
    "# Skills I have obtained\n",
    "I learned many different skills while in APCSP. The most obvious skill is coding. I had a little bit of python experience because I was in the Oak Valley Coding Club in middle school, but I had forgotten most of it by the start of this school year. The first trimester was like a refresher for me and I mainly regained all of the programming knowledge I had forgotten. There were a lot of differences in what I learned in middle school and what I learned in APCSP. First of all, OVCC, we did all our work in PyCharm. It is a code editor created specifically for Python Projects and was good, but lacked a lot of the useful features VSCode has to offer. Another difference is that in APCSP, we used Github. I learned about Github and its usefulness when saving/sharing code. I also learned about Github Pages and Fastpages. These tools allowed me to create my own website for free and is very useful. Finally, I learned about a lot of other languages other than Python such as JavaScript, HTML, CSS, and SASS. HTML and Javascript allowed me to create objects on the frontend that you could interact with. This actually helped me understand the code better and let me play with some CSS and SASS settings to change how things looked. Other than just programming skills, I also learned social skills like how to communicate effectively. This is the first class I've had where a lot of the work is done as a group. Everyone had to communicate and put our skills together to make our vision come to life. Overall, I learned a lot of skills this year and I look forward to using this knowledge to help me on my future endeavors.\n",
    "\n",
    "---\n",
    "\n",
    "# Highs and Lows from this year\n",
    "I had a lot of highs this year. A lot of my highs came when my project worked for the first time. This gave me a lot of encouragement, knowing that my project works and my vision is actually happening and coming to life. I put a lot of work in my projects and to see that it works is very reassuring that my work isn't all for nothing. I also enjoyed the Night at The Museum Events. I was able to show off all my hard work throughout the trimester and also see what other people worked on. I was also able to meet with friends from other classes and see their projects. I especially loved the Ceramics projects because people are super creative. At the most recent N@TM, I saw a giant lego figure and I thought it was very impressive.\n",
    "\n",
    "Since I had a lot of highs this year, there has to be some lows. I had a lot of lows this year, mostly from uncooperative teammates. I've had a lot of teammates that didn't contribute anything to any assignment. Due to this, I've had to do 2 to 3 times as much work each trimester to make up for the teammates not doing anything. This led to many nights without as much sleep as I would have wanted. Some other times that there were lows were when we were assigned an assignment with unclear/confusing directions. Sometimes, we interpret something one way, but we were supposed to do it another way. This led to the loss of many points and even though I put a lot of work into every assignment I complete. I didn't get a grade that reflected the amount of work I did.\n",
    "\n",
    "---\n",
    "\n",
    "# Future plans with CompSci\n",
    "I'm going to continue my CompSci Journey\n",
    "\n",
    "---\n",
    "\n",
    "# Future plans in Education/Career\n",
    "\n",
    "\n",
    "---\n",
    "\n",
    "# Improvements for the Class\n",
    "I thought this class was very interesting and fun. However, I do have some improvements for the class so that future students don't struggle as much as me and my classmates did at the beginning. First of all, in the first trimester. The first week was spent setting up tools. Then the next couple weeks were spent learning about Fastpages and HTML. Then we spent a week creating a project in Code.org. Then suddenly we started setting up AWS servers and learning about Flask and APIs and Python. I struggled a lot in the beginning due to this. The learning curve was exponential and the amount of stuff we learned each week was increasing exponentially. This felt like a lot of work, also considering that we can't spend all our time on CSP work. Next year, I suggest leaving the AWS stuff until the second trimester. Instead, I think in the first trimester, after the Code.org week, the students learn about game development in HTML and JS and without any backend. They will learn about all the different tools that HTML has to offer and allows the students to focus on Frontend Development in the first trimester, Backend Development in the second trimester, and study for the AP Exam in the third trimester.\n",
    "\n",
    "Another improvement that I would suggest for this class is having tests in class as practice for the AP Exam. Personally, I had a lot of prior knowledge related to computers, the Internet, and programming in general but I know that the people who didn't, googled all the answer for the practice tests and didn't learn anything and ended up struggling a lot on the AP Exam. I think if there were tests in class that you weren't allowed to use google for, people would have a reason to study and practice and this would improve people's understanding of the topics."
   ]
  }
 ],
 "metadata": {
  "language_info": {
   "name": "python"
  },
  "orig_nbformat": 4
 },
 "nbformat": 4,
 "nbformat_minor": 2
}
