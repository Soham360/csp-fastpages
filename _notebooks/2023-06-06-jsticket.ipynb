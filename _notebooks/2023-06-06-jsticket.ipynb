{
 "cells": [
  {
   "attachments": {},
   "cell_type": "markdown",
   "metadata": {},
   "source": [
    "# JavaScript Projects\n",
    "> Notebook with code\n",
    "\n",
    "- toc: true\n",
    "- categories: []\n",
    "- type: pbl\n",
    "- week: 34"
   ]
  },
  {
   "cell_type": "code",
   "execution_count": 1,
   "metadata": {},
   "outputs": [
    {
     "data": {
      "text/html": [
       "<head>\n",
       "    <!-- load jQuery and DataTables syle and scripts -->\n",
       "    <link rel=\"stylesheet\" type=\"text/css\" href=\"https://cdn.datatables.net/1.13.4/css/jquery.dataTables.min.css\">\n",
       "    <script type=\"text/javascript\" language=\"javascript\" src=\"https://code.jquery.com/jquery-3.6.0.min.js\"></script>\n",
       "    <script>var define = null;</script>\n",
       "    <script type=\"text/javascript\" language=\"javascript\" src=\"https://cdn.datatables.net/1.13.4/js/jquery.dataTables.min.js\"></script>\n",
       "</head>\n",
       "<table id=\"flaskTable\" class=\"table\" style=\"width:100%\">\n",
       "    <thead id=\"flaskHead\">\n",
       "        <tr>\n",
       "            <th>ID</th>\n",
       "            <th>Name</th>\n",
       "            <th>Time</th>\n",
       "        </tr>\n",
       "    </thead>\n",
       "    <tbody id=\"flaskBody\"></tbody>\n",
       "</table>\n",
       "\n",
       "<script>\n",
       "  $(document).ready(function() {\n",
       "    fetch('https://petitepandas.duckdns.org/api/times/', { mode: 'cors' })\n",
       "    .then(response => {\n",
       "      if (!response.ok) {\n",
       "        throw new Error('API response failed');\n",
       "      }\n",
       "      return response.json();\n",
       "    })\n",
       "    .then(data => {\n",
       "      for (const row of data) {\n",
       "        // BUG warning/resolution - DataTable requires row to be single append\n",
       "        $('#flaskBody').append('<tr><td>' + \n",
       "            row.id + '</td><td>' + \n",
       "            row.uid + '</td><td>' + \n",
       "            row.totaltime + '</td></tr>');\n",
       "      }\n",
       "      // BUG warning - Jupyter does not show Datatable controls, works on deployed GitHub pages\n",
       "      $(\"#flaskTable\").DataTable();\n",
       "    })\n",
       "    .catch(error => {\n",
       "      console.error('Error:', error);\n",
       "    });\n",
       "  });\n",
       "</script>\n"
      ],
      "text/plain": [
       "<IPython.core.display.HTML object>"
      ]
     },
     "metadata": {},
     "output_type": "display_data"
    }
   ],
   "source": [
    "%%html\n",
    "<head>\n",
    "    <!-- load jQuery and DataTables syle and scripts -->\n",
    "    <link rel=\"stylesheet\" type=\"text/css\" href=\"https://cdn.datatables.net/1.13.4/css/jquery.dataTables.min.css\">\n",
    "    <script type=\"text/javascript\" language=\"javascript\" src=\"https://code.jquery.com/jquery-3.6.0.min.js\"></script>\n",
    "    <script>var define = null;</script>\n",
    "    <script type=\"text/javascript\" language=\"javascript\" src=\"https://cdn.datatables.net/1.13.4/js/jquery.dataTables.min.js\"></script>\n",
    "</head>\n",
    "<table id=\"flaskTable\" class=\"table\" style=\"width:100%\">\n",
    "    <thead id=\"flaskHead\">\n",
    "        <tr>\n",
    "            <th>ID</th>\n",
    "            <th>Name</th>\n",
    "            <th>Time</th>\n",
    "        </tr>\n",
    "    </thead>\n",
    "    <tbody id=\"flaskBody\"></tbody>\n",
    "</table>\n",
    "\n",
    "<script>\n",
    "  $(document).ready(function() {\n",
    "    fetch('https://petitepandas.duckdns.org/api/times/', { mode: 'cors' })\n",
    "    .then(response => {\n",
    "      if (!response.ok) {\n",
    "        throw new Error('API response failed');\n",
    "      }\n",
    "      return response.json();\n",
    "    })\n",
    "    .then(data => {\n",
    "      for (const row of data) {\n",
    "        // BUG warning/resolution - DataTable requires row to be single append\n",
    "        $('#flaskBody').append('<tr><td>' + \n",
    "            row.id + '</td><td>' + \n",
    "            row.uid + '</td><td>' + \n",
    "            row.totaltime + '</td></tr>');\n",
    "      }\n",
    "      // BUG warning - Jupyter does not show Datatable controls, works on deployed GitHub pages\n",
    "      $(\"#flaskTable\").DataTable();\n",
    "    })\n",
    "    .catch(error => {\n",
    "      console.error('Error:', error);\n",
    "    });\n",
    "  });\n",
    "</script>"
   ]
  }
 ],
 "metadata": {
  "kernelspec": {
   "display_name": "base",
   "language": "python",
   "name": "python3"
  },
  "language_info": {
   "codemirror_mode": {
    "name": "ipython",
    "version": 3
   },
   "file_extension": ".py",
   "mimetype": "text/x-python",
   "name": "python",
   "nbconvert_exporter": "python",
   "pygments_lexer": "ipython3",
   "version": "3.9.12"
  },
  "orig_nbformat": 4
 },
 "nbformat": 4,
 "nbformat_minor": 2
}
