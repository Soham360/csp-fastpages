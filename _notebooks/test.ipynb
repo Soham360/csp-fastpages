{
 "cells": [
  {
   "cell_type": "code",
   "execution_count": null,
   "metadata": {},
   "outputs": [],
   "source": [
    "# from 2022-12-05-final_Iteration_lesson.ipynb\n",
    "\n",
    "info = \"march15\"\n",
    "\n",
    "keyboard = [\n",
    "    [\"`\", \"1\", \"2\", \"3\", \"4\", \"5\", \"6\", \"7\", \"8\", \"9\", \"0\", \"-\", \"=\"],\n",
    "    [\"Q\", \"W\", \"E\", \"R\", \"T\", \"Y\", \"U\", \"I\", \"O\", \"P\", \"[\", \"]\"],\n",
    "    [\"A\", \"S\", \"D\", \"F\", \"G\", \"H\", \"J\", \"K\", \"L\", \";\", \"'\"],\n",
    "    [\"Z\", \"X\", \"C\", \"V\", \"B\", \"N\", \"M\", \",\", \".\", \"/\"]\n",
    "]\n",
    "\n",
    "for row in keyboard:\n",
    "    for item in row:\n",
    "        letterFound = True\n",
    "        for letter in info:\n",
    "            if letter == item.lower():\n",
    "                print(letter.upper(), end = \"\")\n",
    "            else :\n",
    "                letterFound = False\n",
    "        if letterFound == False:\n",
    "            print(\" \", end = \" \")\n",
    "    print()"
   ]
  }
 ],
 "metadata": {
  "language_info": {
   "name": "python"
  },
  "orig_nbformat": 4
 },
 "nbformat": 4,
 "nbformat_minor": 2
}
